{
 "cells": [
  {
   "cell_type": "markdown",
   "metadata": {},
   "source": [
    "# Create datasets\n",
    "## Scalling, Reduction and Feature Selection"
   ]
  },
  {
   "cell_type": "markdown",
   "metadata": {},
   "source": [
    "The original dataset and/or the ballanced ones will be first splitted into separated files as training and test subsets using a **seed**. All the scalling and feature selection will be apply **only on training set**:\n",
    "- *Dataset split*: train, test sets; the train set will be divided into train and validation in future Machine Learning hyperparameter search for the best model with a ML method;\n",
    "- *Scalling* of train set using centering, standardization, etc.;\n",
    "- *Reduction* of train set dimension (after scalling): decrease the number of features using less dimensions/derived features;\n",
    "- *Feature selection* using train set (after scalling): decrease the number of features by keeping only the most important for the classification.\n",
    "\n",
    "Two CSV files will be create for each type of scalling, reduction or feature selection: *tr* - trainin and *ts* - test."
   ]
  },
  {
   "cell_type": "code",
   "execution_count": 1,
   "metadata": {},
   "outputs": [],
   "source": [
    "import numpy as np\n",
    "import pandas as pd\n",
    "import os\n",
    "from sklearn.model_selection import train_test_split # for dataset split\n",
    "\n",
    "from sklearn.preprocessing import MinMaxScaler\n",
    "from sklearn.preprocessing import StandardScaler\n",
    "from sklearn.preprocessing import RobustScaler\n",
    "from sklearn.preprocessing import QuantileTransformer\n",
    "from sklearn.preprocessing import PowerTransformer"
   ]
  },
  {
   "cell_type": "markdown",
   "metadata": {},
   "source": [
    "Let's define the name of the original dataset, the folder and the prefix characters for each scalling, dimension reduction or feature selection. Each transformation will add a prefix to the previous name of the file.\n",
    "\n",
    "**You can used the original dataset that could be unballanced or the ballanced datasets obtained with previous scripts (one file only)!**"
   ]
  },
  {
   "cell_type": "code",
   "execution_count": 2,
   "metadata": {},
   "outputs": [],
   "source": [
    "# Create scalled datasets using normalized MA dataset\n",
    "# Two CSV files will be create for each type of scalling, reduction or feature selection\n",
    "WorkingFolder = './datasets/'\n",
    "\n",
    "# change this with ballanced datasets such as upsampl.ds_MA.csv or downsampl.ds_MA.csv\n",
    "# if you want to run all files, you should modify the entire script by looping all\n",
    "# transformation using a list of input files [original, undersampled, upsampled]\n",
    "sOrigDataSet  = 'ds_MA.csv'\n",
    "\n",
    "# Split details\n",
    "seed = 44          # for reproductibility\n",
    "\n",
    "test_size = 0.25  # train size = 1 - test_size\n",
    "outVar = 'Lij'    # output variable\n",
    "\n",
    "# Scalers: the files as prefix + original name\n",
    "# =================================================\n",
    "# Original (no scaling!), StandardScaler, MinMaxScaler, RobustScaler,\n",
    "# QuantileTransformer (normal), QuantileTransformer(uniform)\n",
    "\n",
    "# scaler prefix for file name\n",
    "#scalerPrefix = ['o', 's', 'm', 'r', 'pyj', 'qn', 'qu']\n",
    "# scalerPrefix = ['o', 's', 'm', 'r']\n",
    "scalerPrefix = ['s']\n",
    "\n",
    "# sklearn scalers\n",
    "#scalerList   = [None, StandardScaler(), MinMaxScaler(),\n",
    "#                RobustScaler(quantile_range=(25, 75)),\n",
    "#                PowerTransformer(method='yeo-johnson'),\n",
    "#                QuantileTransformer(output_distribution='normal'),\n",
    "#                QuantileTransformer(output_distribution='uniform')]\n",
    "\n",
    "# sklearn scalers\n",
    "# scalerList   = [None, StandardScaler(), MinMaxScaler(), RobustScaler()]\n",
    "scalerList   = [StandardScaler()]\n",
    "\n",
    "# Dimension Reductions\n",
    "# ===================\n",
    "# PCA\n",
    "reductionPrefix = 'pca'\n",
    "\n",
    "# Feature selection\n",
    "# =================\n",
    "# RF feature selection, Univariate feature selection using chi-squared test,\n",
    "# Univariate feature selection with mutual information\n",
    "\n",
    "# prefix to add to the processed files for each FS method\n",
    "#FSprefix = ['fs.rf.',\n",
    "#            'fs.univchi.',\n",
    "#            'fs.univmi.']\n",
    "\n",
    "FSprefix = ['fs-rf.']\n",
    "\n",
    "# number of total features for reduction and selection\n",
    "noSelFeatures = 50"
   ]
  },
  {
   "cell_type": "markdown",
   "metadata": {},
   "source": [
    "Start by reading the original dataset:"
   ]
  },
  {
   "cell_type": "code",
   "execution_count": 3,
   "metadata": {},
   "outputs": [
    {
     "name": "stdout",
     "output_type": "stream",
     "text": [
      "-> Reading source dataset: ds_MA.csv ...\n",
      "Columns: 1519 Rows: 12906\n",
      "Done\n"
     ]
    }
   ],
   "source": [
    "print('-> Reading source dataset:',sOrigDataSet,'...')\n",
    "df = pd.read_csv(os.path.join(WorkingFolder, sOrigDataSet))\n",
    "print('Columns:',len(df.columns),'Rows:',len(df))\n",
    "print('Done')"
   ]
  },
  {
   "cell_type": "markdown",
   "metadata": {},
   "source": [
    "## Dataset split\n",
    "\n",
    "First, split the dataset using stratification for non-ballanced datasets: the ratio between the classes is the same in training and test sets."
   ]
  },
  {
   "cell_type": "code",
   "execution_count": 4,
   "metadata": {},
   "outputs": [
    {
     "name": "stdout",
     "output_type": "stream",
     "text": [
      "--> Split of dataset in training and test ...\n",
      "X_train: (9679, 1518)\n",
      "y_train: (9679,)\n",
      "X_test: (3227, 1518)\n",
      "y_test: (3227,)\n",
      "Done!\n"
     ]
    }
   ],
   "source": [
    "# Get features and ouput as dataframes\n",
    "print('--> Split of dataset in training and test ...')\n",
    "X = df.drop(outVar, axis = 1) # remove output variable from input features\n",
    "y = df[outVar]                # get only the output variable\n",
    "\n",
    "# get only the values for features and output (as arrays)\n",
    "Xdata = X.values # get values of features\n",
    "Ydata = y.values # get output values\n",
    "\n",
    "# split data in training and test sets (X = input features, y = output variable)\n",
    "# using a seed, test size (defined above) and stratification for un-ballanced classes\n",
    "X_train, X_test, y_train, y_test = train_test_split(Xdata, Ydata,\n",
    "                                                    test_size=test_size,\n",
    "                                                    random_state=seed,\n",
    "                                                    stratify=Ydata)\n",
    "print('X_train:', X_train.shape)\n",
    "print('y_train:', y_train.shape)\n",
    "print('X_test:', X_test.shape)\n",
    "print('y_test:', y_test.shape)\n",
    "\n",
    "print('Done!')"
   ]
  },
  {
   "cell_type": "markdown",
   "metadata": {},
   "source": [
    "## Dataset scaling\n",
    "\n",
    "Two files will be saved for training and test sets for each scaling including non-scalling dataset."
   ]
  },
  {
   "cell_type": "code",
   "execution_count": 5,
   "metadata": {},
   "outputs": [
    {
     "name": "stdout",
     "output_type": "stream",
     "text": [
      "-> Scaling dataset train and test:\n",
      "--> Scaler: StandardScaler(copy=True, with_mean=True, with_std=True) ...\n",
      "---> Saving training: s.ds_MA_tr.csv  ...\n",
      "---> Saving test: s.ds_MA_ts.csv  ...\n",
      "Done!\n"
     ]
    }
   ],
   "source": [
    "# Scale dataset\n",
    "print('-> Scaling dataset train and test:')\n",
    "\n",
    "for scaler in scalerList: # or scalerPrefix\n",
    "    \n",
    "    # new file name; we will add tr and ts + csv\n",
    "    newFile = scalerPrefix[scalerList.index(scaler)]+'.'+sOrigDataSet[:-4]\n",
    "    \n",
    "    # decide to scale or not\n",
    "    if scaler == None: # if it is the original dataset, do not scale!\n",
    "        print('--> Original (no scaler!) ...')\n",
    "        X_train_transf = X_train # do not modify train set\n",
    "        X_test_transf  = X_test  # do not modify test set\n",
    "        \n",
    "    else:              # if it is not the original dataset, apply scalers\n",
    "        print('--> Scaler:', str(scaler), '...')\n",
    "        X_train_transf = scaler.fit_transform(X_train) # use a scaler to modify only train set\n",
    "        X_test_transf  = scaler.transform(X_test)      # use the same transformation for test set\n",
    "\n",
    "    # Save the training scaled dataset\n",
    "    df_tr_scaler = pd.DataFrame(X_train_transf, columns=X.columns)\n",
    "    df_tr_scaler[outVar]= y_train\n",
    "    newFile_tr = newFile +'_tr.csv'\n",
    "\n",
    "    print('---> Saving training:', newFile_tr, ' ...')\n",
    "    df_tr_scaler.to_csv(os.path.join(WorkingFolder, newFile_tr), index=False)\n",
    "\n",
    "    # Save the test scaled dataset\n",
    "    df_ts_scaler = pd.DataFrame(X_test_transf, columns=X.columns)\n",
    "    df_ts_scaler[outVar]= y_test\n",
    "    newFile_ts = newFile +'_ts.csv'\n",
    "\n",
    "    print('---> Saving test:', newFile_ts, ' ...')\n",
    "    df_ts_scaler.to_csv(os.path.join(WorkingFolder, newFile_ts), index=False)\n",
    "\n",
    "print('Done!')"
   ]
  },
  {
   "cell_type": "code",
   "execution_count": 6,
   "metadata": {},
   "outputs": [
    {
     "data": {
      "text/plain": [
       "array([ 9.38012462e-01, -3.61046970e-02, -3.38916796e+02, ...,\n",
       "       -4.24350032e-16,  2.21888679e-15, -2.26174103e-15])"
      ]
     },
     "execution_count": 6,
     "metadata": {},
     "output_type": "execute_result"
    }
   ],
   "source": [
    "# means of the scaling\n",
    "scaler.mean_"
   ]
  },
  {
   "cell_type": "code",
   "execution_count": 7,
   "metadata": {},
   "outputs": [
    {
     "data": {
      "text/plain": [
       "array([1.28891675e+06, 1.47732542e+02, 9.85131671e+08, ...,\n",
       "       3.55586841e-32, 1.68402045e-30, 9.06104020e-31])"
      ]
     },
     "execution_count": 7,
     "metadata": {},
     "output_type": "execute_result"
    }
   ],
   "source": [
    "# variances of the scaling\n",
    "scaler.var_"
   ]
  },
  {
   "cell_type": "code",
   "execution_count": 8,
   "metadata": {},
   "outputs": [
    {
     "data": {
      "text/plain": [
       "array([1.13530469e+03, 1.21545276e+01, 3.13868073e+04, ...,\n",
       "       1.88570104e-16, 1.29769814e-15, 9.51894962e-16])"
      ]
     },
     "execution_count": 8,
     "metadata": {},
     "output_type": "execute_result"
    }
   ],
   "source": [
    "# s of the scaling\n",
    "scaler.scale_"
   ]
  },
  {
   "cell_type": "markdown",
   "metadata": {},
   "source": [
    "Save to files means, vars and s for StandarScaller (we need these value for the G1 prediction!):"
   ]
  },
  {
   "cell_type": "code",
   "execution_count": 9,
   "metadata": {},
   "outputs": [
    {
     "data": {
      "text/plain": [
       "['./datasets/scaler.save']"
      ]
     },
     "execution_count": 9,
     "metadata": {},
     "output_type": "execute_result"
    }
   ],
   "source": [
    "np.savetxt(os.path.join(WorkingFolder, 'StandardScaler_mean.csv'), scaler.mean_.reshape((-1, 1)).T, delimiter=',')\n",
    "np.savetxt(os.path.join(WorkingFolder, 'StandardScaler_var.csv'), scaler.var_.reshape((-1, 1)).T, delimiter=',')\n",
    "np.savetxt(os.path.join(WorkingFolder, 'StandardScaler_scale.csv'), scaler.scale_.reshape((-1, 1)).T, delimiter=',')\n",
    "\n",
    "# save scaler as file\n",
    "from sklearn.externals import joblib\n",
    "scaler_filename = os.path.join(WorkingFolder, \"scaler.save\") \n",
    "joblib.dump(scaler, scaler_filename)"
   ]
  },
  {
   "cell_type": "markdown",
   "metadata": {},
   "source": [
    "## Dimension reduction\n",
    "\n",
    "PCA will be applied to all the previous scaled/non-scaled datasets because each scaler has a different sensibility to the outliers. The name of the transformed files could contain additional information such as the PCA explained variance. You could obtain different PCA transformed datasets using different variance values (ex: 0.99, 0.98, etc.)."
   ]
  },
  {
   "cell_type": "code",
   "execution_count": 10,
   "metadata": {},
   "outputs": [
    {
     "name": "stdout",
     "output_type": "stream",
     "text": [
      "-> PCA reduction:\n",
      "* s.ds_MA\n",
      "PCA variance  : 0.9902115793034506\n",
      "PCA components: 126\n",
      "----->> Saving transformed dataset ...\n",
      "Done!\n"
     ]
    }
   ],
   "source": [
    "from sklearn.decomposition import PCA\n",
    "\n",
    "# define the PCA variance you need\n",
    "PCA_vars = [0.99]\n",
    "#PCA_vars = [0.99, 0.98, 0.97]\n",
    "# PCA_comps = 50 # no of PCA components\n",
    "\n",
    "# Reduce dimension of scaled datasets + the non-scaled one\n",
    "print('-> PCA reduction:')\n",
    "\n",
    "for prefix in scalerPrefix:   # for each prefix of file (all scaled and non-scaled files)\n",
    "    \n",
    "    # new file name; we will add tr and ts + csv\n",
    "    newFile = prefix+'.'+sOrigDataSet[:-4]\n",
    "    print('*', newFile)\n",
    "        \n",
    "    # read data train and test\n",
    "    newFile_tr = newFile +'_tr.csv'\n",
    "    df_tr = pd.read_csv(os.path.join(WorkingFolder, newFile_tr))\n",
    "    newFile_ts = newFile +'_ts.csv'\n",
    "    df_ts = pd.read_csv(os.path.join(WorkingFolder, newFile_ts))\n",
    "        \n",
    "    X_tr = df_tr.drop(outVar, axis = 1) # remove output variable from input features\n",
    "    y_tr = df_tr[outVar]                # get only the output variable\n",
    "    X_ts = df_ts.drop(outVar, axis = 1) # remove output variable from input features\n",
    "    y_ts = df_ts[outVar]                # get only the output variable\n",
    "\n",
    "    # get only the values for features and output (as arrays)\n",
    "    Xdata_tr = X_tr.values # get values of features\n",
    "    Ydata_tr = y_tr.values # get output values\n",
    "    Xdata_ts = X_ts.values # get values of features\n",
    "    Ydata_ts = y_ts.values # get output values\n",
    "\n",
    "    # for each PCA variance\n",
    "    for PCA_var in PCA_vars:    \n",
    "    \n",
    "        # apply reduction transform to training\n",
    "        #pca = PCA(n_components=noSelFeatures) # use PCA a number of new dimension\n",
    "        pca = PCA(PCA_var) # use PCA a number of new dimension\n",
    "        pca.fit(Xdata_tr)  # get transformation using training dataset\n",
    "        \n",
    "        #print(\"List of variance for each PCA component:\")\n",
    "        #print(pca.explained_variance_ratio_) # list of PCA component variance\n",
    "        print('PCA variance  :', sum(pca.explained_variance_ratio_))\n",
    "        print('PCA components:', pca.n_components_)\n",
    "\n",
    "        # Transform training data for training and test\n",
    "        X_tr_transf = pca.transform(Xdata_tr)\n",
    "        X_ts_transf = pca.transform(Xdata_ts)\n",
    "\n",
    "        # create a dataframe to save as traning and test\n",
    "        df_tr_transf = pd.DataFrame(data = X_tr_transf,\n",
    "                                    columns = [reductionPrefix+str(i) for i in range(1,pca.n_components_+1)])\n",
    "        df_ts_transf = pd.DataFrame(data = X_ts_transf,\n",
    "                                    columns = [reductionPrefix+str(i) for i in range(1,pca.n_components_+1)])\n",
    "\n",
    "        # add output feature values\n",
    "        df_tr_transf = pd.concat([df_tr_transf, y_tr], axis = 1)\n",
    "        df_ts_transf = pd.concat([df_ts_transf, y_ts], axis = 1)\n",
    "\n",
    "        # Save transformed training file\n",
    "        print('----->> Saving transformed dataset ...')\n",
    "        df_tr_transf.to_csv(os.path.join(WorkingFolder, reductionPrefix+str(PCA_var)+'.'+newFile_tr),\n",
    "                            index=False)\n",
    "        df_ts_transf.to_csv(os.path.join(WorkingFolder, reductionPrefix+str(PCA_var)+'.'+newFile_ts),\n",
    "                            index=False)\n",
    "\n",
    "print('Done!')"
   ]
  },
  {
   "cell_type": "markdown",
   "metadata": {},
   "source": [
    "## Model Based Ranking\n",
    "\n",
    "We are applying only the following types of feature selection (FS):\n",
    "1. **RF feature selection** - We can fit a classfier to each feature and rank the predictive power. This method selects the most powerful features individually but ignores the predictive power when features are combined. Random Forest Classifier is used in this case because it is robust, nonlinear, and doesn't require scaling. \n",
    "2. **Univariate feature selection using chi-squared test**.\n",
    "3. **Univariate feature selection with mutual information**.\n",
    "\n",
    "Each dataset will be processed with all the FS methods and training and test files will be generated.\n",
    "\n",
    "*Note: We will not use FS for PCA! Only training set will be used for FS! Univariate methods need positive values as inputs!*\n",
    "\n",
    "This study will use only RF feature selection!"
   ]
  },
  {
   "cell_type": "code",
   "execution_count": 11,
   "metadata": {
    "scrolled": true
   },
   "outputs": [
    {
     "name": "stdout",
     "output_type": "stream",
     "text": [
      "-> FEATURE SELECTION\n",
      "* Drug or Protein features to keep with FS =  25\n",
      "* No of FS methods = 1\n",
      "* No of datasets   = 1\n",
      "* Files to process: ['s.ds_MA_tr.csv']\n"
     ]
    }
   ],
   "source": [
    "# Model Based Ranking\n",
    "# https://www.kaggle.com/dkim1992/feature-selection-ranking\n",
    "from sklearn.ensemble import RandomForestClassifier\n",
    "from sklearn.model_selection import cross_val_score\n",
    "from sklearn.feature_selection import SelectKBest\n",
    "from sklearn.feature_selection import chi2, mutual_info_classif\n",
    "\n",
    "# set no of features for drugs or for proteins (equal no for both types of descriptors)\n",
    "nFeats = int(noSelFeatures/2)\n",
    "\n",
    "# set description of each FS method\n",
    "#FSnames = ['Random Forest feature selection',\n",
    "#           'Univariate Feature Selection',\n",
    "#           'Univariate feature selection with mutual information']\n",
    "\n",
    "FSnames = ['Random Forest feature selection']\n",
    "\n",
    "# set sklearn methods with parameters\n",
    "#FSmethods = [RandomForestClassifier(n_estimators = 50, max_depth = 4, n_jobs = -1),\n",
    "#             SelectKBest(score_func=chi2, k=2),\n",
    "#             SelectKBest(score_func = mutual_info_classif, k=2)]\n",
    "\n",
    "FSmethods = [RandomForestClassifier(n_estimators = 50, max_depth = 4, n_jobs = -1)]\n",
    "\n",
    "print('-> FEATURE SELECTION')\n",
    "print('* Drug or Protein features to keep with FS = ',nFeats)\n",
    "\n",
    "# get the list of files to be processed with FS RF \n",
    "# all training and test files except from PCA and FS!\n",
    "\n",
    "listFiles_tr  = ['s.ds_MA_tr.csv'] # manually set of training files\n",
    "#listFiles_tr = [col for col in os.listdir(WorkingFolder) if ('tr' in col)\n",
    "#                and ('pca' not in col) and ('fs' not in col) and ('o.ds_' not in col)]\n",
    "\n",
    "listFiles_ts  = ['s.ds_MA_ts.csv'] # manually set of test files\n",
    "#listFiles_ts = [col for col in os.listdir(WorkingFolder) if ('ts' in col)\n",
    "#                and ('pca' not in col) and ('fs' not in col) and ('o.ds_' not in col)]\n",
    "\n",
    "print('* No of FS methods =', len(FSmethods))\n",
    "print('* No of datasets   =', len(listFiles_tr))\n",
    "print('* Files to process:', listFiles_tr)"
   ]
  },
  {
   "cell_type": "code",
   "execution_count": 12,
   "metadata": {},
   "outputs": [
    {
     "name": "stdout",
     "output_type": "stream",
     "text": [
      "* Processing:  s.ds_MA_tr.csv | FS method:  Random Forest feature selection\n",
      "---> Reading data: s.ds_MA_tr.csv ...\n",
      "---> Calculate the scores for each feature ...\n",
      "---> Filter the scores for proteins ...\n",
      "---> Filter the scores for drugs ...\n",
      "---> Saving FS train set fs-rf.s.ds_MA_tr.csv ...\n",
      "---> Saving FS test set fs-rf.s.ds_MA_ts.csv ...\n",
      "Done!\n"
     ]
    }
   ],
   "source": [
    "# for each file apply each method of FS\n",
    "# no of resulting FS files = no input files * FS methods\n",
    "for f in range(len(listFiles_tr)):\n",
    "    newFile_tr = listFiles_tr[f]\n",
    "    newFile_ts = listFiles_ts[f]\n",
    "    \n",
    "    # for each file and method\n",
    "    for i in range(len(FSmethods)):\n",
    "        iFSnames   = FSnames[i]\n",
    "        iFSmethods = FSmethods[i]\n",
    "        iFSprefix  = FSprefix[i]\n",
    "        \n",
    "        print('* Processing: ', newFile_tr, '| FS method: ', iFSnames)\n",
    "    \n",
    "        # define the output files for FS RF as fsrf. + input file\n",
    "        newFile_FS_tr = iFSprefix + newFile_tr\n",
    "        newFile_FS_ts = iFSprefix + newFile_ts\n",
    "        \n",
    "        #### ADD checking if files exists, do not calculate again ???\n",
    "        #### ADD time for each transformation and print it ???\n",
    "        \n",
    "        # TRY - EXCEPT for possible errors\n",
    "        ### UNIV works only with positive X values!!!!!!!!!!!!!!!!\n",
    "        #try:\n",
    "        # read training set\n",
    "        print('---> Reading data:', newFile_tr, '...')\n",
    "        df_tr = pd.read_csv(os.path.join(WorkingFolder, newFile_tr))\n",
    "        X_tr = df_tr.drop(outVar, axis = 1) # remove output variable from input features\n",
    "        y_tr = df_tr[outVar]                # get only the output variable\n",
    "\n",
    "        # for each method apply a specific function defined in iFSmethods\n",
    "        print('---> Calculate the scores for each feature ...')\n",
    "\n",
    "        # get the the scores using 10-fold CV\n",
    "        scores = []\n",
    "        FS = iFSmethods\n",
    "\n",
    "        num_features = len(X_tr.columns)\n",
    "        for i in range(num_features):\n",
    "            # there are different evaluations for each FS method!\n",
    "            if iFSnames==FSnames[0]: # for RF\n",
    "                col = X_tr.columns[i]\n",
    "                score = np.mean(cross_val_score(FS, X_tr[col].values.reshape(-1,1), y_tr, cv=10))\n",
    "          \n",
    "            # for all FS methods, append the scores\n",
    "            scores.append((int(score*100), col))\n",
    "\n",
    "        # create a dataframe with RF scores for each feature\n",
    "        df_scores = pd.DataFrame(sorted(scores, reverse = True), columns=['FS_score','FeatureName'])\n",
    "\n",
    "        # PROCESS PROTEIN DESCRIPTORS\n",
    "        # ----------------------------------\n",
    "        # get only the list for protein descriptors or define them manually!\n",
    "        protein_descriptors = [col for col in X_tr.columns if ('CHOC' in col) or ('BIGC' in col)\n",
    "                                or ('CHAM' in col) or ('comp_' in col) ]\n",
    "\n",
    "        # create a dataframe with these names for proteins only\n",
    "        df_prot_descr = pd.DataFrame(protein_descriptors, columns=['FeatureName'])\n",
    "\n",
    "        print('---> Filter the scores for proteins ...')\n",
    "        # Get score only for proteins: merge feature names for protein with the score\n",
    "        df_protein_scores = pd.merge(df_prot_descr, df_scores, on=['FeatureName'])\n",
    "        df_protein_scores_sorted = df_protein_scores.sort_values('FS_score', ascending=False)\n",
    "\n",
    "        # get the best nFeats prot descriptors\n",
    "        BestProteinFeatures = list(df_protein_scores_sorted.FeatureName[:nFeats])\n",
    "\n",
    "        # PROCESS DRUG DESCRIPTORS\n",
    "        # ---------------------------------\n",
    "        # get the list of drug descriptors or create it manually!\n",
    "        drug_descriptors = [col for col in X_tr.columns if col not in protein_descriptors]\n",
    "\n",
    "        # create a dataframe with these names for proteins only\n",
    "        df_drug_descr = pd.DataFrame(drug_descriptors, columns=['FeatureName'])\n",
    "\n",
    "        print('---> Filter the scores for drugs ...')\n",
    "        # Get score for proteins: merge feature names for protein with the score\n",
    "        df_drug_scores = pd.merge(df_drug_descr, df_scores, on=['FeatureName'])\n",
    "        df_drug_scores_sorted = df_drug_scores.sort_values('FS_score', ascending=False)\n",
    "\n",
    "        # get the best nFeats drug descriptors\n",
    "        BestDrugFeatures =list(df_drug_scores_sorted.FeatureName[:nFeats])\n",
    "\n",
    "        # Get the list with drug and protein descriptors for the RF FS dataset\n",
    "        BestRFDescriptors = [y for x in [BestDrugFeatures, BestProteinFeatures] for y in x]\n",
    "\n",
    "        # Add output feature Lij\n",
    "        BestRFDescriptors.append('Lij')\n",
    "\n",
    "        # create feature selection dataframe\n",
    "        nds_fs = df_tr[BestRFDescriptors]\n",
    "\n",
    "        # Save feature selected training dataset\n",
    "        print('---> Saving FS train set', newFile_FS_tr,'...')\n",
    "        nds_fs.to_csv(os.path.join(WorkingFolder, newFile_FS_tr), index=False)\n",
    "\n",
    "        # get the same columns from the TS set and write the file!\n",
    "        # read test set\n",
    "        df_ts = pd.read_csv(os.path.join(WorkingFolder, newFile_ts))\n",
    "\n",
    "        # limit to only the selected features + output variable\n",
    "        df_ts = df_ts[BestRFDescriptors]\n",
    "\n",
    "        # Save feature selected test set\n",
    "        print('---> Saving FS test set', newFile_FS_ts,'...')\n",
    "        df_ts.to_csv(os.path.join(WorkingFolder, newFile_FS_ts), index=False)\n",
    "        #except:\n",
    "            #print('!!! Error:', newFile_FS_tr)\n",
    "\n",
    "print('Done!')"
   ]
  },
  {
   "cell_type": "markdown",
   "metadata": {},
   "source": [
    "The univariate method produced stange output, so we eliminated these methods of FS from the script.\n",
    "\n",
    "You could different FS methods!\n",
    "https://www.kaggle.com/dkim1992/feature-selection-ranking\n",
    "\n",
    "In the next step, all the datasets will be used with baseline Machine Learning models."
   ]
  },
  {
   "cell_type": "markdown",
   "metadata": {},
   "source": [
    "Let's check if we have descriptors selected from all experimental conditions:"
   ]
  },
  {
   "cell_type": "code",
   "execution_count": 13,
   "metadata": {},
   "outputs": [
    {
     "data": {
      "text/html": [
       "<div>\n",
       "<style scoped>\n",
       "    .dataframe tbody tr th:only-of-type {\n",
       "        vertical-align: middle;\n",
       "    }\n",
       "\n",
       "    .dataframe tbody tr th {\n",
       "        vertical-align: top;\n",
       "    }\n",
       "\n",
       "    .dataframe thead th {\n",
       "        text-align: right;\n",
       "    }\n",
       "</style>\n",
       "<table border=\"1\" class=\"dataframe\">\n",
       "  <thead>\n",
       "    <tr style=\"text-align: right;\">\n",
       "      <th></th>\n",
       "      <th>FeatureName</th>\n",
       "      <th>FS_score</th>\n",
       "    </tr>\n",
       "  </thead>\n",
       "  <tbody>\n",
       "    <tr>\n",
       "      <th>40</th>\n",
       "      <td>MA-BIGC670101.lag11-STANDARD_TYPE_UNITSj</td>\n",
       "      <td>83</td>\n",
       "    </tr>\n",
       "    <tr>\n",
       "      <th>107</th>\n",
       "      <td>MA-comp_W-STANDARD_TYPE_UNITSj</td>\n",
       "      <td>83</td>\n",
       "    </tr>\n",
       "    <tr>\n",
       "      <th>42</th>\n",
       "      <td>MA-BIGC670101.lag13-STANDARD_TYPE_UNITSj</td>\n",
       "      <td>83</td>\n",
       "    </tr>\n",
       "    <tr>\n",
       "      <th>86</th>\n",
       "      <td>MA-CHAM810101.lag27-STANDARD_TYPE_UNITSj</td>\n",
       "      <td>83</td>\n",
       "    </tr>\n",
       "    <tr>\n",
       "      <th>32</th>\n",
       "      <td>MA-BIGC670101.lag3-STANDARD_TYPE_UNITSj</td>\n",
       "      <td>83</td>\n",
       "    </tr>\n",
       "  </tbody>\n",
       "</table>\n",
       "</div>"
      ],
      "text/plain": [
       "                                  FeatureName  FS_score\n",
       "40   MA-BIGC670101.lag11-STANDARD_TYPE_UNITSj        83\n",
       "107            MA-comp_W-STANDARD_TYPE_UNITSj        83\n",
       "42   MA-BIGC670101.lag13-STANDARD_TYPE_UNITSj        83\n",
       "86   MA-CHAM810101.lag27-STANDARD_TYPE_UNITSj        83\n",
       "32    MA-BIGC670101.lag3-STANDARD_TYPE_UNITSj        83"
      ]
     },
     "execution_count": 13,
     "metadata": {},
     "output_type": "execute_result"
    }
   ],
   "source": [
    "df_protein_scores_sorted.head()"
   ]
  },
  {
   "cell_type": "code",
   "execution_count": 14,
   "metadata": {},
   "outputs": [
    {
     "data": {
      "text/html": [
       "<div>\n",
       "<style scoped>\n",
       "    .dataframe tbody tr th:only-of-type {\n",
       "        vertical-align: middle;\n",
       "    }\n",
       "\n",
       "    .dataframe tbody tr th {\n",
       "        vertical-align: top;\n",
       "    }\n",
       "\n",
       "    .dataframe thead th {\n",
       "        text-align: right;\n",
       "    }\n",
       "</style>\n",
       "<table border=\"1\" class=\"dataframe\">\n",
       "  <thead>\n",
       "    <tr style=\"text-align: right;\">\n",
       "      <th></th>\n",
       "      <th>FeatureName</th>\n",
       "      <th>FS_score</th>\n",
       "    </tr>\n",
       "  </thead>\n",
       "  <tbody>\n",
       "    <tr>\n",
       "      <th>24</th>\n",
       "      <td>MA-C1SP1-STANDARD_TYPE_UNITSj</td>\n",
       "      <td>83</td>\n",
       "    </tr>\n",
       "    <tr>\n",
       "      <th>108</th>\n",
       "      <td>MA-khs.sBr-STANDARD_TYPE_UNITSj</td>\n",
       "      <td>83</td>\n",
       "    </tr>\n",
       "    <tr>\n",
       "      <th>94</th>\n",
       "      <td>MA-khs.tN-STANDARD_TYPE_UNITSj</td>\n",
       "      <td>83</td>\n",
       "    </tr>\n",
       "    <tr>\n",
       "      <th>95</th>\n",
       "      <td>MA-khs.dsN-STANDARD_TYPE_UNITSj</td>\n",
       "      <td>83</td>\n",
       "    </tr>\n",
       "    <tr>\n",
       "      <th>32</th>\n",
       "      <td>MA-C4SP3-STANDARD_TYPE_UNITSj</td>\n",
       "      <td>83</td>\n",
       "    </tr>\n",
       "  </tbody>\n",
       "</table>\n",
       "</div>"
      ],
      "text/plain": [
       "                         FeatureName  FS_score\n",
       "24     MA-C1SP1-STANDARD_TYPE_UNITSj        83\n",
       "108  MA-khs.sBr-STANDARD_TYPE_UNITSj        83\n",
       "94    MA-khs.tN-STANDARD_TYPE_UNITSj        83\n",
       "95   MA-khs.dsN-STANDARD_TYPE_UNITSj        83\n",
       "32     MA-C4SP3-STANDARD_TYPE_UNITSj        83"
      ]
     },
     "execution_count": 14,
     "metadata": {},
     "output_type": "execute_result"
    }
   ],
   "source": [
    "df_drug_scores_sorted.head()"
   ]
  },
  {
   "cell_type": "markdown",
   "metadata": {},
   "source": [
    "Save to files ordered scores for drugs and proteins:"
   ]
  },
  {
   "cell_type": "code",
   "execution_count": 15,
   "metadata": {},
   "outputs": [],
   "source": [
    "df_protein_scores_sorted.to_csv(os.path.join(WorkingFolder, \"scores_proteins.csv\"), index=False)\n",
    "df_drug_scores_sorted.to_csv(os.path.join(WorkingFolder, \"scores_drugs.csv\"), index=False)"
   ]
  },
  {
   "cell_type": "markdown",
   "metadata": {},
   "source": [
    "The most important 50 features are only from 'STANDARD_TYPE_UNITSj'. Therefore, we change the selection: get the best 10 descriptors for each experimental condition (for proteins and drugs):"
   ]
  },
  {
   "cell_type": "code",
   "execution_count": 16,
   "metadata": {},
   "outputs": [],
   "source": [
    "# experimental condition\n",
    "ExperimCondList = ['STANDARD_TYPE_UNITSj','ASSAY_CHEMBLID','ASSAY_TYPE','ASSAY_ORGANISM','ORGANISM','TARGET_CHEMBLID']\n",
    "nbestExper = 10 # number of best features for each experimental condition (10 x 6 = 60 total features)"
   ]
  },
  {
   "cell_type": "markdown",
   "metadata": {},
   "source": [
    "Important note: 'ASSAY_ORGANISM' contains 'ORGANISM'. Therefore, in our future string search, we are using '-'+experimental condition (to avoid confusion)."
   ]
  },
  {
   "cell_type": "code",
   "execution_count": 73,
   "metadata": {},
   "outputs": [
    {
     "name": "stdout",
     "output_type": "stream",
     "text": [
      "60\n",
      "['MA-C1SP1-STANDARD_TYPE_UNITSj', 'MA-khs.sBr-STANDARD_TYPE_UNITSj', 'MA-khs.tN-STANDARD_TYPE_UNITSj', 'MA-khs.dsN-STANDARD_TYPE_UNITSj', 'MA-C4SP3-STANDARD_TYPE_UNITSj', 'MA-khs.ddssS-STANDARD_TYPE_UNITSj', 'MA-khs.aaS-STANDARD_TYPE_UNITSj', 'MA-khs.ssssC-STANDARD_TYPE_UNITSj', 'MA-MDEC.44-STANDARD_TYPE_UNITSj', 'MA-khs.tsC-STANDARD_TYPE_UNITSj', 'MA-khs.dsN-ASSAY_CHEMBLID', 'MA-khs.aaS-ASSAY_CHEMBLID', 'MA-C3SP3-ASSAY_CHEMBLID', 'MA-MDEN.11-ASSAY_CHEMBLID', 'MA-khs.dsCH-ASSAY_CHEMBLID', 'MA-MDEO.12-ASSAY_CHEMBLID', 'MA-WPATH-ASSAY_CHEMBLID', 'MA-khs.aasN-ASSAY_CHEMBLID', 'MA-LipinskiFailures-ASSAY_CHEMBLID', 'MA-PetitjeanNumber-ASSAY_CHEMBLID', 'MA-MDEC.23-ASSAY_TYPE', 'MA-MDEC.33-ASSAY_TYPE', 'MA-MDEN.11-ASSAY_TYPE', 'MA-khs.tsC-ASSAY_TYPE', 'MA-SP.1-ASSAY_TYPE', 'MA-SP.2-ASSAY_TYPE', 'MA-SP.4-ASSAY_TYPE', 'MA-SP.5-ASSAY_TYPE', 'MA-VP.1-ASSAY_TYPE', 'MA-VP.5-ASSAY_TYPE', 'MA-naAromAtom-ASSAY_ORGANISM', 'MA-ATSm1-ASSAY_ORGANISM', 'MA-SP.0-ASSAY_ORGANISM', 'MA-SP.5-ASSAY_ORGANISM', 'MA-SP.4-ASSAY_ORGANISM', 'MA-SP.3-ASSAY_ORGANISM', 'MA-SP.2-ASSAY_ORGANISM', 'MA-SP.1-ASSAY_ORGANISM', 'MA-SPC.5-ASSAY_ORGANISM', 'MA-VP.0-ASSAY_ORGANISM', 'MA-nB-ORGANISM', 'MA-SCH.6-ORGANISM', 'MA-ATSp5-ORGANISM', 'MA-ATSm4-ORGANISM', 'MA-VCH.5-ORGANISM', 'MA-SPC.6-ORGANISM', 'MA-ATSm3-ORGANISM', 'MA-ATSm2-ORGANISM', 'MA-ATSm1-ORGANISM', 'MA-naAromAtom-ORGANISM', 'MA-topoShape-TARGET_CHEMBLID', 'MA-PetitjeanNumber-TARGET_CHEMBLID', 'MA-MDEO.22-TARGET_CHEMBLID', 'MA-MDEN.11-TARGET_CHEMBLID', 'MA-MDEN.12-TARGET_CHEMBLID', 'MA-MDEN.13-TARGET_CHEMBLID', 'MA-MDEN.23-TARGET_CHEMBLID', 'MA-MDEN.33-TARGET_CHEMBLID', 'MA-LipinskiFailures-TARGET_CHEMBLID', 'MA-VAdjMat-TARGET_CHEMBLID']\n"
     ]
    }
   ],
   "source": [
    "drug_MAs = list(df_drug_scores_sorted['FeatureName'])\n",
    "BestDrugFeaturesByExper = []\n",
    "for experim in ExperimCondList:\n",
    "    BestDrugFeaturesByExper += [col for col in drug_MAs if ('-'+experim in col)][:nbestExper]\n",
    "    \n",
    "print(len(BestDrugFeaturesByExper))\n",
    "print(BestDrugFeaturesByExper)"
   ]
  },
  {
   "cell_type": "code",
   "execution_count": 74,
   "metadata": {},
   "outputs": [
    {
     "name": "stdout",
     "output_type": "stream",
     "text": [
      "60\n",
      "['MA-BIGC670101.lag11-STANDARD_TYPE_UNITSj', 'MA-comp_W-STANDARD_TYPE_UNITSj', 'MA-BIGC670101.lag13-STANDARD_TYPE_UNITSj', 'MA-CHAM810101.lag27-STANDARD_TYPE_UNITSj', 'MA-BIGC670101.lag3-STANDARD_TYPE_UNITSj', 'MA-BIGC670101.lag23-STANDARD_TYPE_UNITSj', 'MA-comp_D-STANDARD_TYPE_UNITSj', 'MA-CHOC760101.lag17-STANDARD_TYPE_UNITSj', 'MA-BIGC670101.lag29-STANDARD_TYPE_UNITSj', 'MA-CHOC760101.lag2-STANDARD_TYPE_UNITSj', 'MA-CHAM810101.lag14-ASSAY_CHEMBLID', 'MA-CHAM810101.lag3-ASSAY_CHEMBLID', 'MA-CHAM810101.lag13-ASSAY_CHEMBLID', 'MA-CHAM810101.lag12-ASSAY_CHEMBLID', 'MA-CHAM810101.lag11-ASSAY_CHEMBLID', 'MA-CHAM810101.lag10-ASSAY_CHEMBLID', 'MA-CHAM810101.lag8-ASSAY_CHEMBLID', 'MA-CHAM810101.lag7-ASSAY_CHEMBLID', 'MA-CHAM810101.lag5-ASSAY_CHEMBLID', 'MA-CHAM810101.lag4-ASSAY_CHEMBLID', 'MA-CHAM810101.lag3-ASSAY_TYPE', 'MA-CHAM810101.lag14-ASSAY_TYPE', 'MA-CHAM810101.lag13-ASSAY_TYPE', 'MA-CHAM810101.lag12-ASSAY_TYPE', 'MA-CHAM810101.lag11-ASSAY_TYPE', 'MA-CHAM810101.lag10-ASSAY_TYPE', 'MA-CHAM810101.lag9-ASSAY_TYPE', 'MA-CHAM810101.lag8-ASSAY_TYPE', 'MA-CHAM810101.lag7-ASSAY_TYPE', 'MA-CHAM810101.lag6-ASSAY_TYPE', 'MA-comp_V-ASSAY_ORGANISM', 'MA-comp_W-ASSAY_ORGANISM', 'MA-comp_Y-ASSAY_ORGANISM', 'MA-CHOC760101.lag1-ASSAY_ORGANISM', 'MA-comp_T-ASSAY_ORGANISM', 'MA-comp_S-ASSAY_ORGANISM', 'MA-CHAM810101.lag5-ASSAY_ORGANISM', 'MA-CHAM810101.lag17-ASSAY_ORGANISM', 'MA-CHAM810101.lag15-ASSAY_ORGANISM', 'MA-CHAM810101.lag14-ASSAY_ORGANISM', 'MA-CHAM810101.lag15-ORGANISM', 'MA-CHAM810101.lag11-ORGANISM', 'MA-CHAM810101.lag12-ORGANISM', 'MA-CHAM810101.lag13-ORGANISM', 'MA-CHAM810101.lag14-ORGANISM', 'MA-BIGC670101.lag29-ORGANISM', 'MA-CHAM810101.lag16-ORGANISM', 'MA-CHAM810101.lag17-ORGANISM', 'MA-CHAM810101.lag9-ORGANISM', 'MA-CHAM810101.lag18-ORGANISM', 'MA-comp_S-TARGET_CHEMBLID', 'MA-CHOC760101.lag27-TARGET_CHEMBLID', 'MA-CHAM810101.lag10-TARGET_CHEMBLID', 'MA-CHAM810101.lag21-TARGET_CHEMBLID', 'MA-CHAM810101.lag20-TARGET_CHEMBLID', 'MA-CHAM810101.lag19-TARGET_CHEMBLID', 'MA-CHAM810101.lag18-TARGET_CHEMBLID', 'MA-CHAM810101.lag17-TARGET_CHEMBLID', 'MA-CHAM810101.lag16-TARGET_CHEMBLID', 'MA-CHAM810101.lag15-TARGET_CHEMBLID']\n"
     ]
    }
   ],
   "source": [
    "prot_MAs = list(df_protein_scores_sorted['FeatureName'])\n",
    "BestProteinFeaturesByExper = []\n",
    "for experim in ExperimCondList:\n",
    "    BestProteinFeaturesByExper += [col for col in prot_MAs if ('-'+experim in col)][:nbestExper]\n",
    "\n",
    "print(len(BestProteinFeaturesByExper))\n",
    "print(BestProteinFeaturesByExper)"
   ]
  },
  {
   "cell_type": "code",
   "execution_count": 75,
   "metadata": {},
   "outputs": [
    {
     "data": {
      "text/plain": [
       "set()"
      ]
     },
     "execution_count": 75,
     "metadata": {},
     "output_type": "execute_result"
    }
   ],
   "source": [
    "# check repeated column names\n",
    "l = list(BestDrugFeaturesByExper)\n",
    "set([x for x in l if l.count(x) > 1])"
   ]
  },
  {
   "cell_type": "code",
   "execution_count": 76,
   "metadata": {},
   "outputs": [
    {
     "name": "stdout",
     "output_type": "stream",
     "text": [
      "120\n"
     ]
    }
   ],
   "source": [
    "# Get the list with drug and protein descriptors for the RF FS dataset\n",
    "BestRFDescriptors = []\n",
    "BestRFDescriptors += BestDrugFeaturesByExper\n",
    "BestRFDescriptors += BestProteinFeaturesByExper\n",
    "print(len(BestRFDescriptors))"
   ]
  },
  {
   "cell_type": "code",
   "execution_count": 77,
   "metadata": {},
   "outputs": [
    {
     "name": "stdout",
     "output_type": "stream",
     "text": [
      "---> Saving FS train set fs-rf.s.ds_MA_tr.csv ...\n",
      "---> Saving FS test set fs-rf.s.ds_MA_ts.csv ...\n",
      "Done!\n"
     ]
    }
   ],
   "source": [
    "# Add output feature Lij\n",
    "BestRFDescriptors.append('Lij')\n",
    "\n",
    "# create feature selection dataframe\n",
    "nds_fs = df_tr[BestRFDescriptors]\n",
    "\n",
    "# Save feature selected training dataset\n",
    "print('---> Saving FS train set', newFile_FS_tr,'...')\n",
    "nds_fs.to_csv(os.path.join(WorkingFolder, newFile_FS_tr), index=False)\n",
    "\n",
    "# get the same columns from the TS set and write the file!\n",
    "# read test set\n",
    "df_ts = pd.read_csv(os.path.join(WorkingFolder, newFile_ts))\n",
    "\n",
    "# limit to only the selected features + output variable\n",
    "df_ts = df_ts[BestRFDescriptors]\n",
    "\n",
    "# Save feature selected test set\n",
    "print('---> Saving FS test set', newFile_FS_ts,'...')\n",
    "df_ts.to_csv(os.path.join(WorkingFolder, newFile_FS_ts), index=False)\n",
    "\n",
    "print('Done!')"
   ]
  },
  {
   "cell_type": "markdown",
   "metadata": {},
   "source": [
    "The dataset with 120 selected features will be used for ML!"
   ]
  },
  {
   "cell_type": "code",
   "execution_count": 78,
   "metadata": {},
   "outputs": [
    {
     "data": {
      "text/plain": [
       "set()"
      ]
     },
     "execution_count": 78,
     "metadata": {},
     "output_type": "execute_result"
    }
   ],
   "source": [
    "# check repeated column names\n",
    "l = list(BestRFDescriptors)\n",
    "set([x for x in l if l.count(x) > 1])"
   ]
  },
  {
   "cell_type": "code",
   "execution_count": null,
   "metadata": {},
   "outputs": [],
   "source": []
  }
 ],
 "metadata": {
  "kernelspec": {
   "display_name": "Python 3",
   "language": "python",
   "name": "python3"
  },
  "language_info": {
   "codemirror_mode": {
    "name": "ipython",
    "version": 3
   },
   "file_extension": ".py",
   "mimetype": "text/x-python",
   "name": "python",
   "nbconvert_exporter": "python",
   "pygments_lexer": "ipython3",
   "version": "3.5.2"
  }
 },
 "nbformat": 4,
 "nbformat_minor": 2
}
