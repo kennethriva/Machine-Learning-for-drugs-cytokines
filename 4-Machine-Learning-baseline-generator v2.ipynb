{
 "cells": [
  {
   "cell_type": "markdown",
   "metadata": {},
   "source": [
    "Modify with linear classifiers and increasing SVC linear time. Use of ds_utils_v2.py!"
   ]
  },
  {
   "cell_type": "markdown",
   "metadata": {},
   "source": [
    "# Machine Learning Baseline Generator\n",
    "\n",
    "This is the first script to use a set of ML method with default parameters in order to obtain baseline results. We will use the following *sklearn* classifiers:\n",
    "\n",
    "1. KNeighborsClassifier - Nearest Neighbors\n",
    "2. GaussianNB - Gaussian Naive Bayes\n",
    "3. LinearSVC - Linear Support vector machine (SVM)\n",
    "4. SVC - Support vector machine (SVM) with Radial Basis Functions (RBF)\n",
    "5. LogisticRegression - Logistic regression\n",
    "6. MLPClassifier - Multi-Layer Perceptron (MLP) / Neural Networks\n",
    "7. AdaBoostClassifier - AdaBoost\n",
    "8. DecisionTreeClassifier - Decision Trees\n",
    "9. RandomForestClassifier - Random Forest\n",
    "10. GradientBoostingClassifier - Gradient Boosting\n",
    "11. BaggingClassifier - ensemble meta-estimator Bagging\n",
    "12. XGBClassifier - XGBoost\n",
    "\n",
    "*Note: More advanced hyperparameter search will be done in future scripts!*"
   ]
  },
  {
   "cell_type": "code",
   "execution_count": 1,
   "metadata": {},
   "outputs": [],
   "source": [
    "# import scripts\n",
    "from ds_utils_v2 import *\n",
    "# import warnings\n",
    "# warnings.filterwarnings(\"ignore\")"
   ]
  },
  {
   "cell_type": "markdown",
   "metadata": {},
   "source": [
    "In this notebook we will show the chosen procedure for the Machine Learning baseline generator.\n",
    "The first step is to create a list of train and test datasets which will be used to generate and estimae a set of performances of more common used algorithms. In order to have a wide approximation several metrics will be used for every model.\n",
    "\n",
    "### Step 1 - List of datasets and classifiers\n",
    "So as a first step lets define a list o datasets."
   ]
  },
  {
   "cell_type": "code",
   "execution_count": 2,
   "metadata": {},
   "outputs": [
    {
     "name": "stdout",
     "output_type": "stream",
     "text": [
      "* Files to use for ML baseline generator:\n",
      "Training sets:\n",
      " ['s.ds_MA_tr.csv', 'fs-rf.s.ds_MA_tr.csv', 'pca0.99.s.ds_MA_tr.csv']\n",
      "Test sets:\n",
      " ['s.ds_MA_ts.csv', 'fs-rf.s.ds_MA_ts.csv', 'pca0.99.s.ds_MA_ts.csv']\n"
     ]
    }
   ],
   "source": [
    "# dataset folder\n",
    "WorkingFolder  = './datasets/'\n",
    "# BasicMLResults = 'ML_basic.csv' # a file with all the statistis for ML models\n",
    "\n",
    "# Split details\n",
    "seed = 44          # for reproductibility\n",
    "\n",
    "# output variable\n",
    "outVar = 'Lij'    \n",
    "\n",
    "# parameter for ballanced (equal number of examples in all classes) and non-ballanced dataset \n",
    "class_weight = \"balanced\" # use None for ballanced datasets!\n",
    "\n",
    "\n",
    "# set list of train and test files\n",
    "\n",
    "listFiles_tr = ['s.ds_MA_tr.csv','fs-rf.s.ds_MA_tr.csv','pca0.99.s.ds_MA_tr.csv']\n",
    "listFiles_ts = ['s.ds_MA_ts.csv','fs-rf.s.ds_MA_ts.csv','pca0.99.s.ds_MA_ts.csv']\n",
    "\n",
    "#listFiles_tr = [col for col in os.listdir(WorkingFolder) if ('tr' in col)\n",
    "#                and (col[:5] != 'o.ds_') ]\n",
    "\n",
    "#listFiles_ts = [col for col in os.listdir(WorkingFolder) if ('ts' in col)\n",
    "#                and (col[:5] != 'o.ds_') ]\n",
    "\n",
    "# Check the list of files to process\n",
    "print('* Files to use for ML baseline generator:')\n",
    "print('Training sets:\\n', listFiles_tr)\n",
    "print('Test sets:\\n',listFiles_ts)"
   ]
  },
  {
   "cell_type": "markdown",
   "metadata": {},
   "source": [
    "Once defined our list of datasets, let's call baseline_generator function which will generate a dataframe with all performances for every combination of dataset and algorithm. Remenber we are using a set of algorithms as a baseline where are included basic, complex and ensemble methods. For more information you can call baseline_classifiers method fror the ds_utils.py script to see which algorithms and parameters are being used for the baseline. Another aspect to point out is that weights for algorithms that used this parameter are calculated using set_weights method based on the class_weight.compute_class_weight sklearn method. More information can be found at: https://scikit-learn.org/stable/modules/generated/sklearn.utils.class_weight.compute_class_weight.html.\n",
    "\n",
    "Let's verify the ballance of the classes and create the classifier definitions:"
   ]
  },
  {
   "cell_type": "code",
   "execution_count": 3,
   "metadata": {},
   "outputs": [
    {
     "name": "stdout",
     "output_type": "stream",
     "text": [
      "class weights {0: 0.6773268019594122, 1: 1.90982636148382}\n",
      "**************************************\n"
     ]
    },
    {
     "data": {
      "text/plain": [
       "[LinearDiscriminantAnalysis(n_components=None, priors=None, shrinkage=None,\n",
       "               solver='svd', store_covariance=False, tol=0.0001),\n",
       " LinearSVC(C=1.0, class_weight={0: 0.6773268019594122, 1: 1.90982636148382},\n",
       "      dual=True, fit_intercept=True, intercept_scaling=1,\n",
       "      loss='squared_hinge', max_iter=100000, multi_class='ovr',\n",
       "      penalty='l2', random_state=0, tol=1e-05, verbose=0),\n",
       " SVC(C=1.0, cache_size=200,\n",
       "   class_weight={0: 0.6773268019594122, 1: 1.90982636148382}, coef0=0.0,\n",
       "   decision_function_shape='ovr', degree=3, gamma='auto_deprecated',\n",
       "   kernel='linear', max_iter=-1, probability=False, random_state=0,\n",
       "   shrinking=True, tol=0.001, verbose=False),\n",
       " LogisticRegression(C=1.0,\n",
       "           class_weight={0: 0.6773268019594122, 1: 1.90982636148382},\n",
       "           dual=False, fit_intercept=True, intercept_scaling=1,\n",
       "           max_iter=10000, multi_class='warn', n_jobs=None, penalty='l2',\n",
       "           random_state=0, solver='lbfgs', tol=0.0001, verbose=0,\n",
       "           warm_start=False)]"
      ]
     },
     "execution_count": 3,
     "metadata": {},
     "output_type": "execute_result"
    }
   ],
   "source": [
    "# calling baseline_classifiers to see which algorithms and parameters are being used. Remember that\n",
    "# baseline_classifiers() need a y_tr_data argument to be executed, it can be any y_tr_data if you just want\n",
    "# to see the output\n",
    "\n",
    "y_tr_data = datasets_parser(listFiles_tr[0], listFiles_ts[0],outVar=outVar, WorkingFolder=WorkingFolder)[1]\n",
    "ML_methods_used = baseline_classifiers(y_tr_data)\n",
    "ML_methods_used"
   ]
  },
  {
   "cell_type": "markdown",
   "metadata": {},
   "source": [
    "### Step 2 - Baseline generator for all datasets and ML methods\n",
    "Once settle this. The next step is to call the baseline_generator method which takes as arguments a list of train and test sets we define previously. This function will calculate some metrics for each combination of train-test sets and will create a dataframe with all the performances. The final dataframe is sorted by AUC value, so the first row will correspond to the algorithm and dataset which achieve better perforamce. \n",
    "\n",
    "For each dataset and method we will print here only the test **AUC** and **Accuracy**. The rest of statistics will be save on a local CSV file:"
   ]
  },
  {
   "cell_type": "code",
   "execution_count": 4,
   "metadata": {},
   "outputs": [
    {
     "name": "stdout",
     "output_type": "stream",
     "text": [
      "-> Generating Basic Machine Learning baseline...\n",
      "\n",
      "-> Dataset: ./datasets/ s.ds_MA_tr.csv ...\n",
      "class weights {0: 0.6773268019594122, 1: 1.90982636148382}\n",
      "**************************************\n",
      "* Classifier: LinearDiscriminantAnalysis ...\n"
     ]
    },
    {
     "name": "stderr",
     "output_type": "stream",
     "text": [
      "c:\\program files\\python35\\lib\\site-packages\\sklearn\\discriminant_analysis.py:388: UserWarning: Variables are collinear.\n",
      "  warnings.warn(\"Variables are collinear.\")\n"
     ]
    },
    {
     "name": "stdout",
     "output_type": "stream",
     "text": [
      "[0.8234199792328062, 0.8413]\n",
      "* Classifier: LinearSVC ...\n"
     ]
    },
    {
     "name": "stderr",
     "output_type": "stream",
     "text": [
      "c:\\program files\\python35\\lib\\site-packages\\sklearn\\svm\\base.py:922: ConvergenceWarning: Liblinear failed to converge, increase the number of iterations.\n",
      "  \"the number of iterations.\", ConvergenceWarning)\n"
     ]
    },
    {
     "name": "stdout",
     "output_type": "stream",
     "text": [
      "[0.8645049905852076, 0.8327]\n",
      "* Classifier: SVC ...\n",
      "[0.8646570183675396, 0.8351]\n",
      "* Classifier: LogisticRegression ...\n",
      "[0.8614885308452447, 0.8333]\n",
      "\n",
      "-> Dataset: ./datasets/ fs-rf.s.ds_MA_tr.csv ...\n",
      "class weights {0: 0.6773268019594122, 1: 1.90982636148382}\n",
      "**************************************\n",
      "* Classifier: LinearDiscriminantAnalysis ...\n"
     ]
    },
    {
     "name": "stderr",
     "output_type": "stream",
     "text": [
      "c:\\program files\\python35\\lib\\site-packages\\sklearn\\discriminant_analysis.py:388: UserWarning: Variables are collinear.\n",
      "  warnings.warn(\"Variables are collinear.\")\n"
     ]
    },
    {
     "name": "stdout",
     "output_type": "stream",
     "text": [
      "[0.8247770507603873, 0.8355]\n",
      "* Classifier: LinearSVC ...\n"
     ]
    },
    {
     "name": "stderr",
     "output_type": "stream",
     "text": [
      "c:\\program files\\python35\\lib\\site-packages\\sklearn\\svm\\base.py:922: ConvergenceWarning: Liblinear failed to converge, increase the number of iterations.\n",
      "  \"the number of iterations.\", ConvergenceWarning)\n"
     ]
    },
    {
     "name": "stdout",
     "output_type": "stream",
     "text": [
      "[0.8448444696168006, 0.8234]\n",
      "* Classifier: SVC ...\n",
      "[0.8587796044296723, 0.8265]\n",
      "* Classifier: LogisticRegression ...\n",
      "[0.8353372681700526, 0.824]\n",
      "\n",
      "-> Dataset: ./datasets/ pca0.99.s.ds_MA_tr.csv ...\n",
      "class weights {0: 0.6773268019594122, 1: 1.90982636148382}\n",
      "**************************************\n",
      "* Classifier: LinearDiscriminantAnalysis ...\n",
      "[0.7945779241749016, 0.8286]\n",
      "* Classifier: LinearSVC ...\n"
     ]
    },
    {
     "name": "stderr",
     "output_type": "stream",
     "text": [
      "c:\\program files\\python35\\lib\\site-packages\\sklearn\\svm\\base.py:922: ConvergenceWarning: Liblinear failed to converge, increase the number of iterations.\n",
      "  \"the number of iterations.\", ConvergenceWarning)\n"
     ]
    },
    {
     "name": "stdout",
     "output_type": "stream",
     "text": [
      "[0.8280846486717441, 0.8178]\n",
      "* Classifier: SVC ...\n",
      "[0.8308894618912057, 0.8231]\n",
      "* Classifier: LogisticRegression ...\n",
      "[0.8271309972724427, 0.8147]\n",
      "---> Saving results ...\n",
      "! Please find your ML results in: ML_baseline_generator_linear.csv\n",
      "Done!\n"
     ]
    },
    {
     "data": {
      "text/html": [
       "<div>\n",
       "<style scoped>\n",
       "    .dataframe tbody tr th:only-of-type {\n",
       "        vertical-align: middle;\n",
       "    }\n",
       "\n",
       "    .dataframe tbody tr th {\n",
       "        vertical-align: top;\n",
       "    }\n",
       "\n",
       "    .dataframe thead th {\n",
       "        text-align: right;\n",
       "    }\n",
       "</style>\n",
       "<table border=\"1\" class=\"dataframe\">\n",
       "  <thead>\n",
       "    <tr style=\"text-align: right;\">\n",
       "      <th></th>\n",
       "      <th>MLA_dataset</th>\n",
       "      <th>MLA Name</th>\n",
       "      <th>MLA Train Accuracy</th>\n",
       "      <th>MLA Test Accuracy</th>\n",
       "      <th>MLA Test Precission</th>\n",
       "      <th>MLA Test Recall</th>\n",
       "      <th>MLA Test F1_score</th>\n",
       "      <th>MLA Test AUC</th>\n",
       "      <th>MLA Test Matthews Coefficient</th>\n",
       "    </tr>\n",
       "  </thead>\n",
       "  <tbody>\n",
       "    <tr>\n",
       "      <th>2</th>\n",
       "      <td>s.ds_MA_tr.csv</td>\n",
       "      <td>SVC</td>\n",
       "      <td>0.8317</td>\n",
       "      <td>0.8351</td>\n",
       "      <td>[0.96859169 0.62490024]</td>\n",
       "      <td>[0.80268682 0.92662722]</td>\n",
       "      <td>0.746425</td>\n",
       "      <td>0.864657</td>\n",
       "      <td>0.657907</td>\n",
       "    </tr>\n",
       "    <tr>\n",
       "      <th>1</th>\n",
       "      <td>s.ds_MA_tr.csv</td>\n",
       "      <td>LinearSVC</td>\n",
       "      <td>0.8348</td>\n",
       "      <td>0.8327</td>\n",
       "      <td>[0.97037794 0.62017336]</td>\n",
       "      <td>[0.79764903 0.93136095]</td>\n",
       "      <td>0.744560</td>\n",
       "      <td>0.864505</td>\n",
       "      <td>0.656139</td>\n",
       "    </tr>\n",
       "    <tr>\n",
       "      <th>3</th>\n",
       "      <td>s.ds_MA_tr.csv</td>\n",
       "      <td>LogisticRegression</td>\n",
       "      <td>0.8356</td>\n",
       "      <td>0.8333</td>\n",
       "      <td>[0.9661274  0.62289832]</td>\n",
       "      <td>[0.802267   0.92071006]</td>\n",
       "      <td>0.743075</td>\n",
       "      <td>0.861489</td>\n",
       "      <td>0.652573</td>\n",
       "    </tr>\n",
       "    <tr>\n",
       "      <th>2</th>\n",
       "      <td>fs-rf.s.ds_MA_tr.csv</td>\n",
       "      <td>SVC</td>\n",
       "      <td>0.8214</td>\n",
       "      <td>0.8265</td>\n",
       "      <td>[0.96813977 0.61124122]</td>\n",
       "      <td>[0.79093199 0.92662722]</td>\n",
       "      <td>0.736595</td>\n",
       "      <td>0.858780</td>\n",
       "      <td>0.644779</td>\n",
       "    </tr>\n",
       "    <tr>\n",
       "      <th>1</th>\n",
       "      <td>fs-rf.s.ds_MA_tr.csv</td>\n",
       "      <td>LinearSVC</td>\n",
       "      <td>0.8181</td>\n",
       "      <td>0.8234</td>\n",
       "      <td>[0.95345345 0.61187958]</td>\n",
       "      <td>[0.79974811 0.88994083]</td>\n",
       "      <td>0.725169</td>\n",
       "      <td>0.844844</td>\n",
       "      <td>0.624423</td>\n",
       "    </tr>\n",
       "    <tr>\n",
       "      <th>3</th>\n",
       "      <td>fs-rf.s.ds_MA_tr.csv</td>\n",
       "      <td>LogisticRegression</td>\n",
       "      <td>0.8215</td>\n",
       "      <td>0.8240</td>\n",
       "      <td>[0.9420078  0.61787234]</td>\n",
       "      <td>[0.81150294 0.8591716 ]</td>\n",
       "      <td>0.718812</td>\n",
       "      <td>0.835337</td>\n",
       "      <td>0.612778</td>\n",
       "    </tr>\n",
       "    <tr>\n",
       "      <th>2</th>\n",
       "      <td>pca0.99.s.ds_MA_tr.csv</td>\n",
       "      <td>SVC</td>\n",
       "      <td>0.8159</td>\n",
       "      <td>0.8231</td>\n",
       "      <td>[0.93765104 0.61830743]</td>\n",
       "      <td>[0.81444165 0.84733728]</td>\n",
       "      <td>0.714928</td>\n",
       "      <td>0.830889</td>\n",
       "      <td>0.606565</td>\n",
       "    </tr>\n",
       "    <tr>\n",
       "      <th>1</th>\n",
       "      <td>pca0.99.s.ds_MA_tr.csv</td>\n",
       "      <td>LinearSVC</td>\n",
       "      <td>0.8152</td>\n",
       "      <td>0.8178</td>\n",
       "      <td>[0.93798828 0.60899067]</td>\n",
       "      <td>[0.80646516 0.84970414]</td>\n",
       "      <td>0.709486</td>\n",
       "      <td>0.828085</td>\n",
       "      <td>0.599092</td>\n",
       "    </tr>\n",
       "    <tr>\n",
       "      <th>3</th>\n",
       "      <td>pca0.99.s.ds_MA_tr.csv</td>\n",
       "      <td>LogisticRegression</td>\n",
       "      <td>0.8126</td>\n",
       "      <td>0.8147</td>\n",
       "      <td>[0.93897638 0.60334728]</td>\n",
       "      <td>[0.80100756 0.85325444]</td>\n",
       "      <td>0.706863</td>\n",
       "      <td>0.827131</td>\n",
       "      <td>0.595669</td>\n",
       "    </tr>\n",
       "    <tr>\n",
       "      <th>0</th>\n",
       "      <td>fs-rf.s.ds_MA_tr.csv</td>\n",
       "      <td>LinearDiscriminantAnalysis</td>\n",
       "      <td>0.8316</td>\n",
       "      <td>0.8355</td>\n",
       "      <td>[0.92356979 0.65067179]</td>\n",
       "      <td>[0.84718724 0.80236686]</td>\n",
       "      <td>0.718601</td>\n",
       "      <td>0.824777</td>\n",
       "      <td>0.610738</td>\n",
       "    </tr>\n",
       "    <tr>\n",
       "      <th>0</th>\n",
       "      <td>s.ds_MA_tr.csv</td>\n",
       "      <td>LinearDiscriminantAnalysis</td>\n",
       "      <td>0.8523</td>\n",
       "      <td>0.8413</td>\n",
       "      <td>[0.91890681 0.66733668]</td>\n",
       "      <td>[0.86104114 0.78579882]</td>\n",
       "      <td>0.721739</td>\n",
       "      <td>0.823420</td>\n",
       "      <td>0.615797</td>\n",
       "    </tr>\n",
       "    <tr>\n",
       "      <th>0</th>\n",
       "      <td>pca0.99.s.ds_MA_tr.csv</td>\n",
       "      <td>LinearDiscriminantAnalysis</td>\n",
       "      <td>0.8285</td>\n",
       "      <td>0.8286</td>\n",
       "      <td>[0.89812799 0.65698925]</td>\n",
       "      <td>[0.86607893 0.72307692]</td>\n",
       "      <td>0.688451</td>\n",
       "      <td>0.794578</td>\n",
       "      <td>0.571883</td>\n",
       "    </tr>\n",
       "  </tbody>\n",
       "</table>\n",
       "</div>"
      ],
      "text/plain": [
       "              MLA_dataset                    MLA Name  MLA Train Accuracy  \\\n",
       "2          s.ds_MA_tr.csv                         SVC              0.8317   \n",
       "1          s.ds_MA_tr.csv                   LinearSVC              0.8348   \n",
       "3          s.ds_MA_tr.csv          LogisticRegression              0.8356   \n",
       "2    fs-rf.s.ds_MA_tr.csv                         SVC              0.8214   \n",
       "1    fs-rf.s.ds_MA_tr.csv                   LinearSVC              0.8181   \n",
       "3    fs-rf.s.ds_MA_tr.csv          LogisticRegression              0.8215   \n",
       "2  pca0.99.s.ds_MA_tr.csv                         SVC              0.8159   \n",
       "1  pca0.99.s.ds_MA_tr.csv                   LinearSVC              0.8152   \n",
       "3  pca0.99.s.ds_MA_tr.csv          LogisticRegression              0.8126   \n",
       "0    fs-rf.s.ds_MA_tr.csv  LinearDiscriminantAnalysis              0.8316   \n",
       "0          s.ds_MA_tr.csv  LinearDiscriminantAnalysis              0.8523   \n",
       "0  pca0.99.s.ds_MA_tr.csv  LinearDiscriminantAnalysis              0.8285   \n",
       "\n",
       "   MLA Test Accuracy      MLA Test Precission          MLA Test Recall  \\\n",
       "2             0.8351  [0.96859169 0.62490024]  [0.80268682 0.92662722]   \n",
       "1             0.8327  [0.97037794 0.62017336]  [0.79764903 0.93136095]   \n",
       "3             0.8333  [0.9661274  0.62289832]  [0.802267   0.92071006]   \n",
       "2             0.8265  [0.96813977 0.61124122]  [0.79093199 0.92662722]   \n",
       "1             0.8234  [0.95345345 0.61187958]  [0.79974811 0.88994083]   \n",
       "3             0.8240  [0.9420078  0.61787234]  [0.81150294 0.8591716 ]   \n",
       "2             0.8231  [0.93765104 0.61830743]  [0.81444165 0.84733728]   \n",
       "1             0.8178  [0.93798828 0.60899067]  [0.80646516 0.84970414]   \n",
       "3             0.8147  [0.93897638 0.60334728]  [0.80100756 0.85325444]   \n",
       "0             0.8355  [0.92356979 0.65067179]  [0.84718724 0.80236686]   \n",
       "0             0.8413  [0.91890681 0.66733668]  [0.86104114 0.78579882]   \n",
       "0             0.8286  [0.89812799 0.65698925]  [0.86607893 0.72307692]   \n",
       "\n",
       "   MLA Test F1_score  MLA Test AUC  MLA Test Matthews Coefficient  \n",
       "2           0.746425      0.864657                       0.657907  \n",
       "1           0.744560      0.864505                       0.656139  \n",
       "3           0.743075      0.861489                       0.652573  \n",
       "2           0.736595      0.858780                       0.644779  \n",
       "1           0.725169      0.844844                       0.624423  \n",
       "3           0.718812      0.835337                       0.612778  \n",
       "2           0.714928      0.830889                       0.606565  \n",
       "1           0.709486      0.828085                       0.599092  \n",
       "3           0.706863      0.827131                       0.595669  \n",
       "0           0.718601      0.824777                       0.610738  \n",
       "0           0.721739      0.823420                       0.615797  \n",
       "0           0.688451      0.794578                       0.571883  "
      ]
     },
     "execution_count": 4,
     "metadata": {},
     "output_type": "execute_result"
    }
   ],
   "source": [
    "baseline = baseline_generator(listFiles_tr, listFiles_ts, outVar, WorkingFolder,\n",
    "                              out_name = 'ML_baseline_generator_linear.csv')\n",
    "baseline"
   ]
  },
  {
   "cell_type": "markdown",
   "metadata": {},
   "source": [
    "According to the previous result it seems that the minitrain.csv dataset tend to get better performances that s.ds_MA.tr.csv. On the other hand Gradient Boosting Classifier is the method that achieves better performance, so is probably a good candidate for the minitrain.csv dataset. We could try some combination of parameters on that dataset and algorithm in the gridsearch strategy. But before we go any further we can plot the ROC curves for this baseline so that we can have a graphic comparaison across the methods used for the baseline."
   ]
  },
  {
   "cell_type": "markdown",
   "metadata": {},
   "source": [
    "In another notebook we will analyze how to look for a good combination of parameters for a set of chosen algorithms."
   ]
  },
  {
   "cell_type": "code",
   "execution_count": null,
   "metadata": {},
   "outputs": [],
   "source": []
  }
 ],
 "metadata": {
  "kernelspec": {
   "display_name": "Python 3",
   "language": "python",
   "name": "python3"
  },
  "language_info": {
   "codemirror_mode": {
    "name": "ipython",
    "version": 3
   },
   "file_extension": ".py",
   "mimetype": "text/x-python",
   "name": "python",
   "nbconvert_exporter": "python",
   "pygments_lexer": "ipython3",
   "version": "3.5.2"
  }
 },
 "nbformat": 4,
 "nbformat_minor": 2
}
