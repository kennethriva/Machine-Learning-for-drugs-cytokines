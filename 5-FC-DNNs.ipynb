{
 "cells": [
  {
   "cell_type": "markdown",
   "metadata": {},
   "source": [
    "# FC-DNN for drug-cytokine interactions\n",
    "\n",
    "The best DNN topology is used to print the model performance.\n",
    "\n",
    "Starting with the imports:"
   ]
  },
  {
   "cell_type": "code",
   "execution_count": 8,
   "metadata": {},
   "outputs": [],
   "source": [
    "import numpy as np\n",
    "from sklearn.model_selection import train_test_split, GridSearchCV, cross_val_score, KFold, StratifiedKFold\n",
    "from keras.models import Sequential\n",
    "from keras.layers import Dense, Dropout\n",
    "from keras.layers.normalization import BatchNormalization\n",
    "from keras import regularizers\n",
    "\n",
    "from keras.wrappers.scikit_learn import KerasClassifier\n",
    "from sklearn.metrics import confusion_matrix,accuracy_score, roc_auc_score, f1_score, \\\n",
    "     recall_score, precision_score,classification_report, roc_curve, auc, matthews_corrcoef\n",
    "\n",
    "import time as tm\n",
    "from keras.models import load_model\n",
    "\n",
    "from sklearn.utils import class_weight\n",
    "import matplotlib.pyplot as plt\n",
    "from keras.callbacks import EarlyStopping, ModelCheckpoint\n",
    "\n",
    "from ds_utils import *"
   ]
  },
  {
   "cell_type": "markdown",
   "metadata": {},
   "source": [
    "Define a function to create a FC-DNN model, required for KerasClassifier. The network has the following layers:\n",
    "- topology       = n-n*2-n*3-n*2-n\n",
    "- input layer    = 120 neurons (features)\n",
    "- hidden layer 1 = 120 neurons\n",
    "- hidden layer 2 = 240 neurons\n",
    "- hidden layer 3 = 360 neurons\n",
    "- hidden layer 4 = 240 neurons\n",
    "- hidden layer 5 = 120 neurons\n",
    "- output layer   = 1 neuron (class 0 / 1)\n",
    "- activations    = relu\n",
    "- algorithm      = Adam\n",
    "\n",
    "Note = added Batch Normalization and Dropout 0.5 for each hidden layer."
   ]
  },
  {
   "cell_type": "code",
   "execution_count": 39,
   "metadata": {},
   "outputs": [],
   "source": [
    "def create_model():\n",
    "    # create model\n",
    "    model = Sequential()\n",
    "    model.add(Dense(120, input_dim=120, activation='relu', kernel_initializer='glorot_normal'))\n",
    "    model.add(BatchNormalization())\n",
    "    model.add(Dropout(0.6))\n",
    "    model.add(Dense(240, activation='relu', kernel_initializer='glorot_normal'))\n",
    "    model.add(BatchNormalization())\n",
    "    model.add(Dropout(0.6))\n",
    "    model.add(Dense(360, activation='relu', kernel_initializer='glorot_normal'))\n",
    "    model.add(BatchNormalization())\n",
    "    model.add(Dropout(0.6))\n",
    "    model.add(Dense(240, activation='relu', kernel_initializer='glorot_normal'))\n",
    "    model.add(BatchNormalization())\n",
    "    model.add(Dropout(0.6))\n",
    "    model.add(Dense(120, activation='relu', kernel_initializer='glorot_normal'))\n",
    "    model.add(BatchNormalization())\n",
    "    model.add(Dropout(0.6))\n",
    "    model.add(Dense(1, kernel_initializer='glorot_normal', activation='sigmoid'))\n",
    "    \n",
    "    # Compile model\n",
    "    model.compile(loss='binary_crossentropy', optimizer='adam', metrics=['accuracy'])\n",
    "    return model"
   ]
  },
  {
   "cell_type": "markdown",
   "metadata": {},
   "source": [
    "Set the parameters such as input files with training, test subsets, number of features, resulting file with statistics, seed value for reproductibility:"
   ]
  },
  {
   "cell_type": "code",
   "execution_count": 40,
   "metadata": {},
   "outputs": [],
   "source": [
    "# Dataset params\n",
    "listFiles_tr = 'fs-rf.s.ds_MA_tr.csv'\n",
    "listFiles_ts = 'fs-rf.s.ds_MA_ts.csv'\n",
    "no_cols     = 121 # no of columns in the dataset (features + class)\n",
    "no_features = 120 # no of features\n",
    "\n",
    "# dataset folder\n",
    "WorkingFolder  = './datasets/'\n",
    "\n",
    "# output variable\n",
    "outVar = 'Lij'\n",
    "\n",
    "# Results file\n",
    "resFileCSV = 'DL_best_model.csv'\n",
    "\n",
    "# fix random seed for reproducibility\n",
    "seed = 0\n",
    "numpy.random.seed(seed)"
   ]
  },
  {
   "cell_type": "markdown",
   "metadata": {},
   "source": [
    "Load dataset and calculate the class weights:"
   ]
  },
  {
   "cell_type": "code",
   "execution_count": 41,
   "metadata": {},
   "outputs": [
    {
     "name": "stdout",
     "output_type": "stream",
     "text": [
      "\n",
      "--> Reading dataset ...\n",
      "X_tr_data= (9679, 120)\n",
      "y_tr_data= (9679,)\n",
      "X_ts_data= (3227, 120)\n",
      "y_ts_data= (3227,)\n",
      "Done!\n"
     ]
    }
   ],
   "source": [
    "# loading datasets\n",
    "\n",
    "# load training set\n",
    "print (\"\\n--> Reading dataset ...\")\n",
    "\n",
    "values = datasets_parser(listFiles_tr, listFiles_ts,outVar=outVar, WorkingFolder=WorkingFolder)\n",
    "X_train = values[0] # X_train data\n",
    "y_train = values[1] # y_train data\n",
    "X_test  = values[2] # X_test data\n",
    "y_test  = values[3] # y_test data\n",
    "\n",
    "print('X_tr_data=', X_train.shape)\n",
    "print('y_tr_data=', y_train.shape)\n",
    "print('X_ts_data=', X_test.shape)\n",
    "print('y_ts_data=', y_test.shape)\n",
    "\n",
    "# calculate the class weight\n",
    "class_weights = class_weight.compute_class_weight('balanced',\n",
    "                                                 numpy.unique(y_train),\n",
    "                                                 y_train)\n",
    "print('Done!')"
   ]
  },
  {
   "cell_type": "markdown",
   "metadata": {},
   "source": [
    "Initialize the FC-DNN model, train it and print the model summary:"
   ]
  },
  {
   "cell_type": "code",
   "execution_count": 64,
   "metadata": {},
   "outputs": [
    {
     "name": "stdout",
     "output_type": "stream",
     "text": [
      "-> Training the model ...\n",
      "_________________________________________________________________\n",
      "Layer (type)                 Output Shape              Param #   \n",
      "=================================================================\n",
      "dense_43 (Dense)             (None, 120)               14520     \n",
      "_________________________________________________________________\n",
      "batch_normalization_36 (Batc (None, 120)               480       \n",
      "_________________________________________________________________\n",
      "dropout_36 (Dropout)         (None, 120)               0         \n",
      "_________________________________________________________________\n",
      "dense_44 (Dense)             (None, 240)               29040     \n",
      "_________________________________________________________________\n",
      "batch_normalization_37 (Batc (None, 240)               960       \n",
      "_________________________________________________________________\n",
      "dropout_37 (Dropout)         (None, 240)               0         \n",
      "_________________________________________________________________\n",
      "dense_45 (Dense)             (None, 360)               86760     \n",
      "_________________________________________________________________\n",
      "batch_normalization_38 (Batc (None, 360)               1440      \n",
      "_________________________________________________________________\n",
      "dropout_38 (Dropout)         (None, 360)               0         \n",
      "_________________________________________________________________\n",
      "dense_46 (Dense)             (None, 240)               86640     \n",
      "_________________________________________________________________\n",
      "batch_normalization_39 (Batc (None, 240)               960       \n",
      "_________________________________________________________________\n",
      "dropout_39 (Dropout)         (None, 240)               0         \n",
      "_________________________________________________________________\n",
      "dense_47 (Dense)             (None, 120)               28920     \n",
      "_________________________________________________________________\n",
      "batch_normalization_40 (Batc (None, 120)               480       \n",
      "_________________________________________________________________\n",
      "dropout_40 (Dropout)         (None, 120)               0         \n",
      "_________________________________________________________________\n",
      "dense_48 (Dense)             (None, 1)                 121       \n",
      "=================================================================\n",
      "Total params: 250,321\n",
      "Trainable params: 248,161\n",
      "Non-trainable params: 2,160\n",
      "_________________________________________________________________\n",
      "None\n",
      "\\Training time: 23.7 s\n",
      "Done!\n",
      "\n"
     ]
    }
   ],
   "source": [
    "start_time = tm.time() # get starting time\n",
    "model = create_model()\n",
    "print (\"-> Training the model ...\")\n",
    "history = model.fit(X_train, y_train, validation_data=(X_test,y_test),\n",
    "                    batch_size=1024,\n",
    "                    epochs=120,\n",
    "                    verbose=0,shuffle=False, class_weight=class_weights)\n",
    "print(model.summary())\n",
    "time_s = (tm.time() - start_time)\n",
    "print(\"\\Training time: %0.1f s\" % (time_s))\n",
    "print(\"Done!\\n\")"
   ]
  },
  {
   "cell_type": "markdown",
   "metadata": {},
   "source": [
    "Calculate ACC, AUC and F1-score for training and test:"
   ]
  },
  {
   "cell_type": "code",
   "execution_count": 65,
   "metadata": {},
   "outputs": [
    {
     "name": "stdout",
     "output_type": "stream",
     "text": [
      "9679/9679 [==============================] - 1s 81us/step\n"
     ]
    }
   ],
   "source": [
    "score_train = model.evaluate(X_train, y_train, verbose=1)\n",
    "y_pred_train = model.predict(X_train)\n",
    "roc_train = roc_auc_score(y_train, y_pred_train)\n",
    "\n",
    "score_test = model.evaluate(X_test, y_test, verbose=0)\n",
    "y_pred_test = model.predict(X_test)\n",
    "\n",
    "roc_test = roc_auc_score(y_test, y_pred_test)\n",
    "\n",
    "f1_test = f1_score(y_test, y_pred_test.round(),pos_label=1,\n",
    "                   average='binary',sample_weight=None, labels=y_test)"
   ]
  },
  {
   "cell_type": "markdown",
   "metadata": {},
   "source": [
    "Append statistics to an output CSV file:"
   ]
  },
  {
   "cell_type": "code",
   "execution_count": 66,
   "metadata": {},
   "outputs": [
    {
     "name": "stdout",
     "output_type": "stream",
     "text": [
      "ROC tr,0.9079026568272613,SCORE,0.8386196921292706,ROC ts,0.9042520580885238,SCORE ts,0.832352029601228,F1-score,0.7092960773777538\n",
      "Total test AUROC score = 0.9043\n"
     ]
    }
   ],
   "source": [
    "csvData = \"ROC tr,\"+str(roc_train)+',SCORE,'+str(score_train[1])+',ROC ts,'+ \\\n",
    "          str(roc_test)+',SCORE ts,'+str(score_test[1])+',F1-score'+','+str(f1_test)\n",
    "print(csvData)\n",
    "\n",
    "print(\"Total test AUROC score = {0:0.4f}\".format(roc_test))\n",
    "\n",
    "fout = open(resFileCSV, 'a')\n",
    "fout.write(csvData+'\\n')\n",
    "fout.close()"
   ]
  },
  {
   "cell_type": "markdown",
   "metadata": {},
   "source": [
    "Save the model:"
   ]
  },
  {
   "cell_type": "code",
   "execution_count": 67,
   "metadata": {},
   "outputs": [],
   "source": [
    "model.save('DL_best_model_0.6.h5')  # creates a HDF5 file 'my_model.h5'"
   ]
  },
  {
   "cell_type": "markdown",
   "metadata": {},
   "source": [
    "Create plots of lost and ACC during traing:"
   ]
  },
  {
   "cell_type": "code",
   "execution_count": 71,
   "metadata": {},
   "outputs": [
    {
     "name": "stdout",
     "output_type": "stream",
     "text": [
      "dict_keys(['val_loss', 'loss', 'val_acc', 'acc'])\n"
     ]
    },
    {
     "data": {
      "image/png": "[encoded data removed]",
      "text/plain": [
       "<Figure size 432x288 with 1 Axes>"
      ]
     },
     "metadata": {},
     "output_type": "display_data"
    },
    {
     "data": {
      "image/png": "[encoded data removed]",
      "text/plain": [
       "<Figure size 432x288 with 1 Axes>"
      ]
     },
     "metadata": {},
     "output_type": "display_data"
    }
   ],
   "source": [
    "# list all data in history\n",
    "print(history.history.keys())\n",
    "# summarize history for accuracy\n",
    "plt.plot(history.history['acc'])\n",
    "plt.plot(history.history['val_acc'])\n",
    "plt.title('model accuracy')\n",
    "plt.ylabel('accuracy')\n",
    "plt.xlabel('epoch')\n",
    "# plt.ylim(0.80,0.85)\n",
    "plt.legend(['train', 'test'], loc='upper left')\n",
    "plt.show()\n",
    "# summarize history for loss\n",
    "plt.plot(history.history['loss'])\n",
    "plt.plot(history.history['val_loss'])\n",
    "plt.title('model loss')\n",
    "plt.ylabel('loss')\n",
    "plt.xlabel('epoch')\n",
    "plt.legend(['train', 'test'], loc='upper left')\n",
    "plt.show()"
   ]
  },
  {
   "cell_type": "code",
   "execution_count": 69,
   "metadata": {},
   "outputs": [
    {
     "data": {
      "text/plain": [
       "array([0.85054576, 0.78106509])"
      ]
     },
     "execution_count": 69,
     "metadata": {},
     "output_type": "execute_result"
    }
   ],
   "source": [
    "recall_score(y_test, y_pred_test.round(), average=None)"
   ]
  },
  {
   "cell_type": "code",
   "execution_count": 70,
   "metadata": {},
   "outputs": [
    {
     "data": {
      "text/plain": [
       "array([0.91632745, 0.6496063 ])"
      ]
     },
     "execution_count": 70,
     "metadata": {},
     "output_type": "execute_result"
    }
   ],
   "source": [
    "precision_score(y_test, y_pred_test.round(), average=None)"
   ]
  },
  {
   "cell_type": "markdown",
   "metadata": {},
   "source": [
    "### G1 predictions with the best model"
   ]
  },
  {
   "cell_type": "code",
   "execution_count": 82,
   "metadata": {},
   "outputs": [
    {
     "name": "stdout",
     "output_type": "stream",
     "text": [
      "-> Reading: fs-rf.s.ds_MA_G1.csv ...\n",
      "Columns: 121 Rows: 1384\n",
      "Done\n",
      "['MA-C1SP1-STANDARD_TYPE_UNITSj', 'MA-khs.sBr-STANDARD_TYPE_UNITSj', 'MA-khs.tN-STANDARD_TYPE_UNITSj', 'MA-khs.dsN-STANDARD_TYPE_UNITSj', 'MA-C4SP3-STANDARD_TYPE_UNITSj', 'MA-khs.ddssS-STANDARD_TYPE_UNITSj', 'MA-khs.aaS-STANDARD_TYPE_UNITSj', 'MA-khs.ssssC-STANDARD_TYPE_UNITSj', 'MA-MDEC.44-STANDARD_TYPE_UNITSj', 'MA-khs.tsC-STANDARD_TYPE_UNITSj', 'MA-khs.dsN-ASSAY_CHEMBLID', 'MA-khs.aaS-ASSAY_CHEMBLID', 'MA-C3SP3-ASSAY_CHEMBLID', 'MA-MDEN.11-ASSAY_CHEMBLID', 'MA-khs.dsCH-ASSAY_CHEMBLID', 'MA-MDEO.12-ASSAY_CHEMBLID', 'MA-WPATH-ASSAY_CHEMBLID', 'MA-khs.aasN-ASSAY_CHEMBLID', 'MA-LipinskiFailures-ASSAY_CHEMBLID', 'MA-PetitjeanNumber-ASSAY_CHEMBLID', 'MA-MDEC.23-ASSAY_TYPE', 'MA-MDEC.33-ASSAY_TYPE', 'MA-MDEN.11-ASSAY_TYPE', 'MA-khs.tsC-ASSAY_TYPE', 'MA-SP.1-ASSAY_TYPE', 'MA-SP.2-ASSAY_TYPE', 'MA-SP.4-ASSAY_TYPE', 'MA-SP.5-ASSAY_TYPE', 'MA-VP.1-ASSAY_TYPE', 'MA-VP.5-ASSAY_TYPE', 'MA-naAromAtom-ASSAY_ORGANISM', 'MA-ATSm1-ASSAY_ORGANISM', 'MA-SP.0-ASSAY_ORGANISM', 'MA-SP.5-ASSAY_ORGANISM', 'MA-SP.4-ASSAY_ORGANISM', 'MA-SP.3-ASSAY_ORGANISM', 'MA-SP.2-ASSAY_ORGANISM', 'MA-SP.1-ASSAY_ORGANISM', 'MA-SPC.5-ASSAY_ORGANISM', 'MA-VP.0-ASSAY_ORGANISM', 'MA-nB-ORGANISM', 'MA-SCH.6-ORGANISM', 'MA-ATSp5-ORGANISM', 'MA-ATSm4-ORGANISM', 'MA-VCH.5-ORGANISM', 'MA-SPC.6-ORGANISM', 'MA-ATSm3-ORGANISM', 'MA-ATSm2-ORGANISM', 'MA-ATSm1-ORGANISM', 'MA-naAromAtom-ORGANISM', 'MA-topoShape-TARGET_CHEMBLID', 'MA-PetitjeanNumber-TARGET_CHEMBLID', 'MA-MDEO.22-TARGET_CHEMBLID', 'MA-MDEN.11-TARGET_CHEMBLID', 'MA-MDEN.12-TARGET_CHEMBLID', 'MA-MDEN.13-TARGET_CHEMBLID', 'MA-MDEN.23-TARGET_CHEMBLID', 'MA-MDEN.33-TARGET_CHEMBLID', 'MA-LipinskiFailures-TARGET_CHEMBLID', 'MA-VAdjMat-TARGET_CHEMBLID', 'MA-BIGC670101.lag11-STANDARD_TYPE_UNITSj', 'MA-comp_W-STANDARD_TYPE_UNITSj', 'MA-BIGC670101.lag13-STANDARD_TYPE_UNITSj', 'MA-CHAM810101.lag27-STANDARD_TYPE_UNITSj', 'MA-BIGC670101.lag3-STANDARD_TYPE_UNITSj', 'MA-BIGC670101.lag23-STANDARD_TYPE_UNITSj', 'MA-comp_D-STANDARD_TYPE_UNITSj', 'MA-CHOC760101.lag17-STANDARD_TYPE_UNITSj', 'MA-BIGC670101.lag29-STANDARD_TYPE_UNITSj', 'MA-CHOC760101.lag2-STANDARD_TYPE_UNITSj', 'MA-CHAM810101.lag14-ASSAY_CHEMBLID', 'MA-CHAM810101.lag3-ASSAY_CHEMBLID', 'MA-CHAM810101.lag13-ASSAY_CHEMBLID', 'MA-CHAM810101.lag12-ASSAY_CHEMBLID', 'MA-CHAM810101.lag11-ASSAY_CHEMBLID', 'MA-CHAM810101.lag10-ASSAY_CHEMBLID', 'MA-CHAM810101.lag8-ASSAY_CHEMBLID', 'MA-CHAM810101.lag7-ASSAY_CHEMBLID', 'MA-CHAM810101.lag5-ASSAY_CHEMBLID', 'MA-CHAM810101.lag4-ASSAY_CHEMBLID', 'MA-CHAM810101.lag3-ASSAY_TYPE', 'MA-CHAM810101.lag14-ASSAY_TYPE', 'MA-CHAM810101.lag13-ASSAY_TYPE', 'MA-CHAM810101.lag12-ASSAY_TYPE', 'MA-CHAM810101.lag11-ASSAY_TYPE', 'MA-CHAM810101.lag10-ASSAY_TYPE', 'MA-CHAM810101.lag9-ASSAY_TYPE', 'MA-CHAM810101.lag8-ASSAY_TYPE', 'MA-CHAM810101.lag7-ASSAY_TYPE', 'MA-CHAM810101.lag6-ASSAY_TYPE', 'MA-comp_V-ASSAY_ORGANISM', 'MA-comp_W-ASSAY_ORGANISM', 'MA-comp_Y-ASSAY_ORGANISM', 'MA-CHOC760101.lag1-ASSAY_ORGANISM', 'MA-comp_T-ASSAY_ORGANISM', 'MA-comp_S-ASSAY_ORGANISM', 'MA-CHAM810101.lag5-ASSAY_ORGANISM', 'MA-CHAM810101.lag17-ASSAY_ORGANISM', 'MA-CHAM810101.lag15-ASSAY_ORGANISM', 'MA-CHAM810101.lag14-ASSAY_ORGANISM', 'MA-CHAM810101.lag15-ORGANISM', 'MA-CHAM810101.lag11-ORGANISM', 'MA-CHAM810101.lag12-ORGANISM', 'MA-CHAM810101.lag13-ORGANISM', 'MA-CHAM810101.lag14-ORGANISM', 'MA-BIGC670101.lag29-ORGANISM', 'MA-CHAM810101.lag16-ORGANISM', 'MA-CHAM810101.lag17-ORGANISM', 'MA-CHAM810101.lag9-ORGANISM', 'MA-CHAM810101.lag18-ORGANISM', 'MA-comp_S-TARGET_CHEMBLID', 'MA-CHOC760101.lag27-TARGET_CHEMBLID', 'MA-CHAM810101.lag10-TARGET_CHEMBLID', 'MA-CHAM810101.lag21-TARGET_CHEMBLID', 'MA-CHAM810101.lag20-TARGET_CHEMBLID', 'MA-CHAM810101.lag19-TARGET_CHEMBLID', 'MA-CHAM810101.lag18-TARGET_CHEMBLID', 'MA-CHAM810101.lag17-TARGET_CHEMBLID', 'MA-CHAM810101.lag16-TARGET_CHEMBLID', 'MA-CHAM810101.lag15-TARGET_CHEMBLID', 'Lij']\n"
     ]
    }
   ],
   "source": [
    "# reading G1 selected features standardized\n",
    "print('-> Reading:','fs-rf.s.ds_MA_G1.csv','...')\n",
    "df_G1_sel = pd.read_csv(os.path.join(WorkingFolder, 'fs-rf.s.ds_MA_G1.csv'))\n",
    "print('Columns:',len(df_G1_sel.columns),'Rows:',len(df_G1_sel))\n",
    "print('Done')\n",
    "print(list(df_G1_sel.columns))"
   ]
  },
  {
   "cell_type": "code",
   "execution_count": 83,
   "metadata": {},
   "outputs": [
    {
     "name": "stdout",
     "output_type": "stream",
     "text": [
      "Sel Columns: 120 Sel Rows: 1384\n"
     ]
    },
    {
     "data": {
      "text/html": [
       "<div>\n",
       "<style scoped>\n",
       "    .dataframe tbody tr th:only-of-type {\n",
       "        vertical-align: middle;\n",
       "    }\n",
       "\n",
       "    .dataframe tbody tr th {\n",
       "        vertical-align: top;\n",
       "    }\n",
       "\n",
       "    .dataframe thead th {\n",
       "        text-align: right;\n",
       "    }\n",
       "</style>\n",
       "<table border=\"1\" class=\"dataframe\">\n",
       "  <thead>\n",
       "    <tr style=\"text-align: right;\">\n",
       "      <th></th>\n",
       "      <th>MA-C1SP1-STANDARD_TYPE_UNITSj</th>\n",
       "      <th>MA-khs.sBr-STANDARD_TYPE_UNITSj</th>\n",
       "      <th>MA-khs.tN-STANDARD_TYPE_UNITSj</th>\n",
       "      <th>MA-khs.dsN-STANDARD_TYPE_UNITSj</th>\n",
       "      <th>MA-C4SP3-STANDARD_TYPE_UNITSj</th>\n",
       "      <th>MA-khs.ddssS-STANDARD_TYPE_UNITSj</th>\n",
       "      <th>MA-khs.aaS-STANDARD_TYPE_UNITSj</th>\n",
       "      <th>MA-khs.ssssC-STANDARD_TYPE_UNITSj</th>\n",
       "      <th>MA-MDEC.44-STANDARD_TYPE_UNITSj</th>\n",
       "      <th>MA-khs.tsC-STANDARD_TYPE_UNITSj</th>\n",
       "      <th>...</th>\n",
       "      <th>MA-comp_S-TARGET_CHEMBLID</th>\n",
       "      <th>MA-CHOC760101.lag27-TARGET_CHEMBLID</th>\n",
       "      <th>MA-CHAM810101.lag10-TARGET_CHEMBLID</th>\n",
       "      <th>MA-CHAM810101.lag21-TARGET_CHEMBLID</th>\n",
       "      <th>MA-CHAM810101.lag20-TARGET_CHEMBLID</th>\n",
       "      <th>MA-CHAM810101.lag19-TARGET_CHEMBLID</th>\n",
       "      <th>MA-CHAM810101.lag18-TARGET_CHEMBLID</th>\n",
       "      <th>MA-CHAM810101.lag17-TARGET_CHEMBLID</th>\n",
       "      <th>MA-CHAM810101.lag16-TARGET_CHEMBLID</th>\n",
       "      <th>MA-CHAM810101.lag15-TARGET_CHEMBLID</th>\n",
       "    </tr>\n",
       "  </thead>\n",
       "  <tbody>\n",
       "    <tr>\n",
       "      <th>0</th>\n",
       "      <td>-0.232991</td>\n",
       "      <td>7.732223</td>\n",
       "      <td>-0.217442</td>\n",
       "      <td>-0.327726</td>\n",
       "      <td>-0.171562</td>\n",
       "      <td>-0.548478</td>\n",
       "      <td>-0.413133</td>\n",
       "      <td>-0.478792</td>\n",
       "      <td>-0.006035</td>\n",
       "      <td>-0.429242</td>\n",
       "      <td>...</td>\n",
       "      <td>1.342387</td>\n",
       "      <td>-2.695403</td>\n",
       "      <td>-1.385156</td>\n",
       "      <td>-1.578877</td>\n",
       "      <td>1.907829</td>\n",
       "      <td>-0.845025</td>\n",
       "      <td>-0.337901</td>\n",
       "      <td>1.838355</td>\n",
       "      <td>-0.993784</td>\n",
       "      <td>0.702287</td>\n",
       "    </tr>\n",
       "    <tr>\n",
       "      <th>1</th>\n",
       "      <td>-0.232991</td>\n",
       "      <td>7.732223</td>\n",
       "      <td>-0.217442</td>\n",
       "      <td>-0.327726</td>\n",
       "      <td>-0.171562</td>\n",
       "      <td>-0.548478</td>\n",
       "      <td>-0.413133</td>\n",
       "      <td>-0.478792</td>\n",
       "      <td>-0.006035</td>\n",
       "      <td>-0.429242</td>\n",
       "      <td>...</td>\n",
       "      <td>1.342387</td>\n",
       "      <td>-2.695403</td>\n",
       "      <td>-1.385156</td>\n",
       "      <td>-1.578877</td>\n",
       "      <td>1.907829</td>\n",
       "      <td>-0.845025</td>\n",
       "      <td>-0.337901</td>\n",
       "      <td>1.838355</td>\n",
       "      <td>-0.993784</td>\n",
       "      <td>0.702287</td>\n",
       "    </tr>\n",
       "    <tr>\n",
       "      <th>2</th>\n",
       "      <td>-0.232991</td>\n",
       "      <td>7.732223</td>\n",
       "      <td>-0.217442</td>\n",
       "      <td>-0.327726</td>\n",
       "      <td>-0.171562</td>\n",
       "      <td>-0.548478</td>\n",
       "      <td>-0.413133</td>\n",
       "      <td>-0.478792</td>\n",
       "      <td>-0.006035</td>\n",
       "      <td>-0.429242</td>\n",
       "      <td>...</td>\n",
       "      <td>1.342387</td>\n",
       "      <td>-2.695403</td>\n",
       "      <td>-1.385156</td>\n",
       "      <td>-1.578877</td>\n",
       "      <td>1.907829</td>\n",
       "      <td>-0.845025</td>\n",
       "      <td>-0.337901</td>\n",
       "      <td>1.838355</td>\n",
       "      <td>-0.993784</td>\n",
       "      <td>0.702287</td>\n",
       "    </tr>\n",
       "    <tr>\n",
       "      <th>3</th>\n",
       "      <td>-0.141418</td>\n",
       "      <td>7.808540</td>\n",
       "      <td>-0.134548</td>\n",
       "      <td>-0.101971</td>\n",
       "      <td>-0.365039</td>\n",
       "      <td>-0.181906</td>\n",
       "      <td>-0.277549</td>\n",
       "      <td>-0.448202</td>\n",
       "      <td>-0.022812</td>\n",
       "      <td>-0.115554</td>\n",
       "      <td>...</td>\n",
       "      <td>1.342387</td>\n",
       "      <td>-2.695403</td>\n",
       "      <td>-1.385156</td>\n",
       "      <td>-1.578877</td>\n",
       "      <td>1.907829</td>\n",
       "      <td>-0.845025</td>\n",
       "      <td>-0.337901</td>\n",
       "      <td>1.838355</td>\n",
       "      <td>-0.993784</td>\n",
       "      <td>0.702287</td>\n",
       "    </tr>\n",
       "    <tr>\n",
       "      <th>4</th>\n",
       "      <td>-0.141418</td>\n",
       "      <td>7.808540</td>\n",
       "      <td>-0.134548</td>\n",
       "      <td>-0.101971</td>\n",
       "      <td>-0.365039</td>\n",
       "      <td>-0.181906</td>\n",
       "      <td>-0.277549</td>\n",
       "      <td>-0.448202</td>\n",
       "      <td>-0.022812</td>\n",
       "      <td>-0.115554</td>\n",
       "      <td>...</td>\n",
       "      <td>1.342387</td>\n",
       "      <td>-2.695403</td>\n",
       "      <td>-1.385156</td>\n",
       "      <td>-1.578877</td>\n",
       "      <td>1.907829</td>\n",
       "      <td>-0.845025</td>\n",
       "      <td>-0.337901</td>\n",
       "      <td>1.838355</td>\n",
       "      <td>-0.993784</td>\n",
       "      <td>0.702287</td>\n",
       "    </tr>\n",
       "  </tbody>\n",
       "</table>\n",
       "<p>5 rows × 120 columns</p>\n",
       "</div>"
      ],
      "text/plain": [
       "   MA-C1SP1-STANDARD_TYPE_UNITSj  MA-khs.sBr-STANDARD_TYPE_UNITSj  \\\n",
       "0                      -0.232991                         7.732223   \n",
       "1                      -0.232991                         7.732223   \n",
       "2                      -0.232991                         7.732223   \n",
       "3                      -0.141418                         7.808540   \n",
       "4                      -0.141418                         7.808540   \n",
       "\n",
       "   MA-khs.tN-STANDARD_TYPE_UNITSj  MA-khs.dsN-STANDARD_TYPE_UNITSj  \\\n",
       "0                       -0.217442                        -0.327726   \n",
       "1                       -0.217442                        -0.327726   \n",
       "2                       -0.217442                        -0.327726   \n",
       "3                       -0.134548                        -0.101971   \n",
       "4                       -0.134548                        -0.101971   \n",
       "\n",
       "   MA-C4SP3-STANDARD_TYPE_UNITSj  MA-khs.ddssS-STANDARD_TYPE_UNITSj  \\\n",
       "0                      -0.171562                          -0.548478   \n",
       "1                      -0.171562                          -0.548478   \n",
       "2                      -0.171562                          -0.548478   \n",
       "3                      -0.365039                          -0.181906   \n",
       "4                      -0.365039                          -0.181906   \n",
       "\n",
       "   MA-khs.aaS-STANDARD_TYPE_UNITSj  MA-khs.ssssC-STANDARD_TYPE_UNITSj  \\\n",
       "0                        -0.413133                          -0.478792   \n",
       "1                        -0.413133                          -0.478792   \n",
       "2                        -0.413133                          -0.478792   \n",
       "3                        -0.277549                          -0.448202   \n",
       "4                        -0.277549                          -0.448202   \n",
       "\n",
       "   MA-MDEC.44-STANDARD_TYPE_UNITSj  MA-khs.tsC-STANDARD_TYPE_UNITSj  \\\n",
       "0                        -0.006035                        -0.429242   \n",
       "1                        -0.006035                        -0.429242   \n",
       "2                        -0.006035                        -0.429242   \n",
       "3                        -0.022812                        -0.115554   \n",
       "4                        -0.022812                        -0.115554   \n",
       "\n",
       "                  ...                   MA-comp_S-TARGET_CHEMBLID  \\\n",
       "0                 ...                                    1.342387   \n",
       "1                 ...                                    1.342387   \n",
       "2                 ...                                    1.342387   \n",
       "3                 ...                                    1.342387   \n",
       "4                 ...                                    1.342387   \n",
       "\n",
       "   MA-CHOC760101.lag27-TARGET_CHEMBLID  MA-CHAM810101.lag10-TARGET_CHEMBLID  \\\n",
       "0                            -2.695403                            -1.385156   \n",
       "1                            -2.695403                            -1.385156   \n",
       "2                            -2.695403                            -1.385156   \n",
       "3                            -2.695403                            -1.385156   \n",
       "4                            -2.695403                            -1.385156   \n",
       "\n",
       "   MA-CHAM810101.lag21-TARGET_CHEMBLID  MA-CHAM810101.lag20-TARGET_CHEMBLID  \\\n",
       "0                            -1.578877                             1.907829   \n",
       "1                            -1.578877                             1.907829   \n",
       "2                            -1.578877                             1.907829   \n",
       "3                            -1.578877                             1.907829   \n",
       "4                            -1.578877                             1.907829   \n",
       "\n",
       "   MA-CHAM810101.lag19-TARGET_CHEMBLID  MA-CHAM810101.lag18-TARGET_CHEMBLID  \\\n",
       "0                            -0.845025                            -0.337901   \n",
       "1                            -0.845025                            -0.337901   \n",
       "2                            -0.845025                            -0.337901   \n",
       "3                            -0.845025                            -0.337901   \n",
       "4                            -0.845025                            -0.337901   \n",
       "\n",
       "   MA-CHAM810101.lag17-TARGET_CHEMBLID  MA-CHAM810101.lag16-TARGET_CHEMBLID  \\\n",
       "0                             1.838355                            -0.993784   \n",
       "1                             1.838355                            -0.993784   \n",
       "2                             1.838355                            -0.993784   \n",
       "3                             1.838355                            -0.993784   \n",
       "4                             1.838355                            -0.993784   \n",
       "\n",
       "   MA-CHAM810101.lag15-TARGET_CHEMBLID  \n",
       "0                             0.702287  \n",
       "1                             0.702287  \n",
       "2                             0.702287  \n",
       "3                             0.702287  \n",
       "4                             0.702287  \n",
       "\n",
       "[5 rows x 120 columns]"
      ]
     },
     "execution_count": 83,
     "metadata": {},
     "output_type": "execute_result"
    }
   ],
   "source": [
    "Sel_Feats = df_G1_sel.columns.drop('Lij')\n",
    "df_G1_feats = df_G1_sel[Sel_Feats]\n",
    "print('Sel Columns:',len(df_G1_feats.columns),'Sel Rows:',len(df_G1_feats))\n",
    "df_G1_feats.head()"
   ]
  },
  {
   "cell_type": "markdown",
   "metadata": {},
   "source": [
    "Make G1 predictions:"
   ]
  },
  {
   "cell_type": "code",
   "execution_count": 84,
   "metadata": {},
   "outputs": [],
   "source": [
    "y_pred_G1 = model.predict(df_G1_feats.values)\n",
    "y_pred_class_G1 = model.predict_classes(df_G1_feats.values)"
   ]
  },
  {
   "cell_type": "code",
   "execution_count": 85,
   "metadata": {},
   "outputs": [],
   "source": [
    "df_G1_sel['Prob_yPred']=y_pred_G1\n",
    "df_G1_sel['yPredClass']=y_pred_class_G1"
   ]
  },
  {
   "cell_type": "code",
   "execution_count": 86,
   "metadata": {},
   "outputs": [],
   "source": [
    "df_G1_sel.to_csv(os.path.join(WorkingFolder, 'G1_predictions.csv'), index=False)"
   ]
  },
  {
   "cell_type": "code",
   "execution_count": 87,
   "metadata": {},
   "outputs": [],
   "source": [
    "# append to details\n",
    "df_G1_detx = pd.read_csv(os.path.join(WorkingFolder, 'ds.G1_details.csv'))\n",
    "df_G1_detx['Prob_yPred']=y_pred_G1\n",
    "df_G1_detx['yPredClass']=y_pred_class_G1\n",
    "# save new details\n",
    "df_G1_detx.to_csv(os.path.join(WorkingFolder, 'G1_pred_details.csv'), index=False)"
   ]
  },
  {
   "cell_type": "markdown",
   "metadata": {},
   "source": [
    "All the G1 predictions with all other details could be found in \"G1_pred_details.csv\"!\n",
    "\n",
    "Write only G1 - experimental conditions - prediction:"
   ]
  },
  {
   "cell_type": "code",
   "execution_count": 88,
   "metadata": {},
   "outputs": [
    {
     "name": "stdout",
     "output_type": "stream",
     "text": [
      "Done!\n"
     ]
    }
   ],
   "source": [
    "colsx = ['CMPD_CHEMBLID','CANONICAL_SMILES','PROTEIN_ACCESSION',\n",
    "         'STANDARD_TYPE_UNITSj','ASSAY_CHEMBLID','ASSAY_TYPE',\n",
    "         'ASSAY_ORGANISM','ORGANISM','TARGET_CHEMBLID','yPredClass']\n",
    "# save only experimental conditions + predictions\n",
    "df_G1_detx[colsx].to_csv(os.path.join(WorkingFolder, 'G1_predictionsExperConds.csv'), index=False)\n",
    "print('Done!')"
   ]
  },
  {
   "cell_type": "code",
   "execution_count": null,
   "metadata": {},
   "outputs": [],
   "source": []
  }
 ],
 "metadata": {
  "kernelspec": {
   "display_name": "Python 3",
   "language": "python",
   "name": "python3"
  },
  "language_info": {
   "codemirror_mode": {
    "name": "ipython",
    "version": 3
   },
   "file_extension": ".py",
   "mimetype": "text/x-python",
   "name": "python",
   "nbconvert_exporter": "python",
   "pygments_lexer": "ipython3",
   "version": "3.5.2"
  }
 },
 "nbformat": 4,
 "nbformat_minor": 2
}
