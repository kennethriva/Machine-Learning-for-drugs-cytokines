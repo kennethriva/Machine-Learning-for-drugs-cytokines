{
 "cells": [
  {
   "cell_type": "markdown",
   "metadata": {},
   "source": [
    "# Experimental conditions\n",
    "\n",
    "Get the list with experimental ontology (set of different experimental conditions) for 'STANDARD_TYPE_UNITSj','ASSAY_CHEMBLID','ASSAY_TYPE','ASSAY_ORGANISM','ORGANISM','TARGET_CHEMBLID'."
   ]
  },
  {
   "cell_type": "code",
   "execution_count": 1,
   "metadata": {},
   "outputs": [],
   "source": [
    "import pandas as pd\n",
    "import os\n",
    "import ds_utils # our set of useful functions"
   ]
  },
  {
   "cell_type": "markdown",
   "metadata": {},
   "source": [
    "Define an working folder with the initial files and the new datasets and the name of the file for the final dataframe.\n",
    "\n",
    "Define the files that you want to merge into a final dataset as a dataframe:\n",
    "- create a list with the files to merge (the order in the list is the merge order)\n",
    "- create a list with fields to use for the merge (each field i corresponds to i, i+1 files)\n",
    "- create a list with the fieds to remove from the final merged dataframe"
   ]
  },
  {
   "cell_type": "code",
   "execution_count": 6,
   "metadata": {},
   "outputs": [],
   "source": [
    "WorkingFolder     = './datasets/'\n",
    "\n",
    "ExpFile  = 'ds_details.csv'\n",
    "ExperimCondList = ['STANDARD_TYPE_UNITSj','ASSAY_CHEMBLID','ASSAY_TYPE','ASSAY_ORGANISM',\n",
    "                   'ORGANISM','TARGET_CHEMBLID']"
   ]
  },
  {
   "cell_type": "code",
   "execution_count": 7,
   "metadata": {},
   "outputs": [],
   "source": [
    "# set initial df as the first file data in the list\n",
    "df_det = pd.read_csv(os.path.join(WorkingFolder, ExpFile))"
   ]
  },
  {
   "cell_type": "code",
   "execution_count": 8,
   "metadata": {},
   "outputs": [
    {
     "data": {
      "text/plain": [
       "Index(['CMPD_CHEMBLID', 'CANONICAL_SMILES', 'PROTEIN_ACCESSION', 'ACTIVITY_ID',\n",
       "       'STANDARD_TYPE_UNITSj', 'STANDARD_VALUE', 'ASSAY_CHEMBLID',\n",
       "       'ASSAY_TYPE', 'ASSAY_ORGANISM', 'CURATED_BY',\n",
       "       ...\n",
       "       'avg-comp_S-TARGET_CHEMBLID', 'MA-comp_S-TARGET_CHEMBLID',\n",
       "       'avg-comp_T-TARGET_CHEMBLID', 'MA-comp_T-TARGET_CHEMBLID',\n",
       "       'avg-comp_W-TARGET_CHEMBLID', 'MA-comp_W-TARGET_CHEMBLID',\n",
       "       'avg-comp_Y-TARGET_CHEMBLID', 'MA-comp_Y-TARGET_CHEMBLID',\n",
       "       'avg-comp_V-TARGET_CHEMBLID', 'MA-comp_V-TARGET_CHEMBLID'],\n",
       "      dtype='object', length=3307)"
      ]
     },
     "execution_count": 8,
     "metadata": {},
     "output_type": "execute_result"
    }
   ],
   "source": [
    "df_det.columns"
   ]
  },
  {
   "cell_type": "markdown",
   "metadata": {},
   "source": [
    "Get only the experimental condition columns:"
   ]
  },
  {
   "cell_type": "code",
   "execution_count": 9,
   "metadata": {},
   "outputs": [
    {
     "data": {
      "text/html": [
       "<div>\n",
       "<style scoped>\n",
       "    .dataframe tbody tr th:only-of-type {\n",
       "        vertical-align: middle;\n",
       "    }\n",
       "\n",
       "    .dataframe tbody tr th {\n",
       "        vertical-align: top;\n",
       "    }\n",
       "\n",
       "    .dataframe thead th {\n",
       "        text-align: right;\n",
       "    }\n",
       "</style>\n",
       "<table border=\"1\" class=\"dataframe\">\n",
       "  <thead>\n",
       "    <tr style=\"text-align: right;\">\n",
       "      <th></th>\n",
       "      <th>STANDARD_TYPE_UNITSj</th>\n",
       "      <th>ASSAY_CHEMBLID</th>\n",
       "      <th>ASSAY_TYPE</th>\n",
       "      <th>ASSAY_ORGANISM</th>\n",
       "      <th>ORGANISM</th>\n",
       "      <th>TARGET_CHEMBLID</th>\n",
       "    </tr>\n",
       "  </thead>\n",
       "  <tbody>\n",
       "    <tr>\n",
       "      <th>0</th>\n",
       "      <td>Inhibition (%)</td>\n",
       "      <td>CHEMBL819807</td>\n",
       "      <td>F</td>\n",
       "      <td>Homo sapiens</td>\n",
       "      <td>Homo sapiens</td>\n",
       "      <td>CHEMBL2094115</td>\n",
       "    </tr>\n",
       "    <tr>\n",
       "      <th>1</th>\n",
       "      <td>Inhibition (%)</td>\n",
       "      <td>CHEMBL819808</td>\n",
       "      <td>F</td>\n",
       "      <td>Homo sapiens</td>\n",
       "      <td>Homo sapiens</td>\n",
       "      <td>CHEMBL2094115</td>\n",
       "    </tr>\n",
       "    <tr>\n",
       "      <th>2</th>\n",
       "      <td>Inhibition (%)</td>\n",
       "      <td>CHEMBL819808</td>\n",
       "      <td>F</td>\n",
       "      <td>Homo sapiens</td>\n",
       "      <td>Homo sapiens</td>\n",
       "      <td>CHEMBL2094115</td>\n",
       "    </tr>\n",
       "    <tr>\n",
       "      <th>3</th>\n",
       "      <td>Inhibition (%)</td>\n",
       "      <td>CHEMBL819808</td>\n",
       "      <td>F</td>\n",
       "      <td>Homo sapiens</td>\n",
       "      <td>Homo sapiens</td>\n",
       "      <td>CHEMBL2094115</td>\n",
       "    </tr>\n",
       "    <tr>\n",
       "      <th>4</th>\n",
       "      <td>Inhibition (%)</td>\n",
       "      <td>CHEMBL819808</td>\n",
       "      <td>F</td>\n",
       "      <td>Homo sapiens</td>\n",
       "      <td>Homo sapiens</td>\n",
       "      <td>CHEMBL2094115</td>\n",
       "    </tr>\n",
       "  </tbody>\n",
       "</table>\n",
       "</div>"
      ],
      "text/plain": [
       "  STANDARD_TYPE_UNITSj ASSAY_CHEMBLID ASSAY_TYPE ASSAY_ORGANISM      ORGANISM  \\\n",
       "0       Inhibition (%)   CHEMBL819807          F   Homo sapiens  Homo sapiens   \n",
       "1       Inhibition (%)   CHEMBL819808          F   Homo sapiens  Homo sapiens   \n",
       "2       Inhibition (%)   CHEMBL819808          F   Homo sapiens  Homo sapiens   \n",
       "3       Inhibition (%)   CHEMBL819808          F   Homo sapiens  Homo sapiens   \n",
       "4       Inhibition (%)   CHEMBL819808          F   Homo sapiens  Homo sapiens   \n",
       "\n",
       "  TARGET_CHEMBLID  \n",
       "0   CHEMBL2094115  \n",
       "1   CHEMBL2094115  \n",
       "2   CHEMBL2094115  \n",
       "3   CHEMBL2094115  \n",
       "4   CHEMBL2094115  "
      ]
     },
     "execution_count": 9,
     "metadata": {},
     "output_type": "execute_result"
    }
   ],
   "source": [
    "df_exp = df_det[ExperimCondList]\n",
    "df_exp.head()"
   ]
  },
  {
   "cell_type": "markdown",
   "metadata": {},
   "source": [
    "Save each experimental condition as separate file:"
   ]
  },
  {
   "cell_type": "code",
   "execution_count": 16,
   "metadata": {},
   "outputs": [
    {
     "name": "stdout",
     "output_type": "stream",
     "text": [
      "\n",
      "-> Saving experimental data: STANDARD_TYPE_UNITSj\n",
      "\n",
      "-> Saving experimental data: ASSAY_CHEMBLID\n",
      "\n",
      "-> Saving experimental data: ASSAY_TYPE\n",
      "\n",
      "-> Saving experimental data: ASSAY_ORGANISM\n",
      "\n",
      "-> Saving experimental data: ORGANISM\n",
      "\n",
      "-> Saving experimental data: TARGET_CHEMBLID\n",
      "\n",
      "Done!\n"
     ]
    }
   ],
   "source": [
    "for experim in ExperimCondList:\n",
    "    ddf =df_exp[[experim]].drop_duplicates()\n",
    "    print('\\n-> Saving experimental data:', experim)\n",
    "    ddf.to_csv(os.path.join(WorkingFolder, 'ListOf_'+str(experim)+'.csv'), index=False)\n",
    "print('\\nDone!')"
   ]
  },
  {
   "cell_type": "markdown",
   "metadata": {},
   "source": [
    "Save all the experimental condition ontologies:"
   ]
  },
  {
   "cell_type": "code",
   "execution_count": 17,
   "metadata": {},
   "outputs": [
    {
     "data": {
      "text/plain": [
       "(1384, 6)"
      ]
     },
     "execution_count": 17,
     "metadata": {},
     "output_type": "execute_result"
    }
   ],
   "source": [
    "ddf2 =df_exp.drop_duplicates()\n",
    "ddf2.shape"
   ]
  },
  {
   "cell_type": "code",
   "execution_count": 18,
   "metadata": {},
   "outputs": [],
   "source": [
    "ddf2.to_csv(os.path.join(WorkingFolder, 'SetOfExperimentalCondition.csv'), index=False)"
   ]
  },
  {
   "cell_type": "code",
   "execution_count": null,
   "metadata": {},
   "outputs": [],
   "source": []
  }
 ],
 "metadata": {
  "kernelspec": {
   "display_name": "Python 3",
   "language": "python",
   "name": "python3"
  },
  "language_info": {
   "codemirror_mode": {
    "name": "ipython",
    "version": 3
   },
   "file_extension": ".py",
   "mimetype": "text/x-python",
   "name": "python",
   "nbconvert_exporter": "python",
   "pygments_lexer": "ipython3",
   "version": "3.5.2"
  }
 },
 "nbformat": 4,
 "nbformat_minor": 2
}
