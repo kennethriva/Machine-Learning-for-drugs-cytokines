{
 "cells": [
  {
   "cell_type": "markdown",
   "metadata": {},
   "source": [
    "# Create datasets for G1\n",
    "## Scalling and Feature Selection"
   ]
  },
  {
   "cell_type": "markdown",
   "metadata": {},
   "source": [
    "The original dataset and/or the ballanced ones will be first splitted into separated files as training and test subsets using a **seed**. All the scalling and feature selection will be apply **only on training set**:\n",
    "- *Dataset split*: train, test sets; the train set will be divided into train and validation in future Machine Learning hyperparameter search for the best model with a ML method;\n",
    "- *Scalling* of train set using centering, standardization, etc.;\n",
    "- *Reduction* of train set dimension (after scalling): decrease the number of features using less dimensions/derived features;\n",
    "- *Feature selection* using train set (after scalling): decrease the number of features by keeping only the most important for the classification.\n",
    "\n",
    "Two CSV files will be create for each type of scalling, reduction or feature selection: *tr* - trainin and *ts* - test."
   ]
  },
  {
   "cell_type": "code",
   "execution_count": 1,
   "metadata": {},
   "outputs": [],
   "source": [
    "import numpy as np\n",
    "import pandas as pd\n",
    "import os\n",
    "from sklearn.model_selection import train_test_split # for dataset split\n",
    "\n",
    "from sklearn.preprocessing import MinMaxScaler\n",
    "from sklearn.preprocessing import StandardScaler\n",
    "from sklearn.preprocessing import RobustScaler\n",
    "from sklearn.preprocessing import QuantileTransformer\n",
    "from sklearn.preprocessing import PowerTransformer"
   ]
  },
  {
   "cell_type": "markdown",
   "metadata": {},
   "source": [
    "Let's define the name of the original dataset, the folder and the prefix characters for each scalling, dimension reduction or feature selection. Each transformation will add a prefix to the previous name of the file.\n",
    "\n",
    "**You can used the original dataset that could be unballanced or the ballanced datasets obtained with previous scripts (one file only)!**"
   ]
  },
  {
   "cell_type": "code",
   "execution_count": 2,
   "metadata": {},
   "outputs": [],
   "source": [
    "# Create scalled datasets using normalized MA dataset\n",
    "# Two CSV files will be create for each type of scalling, reduction or feature selection\n",
    "WorkingFolder = './datasets/'\n",
    "\n",
    "# change this with ballanced datasets such as upsampl.ds_MA.csv or downsampl.ds_MA.csv\n",
    "# if you want to run all files, you should modify the entire script by looping all\n",
    "# transformation using a list of input files [original, undersampled, upsampled]\n",
    "sOrigDataSet  = 'ds_MA.csv'\n",
    "sOrigDataSet_G1  = 'ds.G1_MA.csv'\n",
    "sOrigDataSet_G1_det  = 'ds.G1_details.csv'\n",
    "\n",
    "# Split details\n",
    "seed = 44          # for reproductibility\n",
    "\n",
    "test_size = 0.25  # train size = 1 - test_size\n",
    "outVar = 'Lij'    # output variable\n",
    "\n",
    "# Scalers: the files as prefix + original name\n",
    "# =================================================\n",
    "# Original (no scaling!), StandardScaler, MinMaxScaler, RobustScaler,\n",
    "# QuantileTransformer (normal), QuantileTransformer(uniform)\n",
    "\n",
    "# scaler prefix for file name\n",
    "#scalerPrefix = ['o', 's', 'm', 'r', 'pyj', 'qn', 'qu']\n",
    "# scalerPrefix = ['o', 's', 'm', 'r']\n",
    "scalerPrefix = ['s']\n",
    "\n",
    "# sklearn scalers\n",
    "#scalerList   = [None, StandardScaler(), MinMaxScaler(),\n",
    "#                RobustScaler(quantile_range=(25, 75)),\n",
    "#                PowerTransformer(method='yeo-johnson'),\n",
    "#                QuantileTransformer(output_distribution='normal'),\n",
    "#                QuantileTransformer(output_distribution='uniform')]\n",
    "\n",
    "# sklearn scalers\n",
    "# scalerList   = [None, StandardScaler(), MinMaxScaler(), RobustScaler()]\n",
    "scalerList   = [StandardScaler()]\n",
    "\n",
    "# Dimension Reductions\n",
    "# ===================\n",
    "# PCA\n",
    "reductionPrefix = 'pca'\n",
    "\n",
    "# Feature selection\n",
    "# =================\n",
    "# RF feature selection, Univariate feature selection using chi-squared test,\n",
    "# Univariate feature selection with mutual information\n",
    "\n",
    "# prefix to add to the processed files for each FS method\n",
    "#FSprefix = ['fs.rf.',\n",
    "#            'fs.univchi.',\n",
    "#            'fs.univmi.']\n",
    "\n",
    "FSprefix = ['fs-rf.']\n",
    "\n",
    "# number of total features for reduction and selection if we are not limited by experiment\n",
    "noSelFeatures = 50"
   ]
  },
  {
   "cell_type": "markdown",
   "metadata": {},
   "source": [
    "Start by reading the original dataset:"
   ]
  },
  {
   "cell_type": "code",
   "execution_count": 3,
   "metadata": {},
   "outputs": [
    {
     "name": "stdout",
     "output_type": "stream",
     "text": [
      "-> Reading source dataset: ds_MA.csv ...\n",
      "Columns: 1519 Rows: 12906\n",
      "Done\n",
      "-> Reading source dataset G1: ds.G1_MA.csv ...\n",
      "Columns: 1519 Rows: 1384\n",
      "Done\n",
      "-> Reading source dataset G1 details: ds.G1_details.csv ...\n",
      "Columns: 3307 Rows: 1384\n",
      "Done\n"
     ]
    }
   ],
   "source": [
    "print('-> Reading source dataset:',sOrigDataSet,'...')\n",
    "df = pd.read_csv(os.path.join(WorkingFolder, sOrigDataSet))\n",
    "print('Columns:',len(df.columns),'Rows:',len(df))\n",
    "print('Done')\n",
    "\n",
    "print('-> Reading source dataset G1:',sOrigDataSet_G1,'...')\n",
    "df_G1 = pd.read_csv(os.path.join(WorkingFolder, sOrigDataSet_G1))\n",
    "print('Columns:',len(df_G1.columns),'Rows:',len(df_G1))\n",
    "print('Done')\n",
    "\n",
    "print('-> Reading source dataset G1 details:',sOrigDataSet_G1_det,'...')\n",
    "df_G1_det = pd.read_csv(os.path.join(WorkingFolder, sOrigDataSet_G1_det))\n",
    "print('Columns:',len(df_G1_det.columns),'Rows:',len(df_G1_det))\n",
    "print('Done')"
   ]
  },
  {
   "cell_type": "markdown",
   "metadata": {},
   "source": [
    "## Dataset split\n",
    "\n",
    "First, split the dataset using stratification for non-ballanced datasets: the ratio between the classes is the same in training and test sets."
   ]
  },
  {
   "cell_type": "code",
   "execution_count": 4,
   "metadata": {},
   "outputs": [
    {
     "name": "stdout",
     "output_type": "stream",
     "text": [
      "--> Split of dataset in training and test ...\n",
      "X_train: (9679, 1518)\n",
      "y_train: (9679,)\n",
      "X_test: (3227, 1518)\n",
      "y_test: (3227,)\n",
      "Done!\n"
     ]
    }
   ],
   "source": [
    "# Get features and ouput as dataframes\n",
    "print('--> Split of dataset in training and test ...')\n",
    "X = df.drop(outVar, axis = 1) # remove output variable from input features\n",
    "y = df[outVar]                # get only the output variable\n",
    "\n",
    "# get only the values for features and output (as arrays)\n",
    "Xdata = X.values # get values of features\n",
    "Ydata = y.values # get output values\n",
    "\n",
    "# split data in training and test sets (X = input features, y = output variable)\n",
    "# using a seed, test size (defined above) and stratification for un-ballanced classes\n",
    "X_train, X_test, y_train, y_test = train_test_split(Xdata, Ydata,\n",
    "                                                    test_size=test_size,\n",
    "                                                    random_state=seed,\n",
    "                                                    stratify=Ydata)\n",
    "print('X_train:', X_train.shape)\n",
    "print('y_train:', y_train.shape)\n",
    "print('X_test:', X_test.shape)\n",
    "print('y_test:', y_test.shape)\n",
    "\n",
    "print('Done!')"
   ]
  },
  {
   "cell_type": "code",
   "execution_count": 7,
   "metadata": {},
   "outputs": [
    {
     "data": {
      "text/plain": [
       "1518"
      ]
     },
     "execution_count": 7,
     "metadata": {},
     "output_type": "execute_result"
    }
   ],
   "source": [
    "MAs = [col for col in df_G1.columns if ('MA-' in col)]\n",
    "len(MAs)"
   ]
  },
  {
   "cell_type": "code",
   "execution_count": 9,
   "metadata": {},
   "outputs": [
    {
     "name": "stdout",
     "output_type": "stream",
     "text": [
      "--> Split of dataset in training and test ...\n",
      "Xdata_G1: (1384, 1518)\n",
      "Ydata_G1: (1384,)\n"
     ]
    }
   ],
   "source": [
    "# Get features and ouput as dataframes for G1\n",
    "print('--> Split of dataset in training and test ...')\n",
    "\n",
    "X_G1 = df_G1[MAs] # remove output variable from input features\n",
    "#X_G1 = df_G1.drop(outVar, axis = 1) # remove output variable from input features\n",
    "y_G1 = df_G1[outVar]                # get only the output variable\n",
    "\n",
    "# get only the values for features and output (as arrays)\n",
    "Xdata_G1 = X_G1.values # get values of features\n",
    "Ydata_G1 = y_G1.values # get output values\n",
    "\n",
    "print('Xdata_G1:', Xdata_G1.shape)\n",
    "print('Ydata_G1:', Ydata_G1.shape)"
   ]
  },
  {
   "cell_type": "markdown",
   "metadata": {},
   "source": [
    "## Dataset scaling\n",
    "\n",
    "Two files will be saved for training and test sets for each scaling including non-scalling dataset."
   ]
  },
  {
   "cell_type": "code",
   "execution_count": 10,
   "metadata": {
    "scrolled": true
   },
   "outputs": [
    {
     "name": "stdout",
     "output_type": "stream",
     "text": [
      "-> Scaling dataset train and test:\n",
      "--> Scaler: StandardScaler(copy=True, with_mean=True, with_std=True) ...\n",
      "---> Saving training: s.ds_MA_tr.csv  ...\n",
      "---> Saving test: s.ds_MA_ts.csv  ...\n",
      "---> Saving G1 scaled: s.ds_MA_G1.csv  ...\n",
      "Done!\n"
     ]
    }
   ],
   "source": [
    "# Scale dataset\n",
    "print('-> Scaling dataset train and test:')\n",
    "\n",
    "for scaler in scalerList: # or scalerPrefix\n",
    "    \n",
    "    # new file name; we will add tr and ts + csv\n",
    "    newFile = scalerPrefix[scalerList.index(scaler)]+'.'+sOrigDataSet[:-4]\n",
    "    \n",
    "    # decide to scale or not\n",
    "    if scaler == None: # if it is the original dataset, do not scale!\n",
    "        print('--> Original (no scaler!) ...')\n",
    "        X_train_transf = X_train # do not modify train set\n",
    "        X_test_transf  = X_test  # do not modify test set\n",
    "        \n",
    "    else:              # if it is not the original dataset, apply scalers\n",
    "        print('--> Scaler:', str(scaler), '...')\n",
    "        X_train_transf = scaler.fit_transform(X_train) # use a scaler to modify only train set\n",
    "        X_test_transf  = scaler.transform(X_test)      # use the same transformation for test set\n",
    "        X_G1_transf    = scaler.transform(Xdata_G1)    # use the same transformation for G1\n",
    "\n",
    "    # Save the training scaled dataset\n",
    "    df_tr_scaler = pd.DataFrame(X_train_transf, columns=X.columns)\n",
    "    df_tr_scaler[outVar]= y_train\n",
    "    newFile_tr = newFile +'_tr.csv'\n",
    "\n",
    "    print('---> Saving training:', newFile_tr, ' ...')\n",
    "    df_tr_scaler.to_csv(os.path.join(WorkingFolder, newFile_tr), index=False)\n",
    "\n",
    "    # Save the test scaled dataset\n",
    "    df_ts_scaler = pd.DataFrame(X_test_transf, columns=X.columns)\n",
    "    df_ts_scaler[outVar]= y_test\n",
    "    newFile_ts = newFile +'_ts.csv'\n",
    "\n",
    "    print('---> Saving test:', newFile_ts, ' ...')\n",
    "    df_ts_scaler.to_csv(os.path.join(WorkingFolder, newFile_ts), index=False)\n",
    "    \n",
    "    # Save G1 scaled dataset for future predictions\n",
    "    df_G1_scaler = pd.DataFrame(X_G1_transf, columns=X.columns)\n",
    "    df_G1_scaler[outVar]= Ydata_G1\n",
    "    newFile_tr = newFile +'_G1.csv'\n",
    "\n",
    "    print('---> Saving G1 scaled:', newFile_tr, ' ...')\n",
    "    df_G1_scaler.to_csv(os.path.join(WorkingFolder, newFile_tr), index=False)\n",
    "\n",
    "\n",
    "print('Done!')"
   ]
  },
  {
   "cell_type": "code",
   "execution_count": 11,
   "metadata": {},
   "outputs": [
    {
     "data": {
      "text/plain": [
       "['./datasets/scaler.save']"
      ]
     },
     "execution_count": 11,
     "metadata": {},
     "output_type": "execute_result"
    }
   ],
   "source": [
    "# save scaler as file\n",
    "from sklearn.externals import joblib\n",
    "scaler_filename = os.path.join(WorkingFolder, \"scaler.save\") \n",
    "joblib.dump(scaler, scaler_filename)"
   ]
  },
  {
   "cell_type": "code",
   "execution_count": 12,
   "metadata": {},
   "outputs": [
    {
     "data": {
      "text/plain": [
       "array([ 9.38012462e-01, -3.61046970e-02, -3.38916796e+02, ...,\n",
       "       -4.24350032e-16,  2.21888679e-15, -2.26174103e-15])"
      ]
     },
     "execution_count": 12,
     "metadata": {},
     "output_type": "execute_result"
    }
   ],
   "source": [
    "# means of the scaling\n",
    "scaler.mean_"
   ]
  },
  {
   "cell_type": "code",
   "execution_count": 13,
   "metadata": {},
   "outputs": [
    {
     "data": {
      "text/plain": [
       "array([ 9.38012462e-01, -3.61046970e-02, -3.38916796e+02, ...,\n",
       "       -4.24350032e-16,  2.21888679e-15, -2.26174103e-15])"
      ]
     },
     "execution_count": 13,
     "metadata": {},
     "output_type": "execute_result"
    }
   ],
   "source": [
    "# means of the scaling\n",
    "scaler.mean_"
   ]
  },
  {
   "cell_type": "code",
   "execution_count": 14,
   "metadata": {},
   "outputs": [
    {
     "data": {
      "text/plain": [
       "array([1.28891675e+06, 1.47732542e+02, 9.85131671e+08, ...,\n",
       "       3.55586841e-32, 1.68402045e-30, 9.06104020e-31])"
      ]
     },
     "execution_count": 14,
     "metadata": {},
     "output_type": "execute_result"
    }
   ],
   "source": [
    "# variances of the scaling\n",
    "scaler.var_"
   ]
  },
  {
   "cell_type": "code",
   "execution_count": 15,
   "metadata": {},
   "outputs": [
    {
     "data": {
      "text/plain": [
       "array([1.13530469e+03, 1.21545276e+01, 3.13868073e+04, ...,\n",
       "       1.88570104e-16, 1.29769814e-15, 9.51894962e-16])"
      ]
     },
     "execution_count": 15,
     "metadata": {},
     "output_type": "execute_result"
    }
   ],
   "source": [
    "# s of the scaling\n",
    "scaler.scale_"
   ]
  },
  {
   "cell_type": "markdown",
   "metadata": {},
   "source": [
    "Save to files means, vars and s for StandarScaller (we need these value for the G1 prediction!):"
   ]
  },
  {
   "cell_type": "code",
   "execution_count": 16,
   "metadata": {},
   "outputs": [],
   "source": [
    "np.savetxt(os.path.join(WorkingFolder, 'StandardScaler_mean.csv'), scaler.mean_.reshape((-1, 1)).T, delimiter=',')\n",
    "np.savetxt(os.path.join(WorkingFolder, 'StandardScaler_var.csv'), scaler.var_.reshape((-1, 1)).T, delimiter=',')\n",
    "np.savetxt(os.path.join(WorkingFolder, 'StandardScaler_scale.csv'), scaler.scale_.reshape((-1, 1)).T, delimiter=',')"
   ]
  },
  {
   "cell_type": "code",
   "execution_count": null,
   "metadata": {},
   "outputs": [],
   "source": []
  },
  {
   "cell_type": "markdown",
   "metadata": {},
   "source": [
    "### G1 scaling"
   ]
  },
  {
   "cell_type": "code",
   "execution_count": 45,
   "metadata": {},
   "outputs": [],
   "source": [
    "from sklearn.externals import joblib\n",
    "scaler_filename = os.path.join(WorkingFolder, \"scaler.save\") \n",
    "\n",
    "# load the scaler\n",
    "scaler = joblib.load(scaler_filename)"
   ]
  },
  {
   "cell_type": "code",
   "execution_count": 47,
   "metadata": {},
   "outputs": [
    {
     "name": "stdout",
     "output_type": "stream",
     "text": [
      "-> Reading source dataset G1: ds.G1_MA.csv ...\n",
      "Columns: 1519 Rows: 1384\n",
      "Done\n"
     ]
    }
   ],
   "source": [
    "WorkingFolder = './datasets/'\n",
    "fG1_MAs = \"ds.G1_MA.csv\"\n",
    "print('-> Reading source dataset G1:',fG1_MAs,'...')\n",
    "df_G1 = pd.read_csv(os.path.join(WorkingFolder, fG1_MAs))\n",
    "print('Columns:',len(df_G1.columns),'Rows:',len(df_G1))\n",
    "print('Done')"
   ]
  },
  {
   "cell_type": "code",
   "execution_count": 48,
   "metadata": {},
   "outputs": [
    {
     "name": "stdout",
     "output_type": "stream",
     "text": [
      "Xdata_G1: (1384, 1518)\n",
      "Ydata_G1: (1384,)\n"
     ]
    }
   ],
   "source": [
    "X_G1 = df_G1.drop(outVar, axis = 1) # remove output variable from input features\n",
    "y_G1 = df_G1['Lij']                # get only the output variable\n",
    "\n",
    "# get only the values for features and output (as arrays)\n",
    "Xdata_G1 = X_G1.values # get values of features\n",
    "Ydata_G1 = y_G1.values # get output values\n",
    "\n",
    "print('Xdata_G1:', Xdata_G1.shape)\n",
    "print('Ydata_G1:', Ydata_G1.shape)"
   ]
  },
  {
   "cell_type": "code",
   "execution_count": 49,
   "metadata": {},
   "outputs": [],
   "source": [
    "X_G1_transf = scaler.transform(Xdata_G1)    # use the same transformation for G1"
   ]
  },
  {
   "cell_type": "code",
   "execution_count": 52,
   "metadata": {},
   "outputs": [],
   "source": [
    "# Save G1 scaled dataset for future predictions\n",
    "df_G1_scaler = pd.DataFrame(X_G1_transf, columns=X_G1.columns)\n",
    "df_G1_scaler['Lij']= Ydata_G1\n",
    "newFile_tr = 's.ds_MA_G1.csv'"
   ]
  },
  {
   "cell_type": "code",
   "execution_count": 54,
   "metadata": {},
   "outputs": [
    {
     "name": "stdout",
     "output_type": "stream",
     "text": [
      "---> Saving G1 scaled: s.ds_MA_G1.csv  ...\n",
      "Done!\n"
     ]
    }
   ],
   "source": [
    "print('---> Saving G1 scaled:',newFile_tr, ' ...')\n",
    "df_G1_scaler.to_csv(os.path.join(WorkingFolder, newFile_tr), index=False)\n",
    "print('Done!')"
   ]
  },
  {
   "cell_type": "markdown",
   "metadata": {},
   "source": [
    "### Selection of the same features for standardized G1 \n",
    "\n",
    "Choose for G1 only the selected features from the best model to use later for predictions:"
   ]
  },
  {
   "cell_type": "code",
   "execution_count": 55,
   "metadata": {},
   "outputs": [
    {
     "name": "stdout",
     "output_type": "stream",
     "text": [
      "-> Reading source dataset: s.ds_MA_G1.csv ...\n",
      "Columns: 1519 Rows: 1384\n",
      "Done\n",
      "['MA-ALogP-STANDARD_TYPE_UNITSj', 'MA-ALogp2-STANDARD_TYPE_UNITSj', 'MA-AMR-STANDARD_TYPE_UNITSj', 'MA-apol-STANDARD_TYPE_UNITSj', 'MA-naAromAtom-STANDARD_TYPE_UNITSj', 'MA-nAromBond-STANDARD_TYPE_UNITSj', 'MA-nAtom-STANDARD_TYPE_UNITSj', 'MA-ATSc1-STANDARD_TYPE_UNITSj', 'MA-ATSc2-STANDARD_TYPE_UNITSj', 'MA-ATSc3-STANDARD_TYPE_UNITSj', 'MA-ATSc4-STANDARD_TYPE_UNITSj', 'MA-ATSc5-STANDARD_TYPE_UNITSj', 'MA-ATSm1-STANDARD_TYPE_UNITSj', 'MA-ATSm2-STANDARD_TYPE_UNITSj', 'MA-ATSm3-STANDARD_TYPE_UNITSj', 'MA-ATSm4-STANDARD_TYPE_UNITSj', 'MA-ATSm5-STANDARD_TYPE_UNITSj', 'MA-ATSp1-STANDARD_TYPE_UNITSj', 'MA-ATSp2-STANDARD_TYPE_UNITSj', 'MA-ATSp3-STANDARD_TYPE_UNITSj', 'MA-ATSp4-STANDARD_TYPE_UNITSj', 'MA-ATSp5-STANDARD_TYPE_UNITSj', 'MA-bpol-STANDARD_TYPE_UNITSj', 'MA-nB-STANDARD_TYPE_UNITSj', 'MA-C1SP1-STANDARD_TYPE_UNITSj', 'MA-C2SP1-STANDARD_TYPE_UNITSj', 'MA-C1SP2-STANDARD_TYPE_UNITSj', 'MA-C2SP2-STANDARD_TYPE_UNITSj', 'MA-C3SP2-STANDARD_TYPE_UNITSj', 'MA-C1SP3-STANDARD_TYPE_UNITSj', 'MA-C2SP3-STANDARD_TYPE_UNITSj', 'MA-C3SP3-STANDARD_TYPE_UNITSj', 'MA-C4SP3-STANDARD_TYPE_UNITSj', 'MA-SCH.3-STANDARD_TYPE_UNITSj', 'MA-SCH.4-STANDARD_TYPE_UNITSj', 'MA-SCH.5-STANDARD_TYPE_UNITSj', 'MA-SCH.6-STANDARD_TYPE_UNITSj', 'MA-SCH.7-STANDARD_TYPE_UNITSj', 'MA-VCH.3-STANDARD_TYPE_UNITSj', 'MA-VCH.4-STANDARD_TYPE_UNITSj', 'MA-VCH.5-STANDARD_TYPE_UNITSj', 'MA-VCH.6-STANDARD_TYPE_UNITSj', 'MA-VCH.7-STANDARD_TYPE_UNITSj', 'MA-SC.3-STANDARD_TYPE_UNITSj', 'MA-SC.4-STANDARD_TYPE_UNITSj', 'MA-SC.5-STANDARD_TYPE_UNITSj', 'MA-SC.6-STANDARD_TYPE_UNITSj', 'MA-VC.3-STANDARD_TYPE_UNITSj', 'MA-VC.4-STANDARD_TYPE_UNITSj', 'MA-VC.5-STANDARD_TYPE_UNITSj', 'MA-VC.6-STANDARD_TYPE_UNITSj', 'MA-SPC.4-STANDARD_TYPE_UNITSj', 'MA-SPC.5-STANDARD_TYPE_UNITSj', 'MA-SPC.6-STANDARD_TYPE_UNITSj', 'MA-VPC.4-STANDARD_TYPE_UNITSj', 'MA-VPC.5-STANDARD_TYPE_UNITSj', 'MA-VPC.6-STANDARD_TYPE_UNITSj', 'MA-SP.0-STANDARD_TYPE_UNITSj', 'MA-SP.1-STANDARD_TYPE_UNITSj', 'MA-SP.2-STANDARD_TYPE_UNITSj', 'MA-SP.3-STANDARD_TYPE_UNITSj', 'MA-SP.4-STANDARD_TYPE_UNITSj', 'MA-SP.5-STANDARD_TYPE_UNITSj', 'MA-SP.6-STANDARD_TYPE_UNITSj', 'MA-SP.7-STANDARD_TYPE_UNITSj', 'MA-VP.0-STANDARD_TYPE_UNITSj', 'MA-VP.1-STANDARD_TYPE_UNITSj', 'MA-VP.2-STANDARD_TYPE_UNITSj', 'MA-VP.3-STANDARD_TYPE_UNITSj', 'MA-VP.4-STANDARD_TYPE_UNITSj', 'MA-VP.5-STANDARD_TYPE_UNITSj', 'MA-VP.6-STANDARD_TYPE_UNITSj', 'MA-VP.7-STANDARD_TYPE_UNITSj', 'MA-ECCEN-STANDARD_TYPE_UNITSj', 'MA-fragC-STANDARD_TYPE_UNITSj', 'MA-nHBAcc-STANDARD_TYPE_UNITSj', 'MA-nHBDon-STANDARD_TYPE_UNITSj', 'MA-HybRatio-STANDARD_TYPE_UNITSj', 'MA-Kier1-STANDARD_TYPE_UNITSj', 'MA-Kier2-STANDARD_TYPE_UNITSj', 'MA-Kier3-STANDARD_TYPE_UNITSj', 'MA-khs.sCH3-STANDARD_TYPE_UNITSj', 'MA-khs.ssCH2-STANDARD_TYPE_UNITSj', 'MA-khs.dsCH-STANDARD_TYPE_UNITSj', 'MA-khs.aaCH-STANDARD_TYPE_UNITSj', 'MA-khs.sssCH-STANDARD_TYPE_UNITSj', 'MA-khs.tsC-STANDARD_TYPE_UNITSj', 'MA-khs.dssC-STANDARD_TYPE_UNITSj', 'MA-khs.aasC-STANDARD_TYPE_UNITSj', 'MA-khs.aaaC-STANDARD_TYPE_UNITSj', 'MA-khs.ssssC-STANDARD_TYPE_UNITSj', 'MA-khs.sNH2-STANDARD_TYPE_UNITSj', 'MA-khs.ssNH-STANDARD_TYPE_UNITSj', 'MA-khs.aaNH-STANDARD_TYPE_UNITSj', 'MA-khs.tN-STANDARD_TYPE_UNITSj', 'MA-khs.dsN-STANDARD_TYPE_UNITSj', 'MA-khs.aaN-STANDARD_TYPE_UNITSj', 'MA-khs.sssN-STANDARD_TYPE_UNITSj', 'MA-khs.aasN-STANDARD_TYPE_UNITSj', 'MA-khs.sOH-STANDARD_TYPE_UNITSj', 'MA-khs.dO-STANDARD_TYPE_UNITSj', 'MA-khs.ssO-STANDARD_TYPE_UNITSj', 'MA-khs.aaO-STANDARD_TYPE_UNITSj', 'MA-khs.sF-STANDARD_TYPE_UNITSj', 'MA-khs.ssS-STANDARD_TYPE_UNITSj', 'MA-khs.aaS-STANDARD_TYPE_UNITSj', 'MA-khs.ddssS-STANDARD_TYPE_UNITSj', 'MA-khs.sCl-STANDARD_TYPE_UNITSj', 'MA-khs.sBr-STANDARD_TYPE_UNITSj', 'MA-nAtomLC-STANDARD_TYPE_UNITSj', 'MA-nAtomP-STANDARD_TYPE_UNITSj', 'MA-nAtomLAC-STANDARD_TYPE_UNITSj', 'MA-MDEC.11-STANDARD_TYPE_UNITSj', 'MA-MDEC.12-STANDARD_TYPE_UNITSj', 'MA-MDEC.13-STANDARD_TYPE_UNITSj', 'MA-MDEC.14-STANDARD_TYPE_UNITSj', 'MA-MDEC.22-STANDARD_TYPE_UNITSj', 'MA-MDEC.23-STANDARD_TYPE_UNITSj', 'MA-MDEC.24-STANDARD_TYPE_UNITSj', 'MA-MDEC.33-STANDARD_TYPE_UNITSj', 'MA-MDEC.34-STANDARD_TYPE_UNITSj', 'MA-MDEC.44-STANDARD_TYPE_UNITSj', 'MA-MDEO.11-STANDARD_TYPE_UNITSj', 'MA-MDEO.12-STANDARD_TYPE_UNITSj', 'MA-MDEO.22-STANDARD_TYPE_UNITSj', 'MA-MDEN.11-STANDARD_TYPE_UNITSj', 'MA-MDEN.12-STANDARD_TYPE_UNITSj', 'MA-MDEN.13-STANDARD_TYPE_UNITSj', 'MA-MDEN.22-STANDARD_TYPE_UNITSj', 'MA-MDEN.23-STANDARD_TYPE_UNITSj', 'MA-MDEN.33-STANDARD_TYPE_UNITSj', 'MA-MLogP-STANDARD_TYPE_UNITSj', 'MA-PetitjeanNumber-STANDARD_TYPE_UNITSj', 'MA-topoShape-STANDARD_TYPE_UNITSj', 'MA-nRotB-STANDARD_TYPE_UNITSj', 'MA-LipinskiFailures-STANDARD_TYPE_UNITSj', 'MA-TopoPSA-STANDARD_TYPE_UNITSj', 'MA-VAdjMat-STANDARD_TYPE_UNITSj', 'MA-MW-STANDARD_TYPE_UNITSj', 'MA-WPATH-STANDARD_TYPE_UNITSj', 'MA-WPOL-STANDARD_TYPE_UNITSj', 'MA-XLogP-STANDARD_TYPE_UNITSj', 'MA-Zagreb-STANDARD_TYPE_UNITSj', 'MA-CHOC760101.lag1-STANDARD_TYPE_UNITSj', 'MA-CHOC760101.lag2-STANDARD_TYPE_UNITSj', 'MA-CHOC760101.lag3-STANDARD_TYPE_UNITSj', 'MA-CHOC760101.lag4-STANDARD_TYPE_UNITSj', 'MA-CHOC760101.lag5-STANDARD_TYPE_UNITSj', 'MA-CHOC760101.lag6-STANDARD_TYPE_UNITSj', 'MA-CHOC760101.lag7-STANDARD_TYPE_UNITSj', 'MA-CHOC760101.lag8-STANDARD_TYPE_UNITSj', 'MA-CHOC760101.lag9-STANDARD_TYPE_UNITSj', 'MA-CHOC760101.lag10-STANDARD_TYPE_UNITSj', 'MA-CHOC760101.lag11-STANDARD_TYPE_UNITSj', 'MA-CHOC760101.lag12-STANDARD_TYPE_UNITSj', 'MA-CHOC760101.lag13-STANDARD_TYPE_UNITSj', 'MA-CHOC760101.lag14-STANDARD_TYPE_UNITSj', 'MA-CHOC760101.lag15-STANDARD_TYPE_UNITSj', 'MA-CHOC760101.lag16-STANDARD_TYPE_UNITSj', 'MA-CHOC760101.lag17-STANDARD_TYPE_UNITSj', 'MA-CHOC760101.lag18-STANDARD_TYPE_UNITSj', 'MA-CHOC760101.lag19-STANDARD_TYPE_UNITSj', 'MA-CHOC760101.lag20-STANDARD_TYPE_UNITSj', 'MA-CHOC760101.lag21-STANDARD_TYPE_UNITSj', 'MA-CHOC760101.lag22-STANDARD_TYPE_UNITSj', 'MA-CHOC760101.lag23-STANDARD_TYPE_UNITSj', 'MA-CHOC760101.lag24-STANDARD_TYPE_UNITSj', 'MA-CHOC760101.lag25-STANDARD_TYPE_UNITSj', 'MA-CHOC760101.lag26-STANDARD_TYPE_UNITSj', 'MA-CHOC760101.lag27-STANDARD_TYPE_UNITSj', 'MA-CHOC760101.lag28-STANDARD_TYPE_UNITSj', 'MA-CHOC760101.lag29-STANDARD_TYPE_UNITSj', 'MA-CHOC760101.lag30-STANDARD_TYPE_UNITSj', 'MA-BIGC670101.lag1-STANDARD_TYPE_UNITSj', 'MA-BIGC670101.lag2-STANDARD_TYPE_UNITSj', 'MA-BIGC670101.lag3-STANDARD_TYPE_UNITSj', 'MA-BIGC670101.lag4-STANDARD_TYPE_UNITSj', 'MA-BIGC670101.lag5-STANDARD_TYPE_UNITSj', 'MA-BIGC670101.lag6-STANDARD_TYPE_UNITSj', 'MA-BIGC670101.lag7-STANDARD_TYPE_UNITSj', 'MA-BIGC670101.lag8-STANDARD_TYPE_UNITSj', 'MA-BIGC670101.lag9-STANDARD_TYPE_UNITSj', 'MA-BIGC670101.lag10-STANDARD_TYPE_UNITSj', 'MA-BIGC670101.lag11-STANDARD_TYPE_UNITSj', 'MA-BIGC670101.lag12-STANDARD_TYPE_UNITSj', 'MA-BIGC670101.lag13-STANDARD_TYPE_UNITSj', 'MA-BIGC670101.lag14-STANDARD_TYPE_UNITSj', 'MA-BIGC670101.lag15-STANDARD_TYPE_UNITSj', 'MA-BIGC670101.lag16-STANDARD_TYPE_UNITSj', 'MA-BIGC670101.lag17-STANDARD_TYPE_UNITSj', 'MA-BIGC670101.lag18-STANDARD_TYPE_UNITSj', 'MA-BIGC670101.lag19-STANDARD_TYPE_UNITSj', 'MA-BIGC670101.lag20-STANDARD_TYPE_UNITSj', 'MA-BIGC670101.lag21-STANDARD_TYPE_UNITSj', 'MA-BIGC670101.lag22-STANDARD_TYPE_UNITSj', 'MA-BIGC670101.lag23-STANDARD_TYPE_UNITSj', 'MA-BIGC670101.lag24-STANDARD_TYPE_UNITSj', 'MA-BIGC670101.lag25-STANDARD_TYPE_UNITSj', 'MA-BIGC670101.lag26-STANDARD_TYPE_UNITSj', 'MA-BIGC670101.lag27-STANDARD_TYPE_UNITSj', 'MA-BIGC670101.lag28-STANDARD_TYPE_UNITSj', 'MA-BIGC670101.lag29-STANDARD_TYPE_UNITSj', 'MA-BIGC670101.lag30-STANDARD_TYPE_UNITSj', 'MA-CHAM810101.lag1-STANDARD_TYPE_UNITSj', 'MA-CHAM810101.lag2-STANDARD_TYPE_UNITSj', 'MA-CHAM810101.lag3-STANDARD_TYPE_UNITSj', 'MA-CHAM810101.lag4-STANDARD_TYPE_UNITSj', 'MA-CHAM810101.lag5-STANDARD_TYPE_UNITSj', 'MA-CHAM810101.lag6-STANDARD_TYPE_UNITSj', 'MA-CHAM810101.lag7-STANDARD_TYPE_UNITSj', 'MA-CHAM810101.lag8-STANDARD_TYPE_UNITSj', 'MA-CHAM810101.lag9-STANDARD_TYPE_UNITSj', 'MA-CHAM810101.lag10-STANDARD_TYPE_UNITSj', 'MA-CHAM810101.lag11-STANDARD_TYPE_UNITSj', 'MA-CHAM810101.lag12-STANDARD_TYPE_UNITSj', 'MA-CHAM810101.lag13-STANDARD_TYPE_UNITSj', 'MA-CHAM810101.lag14-STANDARD_TYPE_UNITSj', 'MA-CHAM810101.lag15-STANDARD_TYPE_UNITSj', 'MA-CHAM810101.lag16-STANDARD_TYPE_UNITSj', 'MA-CHAM810101.lag17-STANDARD_TYPE_UNITSj', 'MA-CHAM810101.lag18-STANDARD_TYPE_UNITSj', 'MA-CHAM810101.lag19-STANDARD_TYPE_UNITSj', 'MA-CHAM810101.lag20-STANDARD_TYPE_UNITSj', 'MA-CHAM810101.lag21-STANDARD_TYPE_UNITSj', 'MA-CHAM810101.lag22-STANDARD_TYPE_UNITSj', 'MA-CHAM810101.lag23-STANDARD_TYPE_UNITSj', 'MA-CHAM810101.lag24-STANDARD_TYPE_UNITSj', 'MA-CHAM810101.lag25-STANDARD_TYPE_UNITSj', 'MA-CHAM810101.lag26-STANDARD_TYPE_UNITSj', 'MA-CHAM810101.lag27-STANDARD_TYPE_UNITSj', 'MA-CHAM810101.lag28-STANDARD_TYPE_UNITSj', 'MA-CHAM810101.lag29-STANDARD_TYPE_UNITSj', 'MA-CHAM810101.lag30-STANDARD_TYPE_UNITSj', 'MA-comp_A-STANDARD_TYPE_UNITSj', 'MA-comp_R-STANDARD_TYPE_UNITSj', 'MA-comp_N-STANDARD_TYPE_UNITSj', 'MA-comp_D-STANDARD_TYPE_UNITSj', 'MA-comp_C-STANDARD_TYPE_UNITSj', 'MA-comp_E-STANDARD_TYPE_UNITSj', 'MA-comp_Q-STANDARD_TYPE_UNITSj', 'MA-comp_G-STANDARD_TYPE_UNITSj', 'MA-comp_H-STANDARD_TYPE_UNITSj', 'MA-comp_I-STANDARD_TYPE_UNITSj', 'MA-comp_L-STANDARD_TYPE_UNITSj', 'MA-comp_K-STANDARD_TYPE_UNITSj', 'MA-comp_M-STANDARD_TYPE_UNITSj', 'MA-comp_F-STANDARD_TYPE_UNITSj', 'MA-comp_P-STANDARD_TYPE_UNITSj', 'MA-comp_S-STANDARD_TYPE_UNITSj', 'MA-comp_T-STANDARD_TYPE_UNITSj', 'MA-comp_W-STANDARD_TYPE_UNITSj', 'MA-comp_Y-STANDARD_TYPE_UNITSj', 'MA-comp_V-STANDARD_TYPE_UNITSj', 'MA-ALogP-ASSAY_CHEMBLID', 'MA-ALogp2-ASSAY_CHEMBLID', 'MA-AMR-ASSAY_CHEMBLID', 'MA-apol-ASSAY_CHEMBLID', 'MA-naAromAtom-ASSAY_CHEMBLID', 'MA-nAromBond-ASSAY_CHEMBLID', 'MA-nAtom-ASSAY_CHEMBLID', 'MA-ATSc1-ASSAY_CHEMBLID', 'MA-ATSc2-ASSAY_CHEMBLID', 'MA-ATSc3-ASSAY_CHEMBLID', 'MA-ATSc4-ASSAY_CHEMBLID', 'MA-ATSc5-ASSAY_CHEMBLID', 'MA-ATSm1-ASSAY_CHEMBLID', 'MA-ATSm2-ASSAY_CHEMBLID', 'MA-ATSm3-ASSAY_CHEMBLID', 'MA-ATSm4-ASSAY_CHEMBLID', 'MA-ATSm5-ASSAY_CHEMBLID', 'MA-ATSp1-ASSAY_CHEMBLID', 'MA-ATSp2-ASSAY_CHEMBLID', 'MA-ATSp3-ASSAY_CHEMBLID', 'MA-ATSp4-ASSAY_CHEMBLID', 'MA-ATSp5-ASSAY_CHEMBLID', 'MA-bpol-ASSAY_CHEMBLID', 'MA-nB-ASSAY_CHEMBLID', 'MA-C1SP1-ASSAY_CHEMBLID', 'MA-C2SP1-ASSAY_CHEMBLID', 'MA-C1SP2-ASSAY_CHEMBLID', 'MA-C2SP2-ASSAY_CHEMBLID', 'MA-C3SP2-ASSAY_CHEMBLID', 'MA-C1SP3-ASSAY_CHEMBLID', 'MA-C2SP3-ASSAY_CHEMBLID', 'MA-C3SP3-ASSAY_CHEMBLID', 'MA-C4SP3-ASSAY_CHEMBLID', 'MA-SCH.3-ASSAY_CHEMBLID', 'MA-SCH.4-ASSAY_CHEMBLID', 'MA-SCH.5-ASSAY_CHEMBLID', 'MA-SCH.6-ASSAY_CHEMBLID', 'MA-SCH.7-ASSAY_CHEMBLID', 'MA-VCH.3-ASSAY_CHEMBLID', 'MA-VCH.4-ASSAY_CHEMBLID', 'MA-VCH.5-ASSAY_CHEMBLID', 'MA-VCH.6-ASSAY_CHEMBLID', 'MA-VCH.7-ASSAY_CHEMBLID', 'MA-SC.3-ASSAY_CHEMBLID', 'MA-SC.4-ASSAY_CHEMBLID', 'MA-SC.5-ASSAY_CHEMBLID', 'MA-SC.6-ASSAY_CHEMBLID', 'MA-VC.3-ASSAY_CHEMBLID', 'MA-VC.4-ASSAY_CHEMBLID', 'MA-VC.5-ASSAY_CHEMBLID', 'MA-VC.6-ASSAY_CHEMBLID', 'MA-SPC.4-ASSAY_CHEMBLID', 'MA-SPC.5-ASSAY_CHEMBLID', 'MA-SPC.6-ASSAY_CHEMBLID', 'MA-VPC.4-ASSAY_CHEMBLID', 'MA-VPC.5-ASSAY_CHEMBLID', 'MA-VPC.6-ASSAY_CHEMBLID', 'MA-SP.0-ASSAY_CHEMBLID', 'MA-SP.1-ASSAY_CHEMBLID', 'MA-SP.2-ASSAY_CHEMBLID', 'MA-SP.3-ASSAY_CHEMBLID', 'MA-SP.4-ASSAY_CHEMBLID', 'MA-SP.5-ASSAY_CHEMBLID', 'MA-SP.6-ASSAY_CHEMBLID', 'MA-SP.7-ASSAY_CHEMBLID', 'MA-VP.0-ASSAY_CHEMBLID', 'MA-VP.1-ASSAY_CHEMBLID', 'MA-VP.2-ASSAY_CHEMBLID', 'MA-VP.3-ASSAY_CHEMBLID', 'MA-VP.4-ASSAY_CHEMBLID', 'MA-VP.5-ASSAY_CHEMBLID', 'MA-VP.6-ASSAY_CHEMBLID', 'MA-VP.7-ASSAY_CHEMBLID', 'MA-ECCEN-ASSAY_CHEMBLID', 'MA-fragC-ASSAY_CHEMBLID', 'MA-nHBAcc-ASSAY_CHEMBLID', 'MA-nHBDon-ASSAY_CHEMBLID', 'MA-HybRatio-ASSAY_CHEMBLID', 'MA-Kier1-ASSAY_CHEMBLID', 'MA-Kier2-ASSAY_CHEMBLID', 'MA-Kier3-ASSAY_CHEMBLID', 'MA-khs.sCH3-ASSAY_CHEMBLID', 'MA-khs.ssCH2-ASSAY_CHEMBLID', 'MA-khs.dsCH-ASSAY_CHEMBLID', 'MA-khs.aaCH-ASSAY_CHEMBLID', 'MA-khs.sssCH-ASSAY_CHEMBLID', 'MA-khs.tsC-ASSAY_CHEMBLID', 'MA-khs.dssC-ASSAY_CHEMBLID', 'MA-khs.aasC-ASSAY_CHEMBLID', 'MA-khs.aaaC-ASSAY_CHEMBLID', 'MA-khs.ssssC-ASSAY_CHEMBLID', 'MA-khs.sNH2-ASSAY_CHEMBLID', 'MA-khs.ssNH-ASSAY_CHEMBLID', 'MA-khs.aaNH-ASSAY_CHEMBLID', 'MA-khs.tN-ASSAY_CHEMBLID', 'MA-khs.dsN-ASSAY_CHEMBLID', 'MA-khs.aaN-ASSAY_CHEMBLID', 'MA-khs.sssN-ASSAY_CHEMBLID', 'MA-khs.aasN-ASSAY_CHEMBLID', 'MA-khs.sOH-ASSAY_CHEMBLID', 'MA-khs.dO-ASSAY_CHEMBLID', 'MA-khs.ssO-ASSAY_CHEMBLID', 'MA-khs.aaO-ASSAY_CHEMBLID', 'MA-khs.sF-ASSAY_CHEMBLID', 'MA-khs.ssS-ASSAY_CHEMBLID', 'MA-khs.aaS-ASSAY_CHEMBLID', 'MA-khs.ddssS-ASSAY_CHEMBLID', 'MA-khs.sCl-ASSAY_CHEMBLID', 'MA-khs.sBr-ASSAY_CHEMBLID', 'MA-nAtomLC-ASSAY_CHEMBLID', 'MA-nAtomP-ASSAY_CHEMBLID', 'MA-nAtomLAC-ASSAY_CHEMBLID', 'MA-MDEC.11-ASSAY_CHEMBLID', 'MA-MDEC.12-ASSAY_CHEMBLID', 'MA-MDEC.13-ASSAY_CHEMBLID', 'MA-MDEC.14-ASSAY_CHEMBLID', 'MA-MDEC.22-ASSAY_CHEMBLID', 'MA-MDEC.23-ASSAY_CHEMBLID', 'MA-MDEC.24-ASSAY_CHEMBLID', 'MA-MDEC.33-ASSAY_CHEMBLID', 'MA-MDEC.34-ASSAY_CHEMBLID', 'MA-MDEC.44-ASSAY_CHEMBLID', 'MA-MDEO.11-ASSAY_CHEMBLID', 'MA-MDEO.12-ASSAY_CHEMBLID', 'MA-MDEO.22-ASSAY_CHEMBLID', 'MA-MDEN.11-ASSAY_CHEMBLID', 'MA-MDEN.12-ASSAY_CHEMBLID', 'MA-MDEN.13-ASSAY_CHEMBLID', 'MA-MDEN.22-ASSAY_CHEMBLID', 'MA-MDEN.23-ASSAY_CHEMBLID', 'MA-MDEN.33-ASSAY_CHEMBLID', 'MA-MLogP-ASSAY_CHEMBLID', 'MA-PetitjeanNumber-ASSAY_CHEMBLID', 'MA-topoShape-ASSAY_CHEMBLID', 'MA-nRotB-ASSAY_CHEMBLID', 'MA-LipinskiFailures-ASSAY_CHEMBLID', 'MA-TopoPSA-ASSAY_CHEMBLID', 'MA-VAdjMat-ASSAY_CHEMBLID', 'MA-MW-ASSAY_CHEMBLID', 'MA-WPATH-ASSAY_CHEMBLID', 'MA-WPOL-ASSAY_CHEMBLID', 'MA-XLogP-ASSAY_CHEMBLID', 'MA-Zagreb-ASSAY_CHEMBLID', 'MA-CHOC760101.lag1-ASSAY_CHEMBLID', 'MA-CHOC760101.lag2-ASSAY_CHEMBLID', 'MA-CHOC760101.lag3-ASSAY_CHEMBLID', 'MA-CHOC760101.lag4-ASSAY_CHEMBLID', 'MA-CHOC760101.lag5-ASSAY_CHEMBLID', 'MA-CHOC760101.lag6-ASSAY_CHEMBLID', 'MA-CHOC760101.lag7-ASSAY_CHEMBLID', 'MA-CHOC760101.lag8-ASSAY_CHEMBLID', 'MA-CHOC760101.lag9-ASSAY_CHEMBLID', 'MA-CHOC760101.lag10-ASSAY_CHEMBLID', 'MA-CHOC760101.lag11-ASSAY_CHEMBLID', 'MA-CHOC760101.lag12-ASSAY_CHEMBLID', 'MA-CHOC760101.lag13-ASSAY_CHEMBLID', 'MA-CHOC760101.lag14-ASSAY_CHEMBLID', 'MA-CHOC760101.lag15-ASSAY_CHEMBLID', 'MA-CHOC760101.lag16-ASSAY_CHEMBLID', 'MA-CHOC760101.lag17-ASSAY_CHEMBLID', 'MA-CHOC760101.lag18-ASSAY_CHEMBLID', 'MA-CHOC760101.lag19-ASSAY_CHEMBLID', 'MA-CHOC760101.lag20-ASSAY_CHEMBLID', 'MA-CHOC760101.lag21-ASSAY_CHEMBLID', 'MA-CHOC760101.lag22-ASSAY_CHEMBLID', 'MA-CHOC760101.lag23-ASSAY_CHEMBLID', 'MA-CHOC760101.lag24-ASSAY_CHEMBLID', 'MA-CHOC760101.lag25-ASSAY_CHEMBLID', 'MA-CHOC760101.lag26-ASSAY_CHEMBLID', 'MA-CHOC760101.lag27-ASSAY_CHEMBLID', 'MA-CHOC760101.lag28-ASSAY_CHEMBLID', 'MA-CHOC760101.lag29-ASSAY_CHEMBLID', 'MA-CHOC760101.lag30-ASSAY_CHEMBLID', 'MA-BIGC670101.lag1-ASSAY_CHEMBLID', 'MA-BIGC670101.lag2-ASSAY_CHEMBLID', 'MA-BIGC670101.lag3-ASSAY_CHEMBLID', 'MA-BIGC670101.lag4-ASSAY_CHEMBLID', 'MA-BIGC670101.lag5-ASSAY_CHEMBLID', 'MA-BIGC670101.lag6-ASSAY_CHEMBLID', 'MA-BIGC670101.lag7-ASSAY_CHEMBLID', 'MA-BIGC670101.lag8-ASSAY_CHEMBLID', 'MA-BIGC670101.lag9-ASSAY_CHEMBLID', 'MA-BIGC670101.lag10-ASSAY_CHEMBLID', 'MA-BIGC670101.lag11-ASSAY_CHEMBLID', 'MA-BIGC670101.lag12-ASSAY_CHEMBLID', 'MA-BIGC670101.lag13-ASSAY_CHEMBLID', 'MA-BIGC670101.lag14-ASSAY_CHEMBLID', 'MA-BIGC670101.lag15-ASSAY_CHEMBLID', 'MA-BIGC670101.lag16-ASSAY_CHEMBLID', 'MA-BIGC670101.lag17-ASSAY_CHEMBLID', 'MA-BIGC670101.lag18-ASSAY_CHEMBLID', 'MA-BIGC670101.lag19-ASSAY_CHEMBLID', 'MA-BIGC670101.lag20-ASSAY_CHEMBLID', 'MA-BIGC670101.lag21-ASSAY_CHEMBLID', 'MA-BIGC670101.lag22-ASSAY_CHEMBLID', 'MA-BIGC670101.lag23-ASSAY_CHEMBLID', 'MA-BIGC670101.lag24-ASSAY_CHEMBLID', 'MA-BIGC670101.lag25-ASSAY_CHEMBLID', 'MA-BIGC670101.lag26-ASSAY_CHEMBLID', 'MA-BIGC670101.lag27-ASSAY_CHEMBLID', 'MA-BIGC670101.lag28-ASSAY_CHEMBLID', 'MA-BIGC670101.lag29-ASSAY_CHEMBLID', 'MA-BIGC670101.lag30-ASSAY_CHEMBLID', 'MA-CHAM810101.lag1-ASSAY_CHEMBLID', 'MA-CHAM810101.lag2-ASSAY_CHEMBLID', 'MA-CHAM810101.lag3-ASSAY_CHEMBLID', 'MA-CHAM810101.lag4-ASSAY_CHEMBLID', 'MA-CHAM810101.lag5-ASSAY_CHEMBLID', 'MA-CHAM810101.lag6-ASSAY_CHEMBLID', 'MA-CHAM810101.lag7-ASSAY_CHEMBLID', 'MA-CHAM810101.lag8-ASSAY_CHEMBLID', 'MA-CHAM810101.lag9-ASSAY_CHEMBLID', 'MA-CHAM810101.lag10-ASSAY_CHEMBLID', 'MA-CHAM810101.lag11-ASSAY_CHEMBLID', 'MA-CHAM810101.lag12-ASSAY_CHEMBLID', 'MA-CHAM810101.lag13-ASSAY_CHEMBLID', 'MA-CHAM810101.lag14-ASSAY_CHEMBLID', 'MA-CHAM810101.lag15-ASSAY_CHEMBLID', 'MA-CHAM810101.lag16-ASSAY_CHEMBLID', 'MA-CHAM810101.lag17-ASSAY_CHEMBLID', 'MA-CHAM810101.lag18-ASSAY_CHEMBLID', 'MA-CHAM810101.lag19-ASSAY_CHEMBLID', 'MA-CHAM810101.lag20-ASSAY_CHEMBLID', 'MA-CHAM810101.lag21-ASSAY_CHEMBLID', 'MA-CHAM810101.lag22-ASSAY_CHEMBLID', 'MA-CHAM810101.lag23-ASSAY_CHEMBLID', 'MA-CHAM810101.lag24-ASSAY_CHEMBLID', 'MA-CHAM810101.lag25-ASSAY_CHEMBLID', 'MA-CHAM810101.lag26-ASSAY_CHEMBLID', 'MA-CHAM810101.lag27-ASSAY_CHEMBLID', 'MA-CHAM810101.lag28-ASSAY_CHEMBLID', 'MA-CHAM810101.lag29-ASSAY_CHEMBLID', 'MA-CHAM810101.lag30-ASSAY_CHEMBLID', 'MA-comp_A-ASSAY_CHEMBLID', 'MA-comp_R-ASSAY_CHEMBLID', 'MA-comp_N-ASSAY_CHEMBLID', 'MA-comp_D-ASSAY_CHEMBLID', 'MA-comp_C-ASSAY_CHEMBLID', 'MA-comp_E-ASSAY_CHEMBLID', 'MA-comp_Q-ASSAY_CHEMBLID', 'MA-comp_G-ASSAY_CHEMBLID', 'MA-comp_H-ASSAY_CHEMBLID', 'MA-comp_I-ASSAY_CHEMBLID', 'MA-comp_L-ASSAY_CHEMBLID', 'MA-comp_K-ASSAY_CHEMBLID', 'MA-comp_M-ASSAY_CHEMBLID', 'MA-comp_F-ASSAY_CHEMBLID', 'MA-comp_P-ASSAY_CHEMBLID', 'MA-comp_S-ASSAY_CHEMBLID', 'MA-comp_T-ASSAY_CHEMBLID', 'MA-comp_W-ASSAY_CHEMBLID', 'MA-comp_Y-ASSAY_CHEMBLID', 'MA-comp_V-ASSAY_CHEMBLID', 'MA-ALogP-ASSAY_TYPE', 'MA-ALogp2-ASSAY_TYPE', 'MA-AMR-ASSAY_TYPE', 'MA-apol-ASSAY_TYPE', 'MA-naAromAtom-ASSAY_TYPE', 'MA-nAromBond-ASSAY_TYPE', 'MA-nAtom-ASSAY_TYPE', 'MA-ATSc1-ASSAY_TYPE', 'MA-ATSc2-ASSAY_TYPE', 'MA-ATSc3-ASSAY_TYPE', 'MA-ATSc4-ASSAY_TYPE', 'MA-ATSc5-ASSAY_TYPE', 'MA-ATSm1-ASSAY_TYPE', 'MA-ATSm2-ASSAY_TYPE', 'MA-ATSm3-ASSAY_TYPE', 'MA-ATSm4-ASSAY_TYPE', 'MA-ATSm5-ASSAY_TYPE', 'MA-ATSp1-ASSAY_TYPE', 'MA-ATSp2-ASSAY_TYPE', 'MA-ATSp3-ASSAY_TYPE', 'MA-ATSp4-ASSAY_TYPE', 'MA-ATSp5-ASSAY_TYPE', 'MA-bpol-ASSAY_TYPE', 'MA-nB-ASSAY_TYPE', 'MA-C1SP1-ASSAY_TYPE', 'MA-C2SP1-ASSAY_TYPE', 'MA-C1SP2-ASSAY_TYPE', 'MA-C2SP2-ASSAY_TYPE', 'MA-C3SP2-ASSAY_TYPE', 'MA-C1SP3-ASSAY_TYPE', 'MA-C2SP3-ASSAY_TYPE', 'MA-C3SP3-ASSAY_TYPE', 'MA-C4SP3-ASSAY_TYPE', 'MA-SCH.3-ASSAY_TYPE', 'MA-SCH.4-ASSAY_TYPE', 'MA-SCH.5-ASSAY_TYPE', 'MA-SCH.6-ASSAY_TYPE', 'MA-SCH.7-ASSAY_TYPE', 'MA-VCH.3-ASSAY_TYPE', 'MA-VCH.4-ASSAY_TYPE', 'MA-VCH.5-ASSAY_TYPE', 'MA-VCH.6-ASSAY_TYPE', 'MA-VCH.7-ASSAY_TYPE', 'MA-SC.3-ASSAY_TYPE', 'MA-SC.4-ASSAY_TYPE', 'MA-SC.5-ASSAY_TYPE', 'MA-SC.6-ASSAY_TYPE', 'MA-VC.3-ASSAY_TYPE', 'MA-VC.4-ASSAY_TYPE', 'MA-VC.5-ASSAY_TYPE', 'MA-VC.6-ASSAY_TYPE', 'MA-SPC.4-ASSAY_TYPE', 'MA-SPC.5-ASSAY_TYPE', 'MA-SPC.6-ASSAY_TYPE', 'MA-VPC.4-ASSAY_TYPE', 'MA-VPC.5-ASSAY_TYPE', 'MA-VPC.6-ASSAY_TYPE', 'MA-SP.0-ASSAY_TYPE', 'MA-SP.1-ASSAY_TYPE', 'MA-SP.2-ASSAY_TYPE', 'MA-SP.3-ASSAY_TYPE', 'MA-SP.4-ASSAY_TYPE', 'MA-SP.5-ASSAY_TYPE', 'MA-SP.6-ASSAY_TYPE', 'MA-SP.7-ASSAY_TYPE', 'MA-VP.0-ASSAY_TYPE', 'MA-VP.1-ASSAY_TYPE', 'MA-VP.2-ASSAY_TYPE', 'MA-VP.3-ASSAY_TYPE', 'MA-VP.4-ASSAY_TYPE', 'MA-VP.5-ASSAY_TYPE', 'MA-VP.6-ASSAY_TYPE', 'MA-VP.7-ASSAY_TYPE', 'MA-ECCEN-ASSAY_TYPE', 'MA-fragC-ASSAY_TYPE', 'MA-nHBAcc-ASSAY_TYPE', 'MA-nHBDon-ASSAY_TYPE', 'MA-HybRatio-ASSAY_TYPE', 'MA-Kier1-ASSAY_TYPE', 'MA-Kier2-ASSAY_TYPE', 'MA-Kier3-ASSAY_TYPE', 'MA-khs.sCH3-ASSAY_TYPE', 'MA-khs.ssCH2-ASSAY_TYPE', 'MA-khs.dsCH-ASSAY_TYPE', 'MA-khs.aaCH-ASSAY_TYPE', 'MA-khs.sssCH-ASSAY_TYPE', 'MA-khs.tsC-ASSAY_TYPE', 'MA-khs.dssC-ASSAY_TYPE', 'MA-khs.aasC-ASSAY_TYPE', 'MA-khs.aaaC-ASSAY_TYPE', 'MA-khs.ssssC-ASSAY_TYPE', 'MA-khs.sNH2-ASSAY_TYPE', 'MA-khs.ssNH-ASSAY_TYPE', 'MA-khs.aaNH-ASSAY_TYPE', 'MA-khs.tN-ASSAY_TYPE', 'MA-khs.dsN-ASSAY_TYPE', 'MA-khs.aaN-ASSAY_TYPE', 'MA-khs.sssN-ASSAY_TYPE', 'MA-khs.aasN-ASSAY_TYPE', 'MA-khs.sOH-ASSAY_TYPE', 'MA-khs.dO-ASSAY_TYPE', 'MA-khs.ssO-ASSAY_TYPE', 'MA-khs.aaO-ASSAY_TYPE', 'MA-khs.sF-ASSAY_TYPE', 'MA-khs.ssS-ASSAY_TYPE', 'MA-khs.aaS-ASSAY_TYPE', 'MA-khs.ddssS-ASSAY_TYPE', 'MA-khs.sCl-ASSAY_TYPE', 'MA-khs.sBr-ASSAY_TYPE', 'MA-nAtomLC-ASSAY_TYPE', 'MA-nAtomP-ASSAY_TYPE', 'MA-nAtomLAC-ASSAY_TYPE', 'MA-MDEC.11-ASSAY_TYPE', 'MA-MDEC.12-ASSAY_TYPE', 'MA-MDEC.13-ASSAY_TYPE', 'MA-MDEC.14-ASSAY_TYPE', 'MA-MDEC.22-ASSAY_TYPE', 'MA-MDEC.23-ASSAY_TYPE', 'MA-MDEC.24-ASSAY_TYPE', 'MA-MDEC.33-ASSAY_TYPE', 'MA-MDEC.34-ASSAY_TYPE', 'MA-MDEC.44-ASSAY_TYPE', 'MA-MDEO.11-ASSAY_TYPE', 'MA-MDEO.12-ASSAY_TYPE', 'MA-MDEO.22-ASSAY_TYPE', 'MA-MDEN.11-ASSAY_TYPE', 'MA-MDEN.12-ASSAY_TYPE', 'MA-MDEN.13-ASSAY_TYPE', 'MA-MDEN.22-ASSAY_TYPE', 'MA-MDEN.23-ASSAY_TYPE', 'MA-MDEN.33-ASSAY_TYPE', 'MA-MLogP-ASSAY_TYPE', 'MA-PetitjeanNumber-ASSAY_TYPE', 'MA-topoShape-ASSAY_TYPE', 'MA-nRotB-ASSAY_TYPE', 'MA-LipinskiFailures-ASSAY_TYPE', 'MA-TopoPSA-ASSAY_TYPE', 'MA-VAdjMat-ASSAY_TYPE', 'MA-MW-ASSAY_TYPE', 'MA-WPATH-ASSAY_TYPE', 'MA-WPOL-ASSAY_TYPE', 'MA-XLogP-ASSAY_TYPE', 'MA-Zagreb-ASSAY_TYPE', 'MA-CHOC760101.lag1-ASSAY_TYPE', 'MA-CHOC760101.lag2-ASSAY_TYPE', 'MA-CHOC760101.lag3-ASSAY_TYPE', 'MA-CHOC760101.lag4-ASSAY_TYPE', 'MA-CHOC760101.lag5-ASSAY_TYPE', 'MA-CHOC760101.lag6-ASSAY_TYPE', 'MA-CHOC760101.lag7-ASSAY_TYPE', 'MA-CHOC760101.lag8-ASSAY_TYPE', 'MA-CHOC760101.lag9-ASSAY_TYPE', 'MA-CHOC760101.lag10-ASSAY_TYPE', 'MA-CHOC760101.lag11-ASSAY_TYPE', 'MA-CHOC760101.lag12-ASSAY_TYPE', 'MA-CHOC760101.lag13-ASSAY_TYPE', 'MA-CHOC760101.lag14-ASSAY_TYPE', 'MA-CHOC760101.lag15-ASSAY_TYPE', 'MA-CHOC760101.lag16-ASSAY_TYPE', 'MA-CHOC760101.lag17-ASSAY_TYPE', 'MA-CHOC760101.lag18-ASSAY_TYPE', 'MA-CHOC760101.lag19-ASSAY_TYPE', 'MA-CHOC760101.lag20-ASSAY_TYPE', 'MA-CHOC760101.lag21-ASSAY_TYPE', 'MA-CHOC760101.lag22-ASSAY_TYPE', 'MA-CHOC760101.lag23-ASSAY_TYPE', 'MA-CHOC760101.lag24-ASSAY_TYPE', 'MA-CHOC760101.lag25-ASSAY_TYPE', 'MA-CHOC760101.lag26-ASSAY_TYPE', 'MA-CHOC760101.lag27-ASSAY_TYPE', 'MA-CHOC760101.lag28-ASSAY_TYPE', 'MA-CHOC760101.lag29-ASSAY_TYPE', 'MA-CHOC760101.lag30-ASSAY_TYPE', 'MA-BIGC670101.lag1-ASSAY_TYPE', 'MA-BIGC670101.lag2-ASSAY_TYPE', 'MA-BIGC670101.lag3-ASSAY_TYPE', 'MA-BIGC670101.lag4-ASSAY_TYPE', 'MA-BIGC670101.lag5-ASSAY_TYPE', 'MA-BIGC670101.lag6-ASSAY_TYPE', 'MA-BIGC670101.lag7-ASSAY_TYPE', 'MA-BIGC670101.lag8-ASSAY_TYPE', 'MA-BIGC670101.lag9-ASSAY_TYPE', 'MA-BIGC670101.lag10-ASSAY_TYPE', 'MA-BIGC670101.lag11-ASSAY_TYPE', 'MA-BIGC670101.lag12-ASSAY_TYPE', 'MA-BIGC670101.lag13-ASSAY_TYPE', 'MA-BIGC670101.lag14-ASSAY_TYPE', 'MA-BIGC670101.lag15-ASSAY_TYPE', 'MA-BIGC670101.lag16-ASSAY_TYPE', 'MA-BIGC670101.lag17-ASSAY_TYPE', 'MA-BIGC670101.lag18-ASSAY_TYPE', 'MA-BIGC670101.lag19-ASSAY_TYPE', 'MA-BIGC670101.lag20-ASSAY_TYPE', 'MA-BIGC670101.lag21-ASSAY_TYPE', 'MA-BIGC670101.lag22-ASSAY_TYPE', 'MA-BIGC670101.lag23-ASSAY_TYPE', 'MA-BIGC670101.lag24-ASSAY_TYPE', 'MA-BIGC670101.lag25-ASSAY_TYPE', 'MA-BIGC670101.lag26-ASSAY_TYPE', 'MA-BIGC670101.lag27-ASSAY_TYPE', 'MA-BIGC670101.lag28-ASSAY_TYPE', 'MA-BIGC670101.lag29-ASSAY_TYPE', 'MA-BIGC670101.lag30-ASSAY_TYPE', 'MA-CHAM810101.lag1-ASSAY_TYPE', 'MA-CHAM810101.lag2-ASSAY_TYPE', 'MA-CHAM810101.lag3-ASSAY_TYPE', 'MA-CHAM810101.lag4-ASSAY_TYPE', 'MA-CHAM810101.lag5-ASSAY_TYPE', 'MA-CHAM810101.lag6-ASSAY_TYPE', 'MA-CHAM810101.lag7-ASSAY_TYPE', 'MA-CHAM810101.lag8-ASSAY_TYPE', 'MA-CHAM810101.lag9-ASSAY_TYPE', 'MA-CHAM810101.lag10-ASSAY_TYPE', 'MA-CHAM810101.lag11-ASSAY_TYPE', 'MA-CHAM810101.lag12-ASSAY_TYPE', 'MA-CHAM810101.lag13-ASSAY_TYPE', 'MA-CHAM810101.lag14-ASSAY_TYPE', 'MA-CHAM810101.lag15-ASSAY_TYPE', 'MA-CHAM810101.lag16-ASSAY_TYPE', 'MA-CHAM810101.lag17-ASSAY_TYPE', 'MA-CHAM810101.lag18-ASSAY_TYPE', 'MA-CHAM810101.lag19-ASSAY_TYPE', 'MA-CHAM810101.lag20-ASSAY_TYPE', 'MA-CHAM810101.lag21-ASSAY_TYPE', 'MA-CHAM810101.lag22-ASSAY_TYPE', 'MA-CHAM810101.lag23-ASSAY_TYPE', 'MA-CHAM810101.lag24-ASSAY_TYPE', 'MA-CHAM810101.lag25-ASSAY_TYPE', 'MA-CHAM810101.lag26-ASSAY_TYPE', 'MA-CHAM810101.lag27-ASSAY_TYPE', 'MA-CHAM810101.lag28-ASSAY_TYPE', 'MA-CHAM810101.lag29-ASSAY_TYPE', 'MA-CHAM810101.lag30-ASSAY_TYPE', 'MA-comp_A-ASSAY_TYPE', 'MA-comp_R-ASSAY_TYPE', 'MA-comp_N-ASSAY_TYPE', 'MA-comp_D-ASSAY_TYPE', 'MA-comp_C-ASSAY_TYPE', 'MA-comp_E-ASSAY_TYPE', 'MA-comp_Q-ASSAY_TYPE', 'MA-comp_G-ASSAY_TYPE', 'MA-comp_H-ASSAY_TYPE', 'MA-comp_I-ASSAY_TYPE', 'MA-comp_L-ASSAY_TYPE', 'MA-comp_K-ASSAY_TYPE', 'MA-comp_M-ASSAY_TYPE', 'MA-comp_F-ASSAY_TYPE', 'MA-comp_P-ASSAY_TYPE', 'MA-comp_S-ASSAY_TYPE', 'MA-comp_T-ASSAY_TYPE', 'MA-comp_W-ASSAY_TYPE', 'MA-comp_Y-ASSAY_TYPE', 'MA-comp_V-ASSAY_TYPE', 'MA-ALogP-ASSAY_ORGANISM', 'MA-ALogp2-ASSAY_ORGANISM', 'MA-AMR-ASSAY_ORGANISM', 'MA-apol-ASSAY_ORGANISM', 'MA-naAromAtom-ASSAY_ORGANISM', 'MA-nAromBond-ASSAY_ORGANISM', 'MA-nAtom-ASSAY_ORGANISM', 'MA-ATSc1-ASSAY_ORGANISM', 'MA-ATSc2-ASSAY_ORGANISM', 'MA-ATSc3-ASSAY_ORGANISM', 'MA-ATSc4-ASSAY_ORGANISM', 'MA-ATSc5-ASSAY_ORGANISM', 'MA-ATSm1-ASSAY_ORGANISM', 'MA-ATSm2-ASSAY_ORGANISM', 'MA-ATSm3-ASSAY_ORGANISM', 'MA-ATSm4-ASSAY_ORGANISM', 'MA-ATSm5-ASSAY_ORGANISM', 'MA-ATSp1-ASSAY_ORGANISM', 'MA-ATSp2-ASSAY_ORGANISM', 'MA-ATSp3-ASSAY_ORGANISM', 'MA-ATSp4-ASSAY_ORGANISM', 'MA-ATSp5-ASSAY_ORGANISM', 'MA-bpol-ASSAY_ORGANISM', 'MA-nB-ASSAY_ORGANISM', 'MA-C1SP1-ASSAY_ORGANISM', 'MA-C2SP1-ASSAY_ORGANISM', 'MA-C1SP2-ASSAY_ORGANISM', 'MA-C2SP2-ASSAY_ORGANISM', 'MA-C3SP2-ASSAY_ORGANISM', 'MA-C1SP3-ASSAY_ORGANISM', 'MA-C2SP3-ASSAY_ORGANISM', 'MA-C3SP3-ASSAY_ORGANISM', 'MA-C4SP3-ASSAY_ORGANISM', 'MA-SCH.3-ASSAY_ORGANISM', 'MA-SCH.4-ASSAY_ORGANISM', 'MA-SCH.5-ASSAY_ORGANISM', 'MA-SCH.6-ASSAY_ORGANISM', 'MA-SCH.7-ASSAY_ORGANISM', 'MA-VCH.3-ASSAY_ORGANISM', 'MA-VCH.4-ASSAY_ORGANISM', 'MA-VCH.5-ASSAY_ORGANISM', 'MA-VCH.6-ASSAY_ORGANISM', 'MA-VCH.7-ASSAY_ORGANISM', 'MA-SC.3-ASSAY_ORGANISM', 'MA-SC.4-ASSAY_ORGANISM', 'MA-SC.5-ASSAY_ORGANISM', 'MA-SC.6-ASSAY_ORGANISM', 'MA-VC.3-ASSAY_ORGANISM', 'MA-VC.4-ASSAY_ORGANISM', 'MA-VC.5-ASSAY_ORGANISM', 'MA-VC.6-ASSAY_ORGANISM', 'MA-SPC.4-ASSAY_ORGANISM', 'MA-SPC.5-ASSAY_ORGANISM', 'MA-SPC.6-ASSAY_ORGANISM', 'MA-VPC.4-ASSAY_ORGANISM', 'MA-VPC.5-ASSAY_ORGANISM', 'MA-VPC.6-ASSAY_ORGANISM', 'MA-SP.0-ASSAY_ORGANISM', 'MA-SP.1-ASSAY_ORGANISM', 'MA-SP.2-ASSAY_ORGANISM', 'MA-SP.3-ASSAY_ORGANISM', 'MA-SP.4-ASSAY_ORGANISM', 'MA-SP.5-ASSAY_ORGANISM', 'MA-SP.6-ASSAY_ORGANISM', 'MA-SP.7-ASSAY_ORGANISM', 'MA-VP.0-ASSAY_ORGANISM', 'MA-VP.1-ASSAY_ORGANISM', 'MA-VP.2-ASSAY_ORGANISM', 'MA-VP.3-ASSAY_ORGANISM', 'MA-VP.4-ASSAY_ORGANISM', 'MA-VP.5-ASSAY_ORGANISM', 'MA-VP.6-ASSAY_ORGANISM', 'MA-VP.7-ASSAY_ORGANISM', 'MA-ECCEN-ASSAY_ORGANISM', 'MA-fragC-ASSAY_ORGANISM', 'MA-nHBAcc-ASSAY_ORGANISM', 'MA-nHBDon-ASSAY_ORGANISM', 'MA-HybRatio-ASSAY_ORGANISM', 'MA-Kier1-ASSAY_ORGANISM', 'MA-Kier2-ASSAY_ORGANISM', 'MA-Kier3-ASSAY_ORGANISM', 'MA-khs.sCH3-ASSAY_ORGANISM', 'MA-khs.ssCH2-ASSAY_ORGANISM', 'MA-khs.dsCH-ASSAY_ORGANISM', 'MA-khs.aaCH-ASSAY_ORGANISM', 'MA-khs.sssCH-ASSAY_ORGANISM', 'MA-khs.tsC-ASSAY_ORGANISM', 'MA-khs.dssC-ASSAY_ORGANISM', 'MA-khs.aasC-ASSAY_ORGANISM', 'MA-khs.aaaC-ASSAY_ORGANISM', 'MA-khs.ssssC-ASSAY_ORGANISM', 'MA-khs.sNH2-ASSAY_ORGANISM', 'MA-khs.ssNH-ASSAY_ORGANISM', 'MA-khs.aaNH-ASSAY_ORGANISM', 'MA-khs.tN-ASSAY_ORGANISM', 'MA-khs.dsN-ASSAY_ORGANISM', 'MA-khs.aaN-ASSAY_ORGANISM', 'MA-khs.sssN-ASSAY_ORGANISM', 'MA-khs.aasN-ASSAY_ORGANISM', 'MA-khs.sOH-ASSAY_ORGANISM', 'MA-khs.dO-ASSAY_ORGANISM', 'MA-khs.ssO-ASSAY_ORGANISM', 'MA-khs.aaO-ASSAY_ORGANISM', 'MA-khs.sF-ASSAY_ORGANISM', 'MA-khs.ssS-ASSAY_ORGANISM', 'MA-khs.aaS-ASSAY_ORGANISM', 'MA-khs.ddssS-ASSAY_ORGANISM', 'MA-khs.sCl-ASSAY_ORGANISM', 'MA-khs.sBr-ASSAY_ORGANISM', 'MA-nAtomLC-ASSAY_ORGANISM', 'MA-nAtomP-ASSAY_ORGANISM', 'MA-nAtomLAC-ASSAY_ORGANISM', 'MA-MDEC.11-ASSAY_ORGANISM', 'MA-MDEC.12-ASSAY_ORGANISM', 'MA-MDEC.13-ASSAY_ORGANISM', 'MA-MDEC.14-ASSAY_ORGANISM', 'MA-MDEC.22-ASSAY_ORGANISM', 'MA-MDEC.23-ASSAY_ORGANISM', 'MA-MDEC.24-ASSAY_ORGANISM', 'MA-MDEC.33-ASSAY_ORGANISM', 'MA-MDEC.34-ASSAY_ORGANISM', 'MA-MDEC.44-ASSAY_ORGANISM', 'MA-MDEO.11-ASSAY_ORGANISM', 'MA-MDEO.12-ASSAY_ORGANISM', 'MA-MDEO.22-ASSAY_ORGANISM', 'MA-MDEN.11-ASSAY_ORGANISM', 'MA-MDEN.12-ASSAY_ORGANISM', 'MA-MDEN.13-ASSAY_ORGANISM', 'MA-MDEN.22-ASSAY_ORGANISM', 'MA-MDEN.23-ASSAY_ORGANISM', 'MA-MDEN.33-ASSAY_ORGANISM', 'MA-MLogP-ASSAY_ORGANISM', 'MA-PetitjeanNumber-ASSAY_ORGANISM', 'MA-topoShape-ASSAY_ORGANISM', 'MA-nRotB-ASSAY_ORGANISM', 'MA-LipinskiFailures-ASSAY_ORGANISM', 'MA-TopoPSA-ASSAY_ORGANISM', 'MA-VAdjMat-ASSAY_ORGANISM', 'MA-MW-ASSAY_ORGANISM', 'MA-WPATH-ASSAY_ORGANISM', 'MA-WPOL-ASSAY_ORGANISM', 'MA-XLogP-ASSAY_ORGANISM', 'MA-Zagreb-ASSAY_ORGANISM', 'MA-CHOC760101.lag1-ASSAY_ORGANISM', 'MA-CHOC760101.lag2-ASSAY_ORGANISM', 'MA-CHOC760101.lag3-ASSAY_ORGANISM', 'MA-CHOC760101.lag4-ASSAY_ORGANISM', 'MA-CHOC760101.lag5-ASSAY_ORGANISM', 'MA-CHOC760101.lag6-ASSAY_ORGANISM', 'MA-CHOC760101.lag7-ASSAY_ORGANISM', 'MA-CHOC760101.lag8-ASSAY_ORGANISM', 'MA-CHOC760101.lag9-ASSAY_ORGANISM', 'MA-CHOC760101.lag10-ASSAY_ORGANISM', 'MA-CHOC760101.lag11-ASSAY_ORGANISM', 'MA-CHOC760101.lag12-ASSAY_ORGANISM', 'MA-CHOC760101.lag13-ASSAY_ORGANISM', 'MA-CHOC760101.lag14-ASSAY_ORGANISM', 'MA-CHOC760101.lag15-ASSAY_ORGANISM', 'MA-CHOC760101.lag16-ASSAY_ORGANISM', 'MA-CHOC760101.lag17-ASSAY_ORGANISM', 'MA-CHOC760101.lag18-ASSAY_ORGANISM', 'MA-CHOC760101.lag19-ASSAY_ORGANISM', 'MA-CHOC760101.lag20-ASSAY_ORGANISM', 'MA-CHOC760101.lag21-ASSAY_ORGANISM', 'MA-CHOC760101.lag22-ASSAY_ORGANISM', 'MA-CHOC760101.lag23-ASSAY_ORGANISM', 'MA-CHOC760101.lag24-ASSAY_ORGANISM', 'MA-CHOC760101.lag25-ASSAY_ORGANISM', 'MA-CHOC760101.lag26-ASSAY_ORGANISM', 'MA-CHOC760101.lag27-ASSAY_ORGANISM', 'MA-CHOC760101.lag28-ASSAY_ORGANISM', 'MA-CHOC760101.lag29-ASSAY_ORGANISM', 'MA-CHOC760101.lag30-ASSAY_ORGANISM', 'MA-BIGC670101.lag1-ASSAY_ORGANISM', 'MA-BIGC670101.lag2-ASSAY_ORGANISM', 'MA-BIGC670101.lag3-ASSAY_ORGANISM', 'MA-BIGC670101.lag4-ASSAY_ORGANISM', 'MA-BIGC670101.lag5-ASSAY_ORGANISM', 'MA-BIGC670101.lag6-ASSAY_ORGANISM', 'MA-BIGC670101.lag7-ASSAY_ORGANISM', 'MA-BIGC670101.lag8-ASSAY_ORGANISM', 'MA-BIGC670101.lag9-ASSAY_ORGANISM', 'MA-BIGC670101.lag10-ASSAY_ORGANISM', 'MA-BIGC670101.lag11-ASSAY_ORGANISM', 'MA-BIGC670101.lag12-ASSAY_ORGANISM', 'MA-BIGC670101.lag13-ASSAY_ORGANISM', 'MA-BIGC670101.lag14-ASSAY_ORGANISM', 'MA-BIGC670101.lag15-ASSAY_ORGANISM', 'MA-BIGC670101.lag16-ASSAY_ORGANISM', 'MA-BIGC670101.lag17-ASSAY_ORGANISM', 'MA-BIGC670101.lag18-ASSAY_ORGANISM', 'MA-BIGC670101.lag19-ASSAY_ORGANISM', 'MA-BIGC670101.lag20-ASSAY_ORGANISM', 'MA-BIGC670101.lag21-ASSAY_ORGANISM', 'MA-BIGC670101.lag22-ASSAY_ORGANISM', 'MA-BIGC670101.lag23-ASSAY_ORGANISM', 'MA-BIGC670101.lag24-ASSAY_ORGANISM', 'MA-BIGC670101.lag25-ASSAY_ORGANISM', 'MA-BIGC670101.lag26-ASSAY_ORGANISM', 'MA-BIGC670101.lag27-ASSAY_ORGANISM', 'MA-BIGC670101.lag28-ASSAY_ORGANISM', 'MA-BIGC670101.lag29-ASSAY_ORGANISM', 'MA-BIGC670101.lag30-ASSAY_ORGANISM', 'MA-CHAM810101.lag1-ASSAY_ORGANISM', 'MA-CHAM810101.lag2-ASSAY_ORGANISM', 'MA-CHAM810101.lag3-ASSAY_ORGANISM', 'MA-CHAM810101.lag4-ASSAY_ORGANISM', 'MA-CHAM810101.lag5-ASSAY_ORGANISM', 'MA-CHAM810101.lag6-ASSAY_ORGANISM', 'MA-CHAM810101.lag7-ASSAY_ORGANISM', 'MA-CHAM810101.lag8-ASSAY_ORGANISM', 'MA-CHAM810101.lag9-ASSAY_ORGANISM', 'MA-CHAM810101.lag10-ASSAY_ORGANISM', 'MA-CHAM810101.lag11-ASSAY_ORGANISM', 'MA-CHAM810101.lag12-ASSAY_ORGANISM', 'MA-CHAM810101.lag13-ASSAY_ORGANISM', 'MA-CHAM810101.lag14-ASSAY_ORGANISM', 'MA-CHAM810101.lag15-ASSAY_ORGANISM', 'MA-CHAM810101.lag16-ASSAY_ORGANISM', 'MA-CHAM810101.lag17-ASSAY_ORGANISM', 'MA-CHAM810101.lag18-ASSAY_ORGANISM', 'MA-CHAM810101.lag19-ASSAY_ORGANISM', 'MA-CHAM810101.lag20-ASSAY_ORGANISM', 'MA-CHAM810101.lag21-ASSAY_ORGANISM', 'MA-CHAM810101.lag22-ASSAY_ORGANISM', 'MA-CHAM810101.lag23-ASSAY_ORGANISM', 'MA-CHAM810101.lag24-ASSAY_ORGANISM', 'MA-CHAM810101.lag25-ASSAY_ORGANISM', 'MA-CHAM810101.lag26-ASSAY_ORGANISM', 'MA-CHAM810101.lag27-ASSAY_ORGANISM', 'MA-CHAM810101.lag28-ASSAY_ORGANISM', 'MA-CHAM810101.lag29-ASSAY_ORGANISM', 'MA-CHAM810101.lag30-ASSAY_ORGANISM', 'MA-comp_A-ASSAY_ORGANISM', 'MA-comp_R-ASSAY_ORGANISM', 'MA-comp_N-ASSAY_ORGANISM', 'MA-comp_D-ASSAY_ORGANISM', 'MA-comp_C-ASSAY_ORGANISM', 'MA-comp_E-ASSAY_ORGANISM', 'MA-comp_Q-ASSAY_ORGANISM', 'MA-comp_G-ASSAY_ORGANISM', 'MA-comp_H-ASSAY_ORGANISM', 'MA-comp_I-ASSAY_ORGANISM', 'MA-comp_L-ASSAY_ORGANISM', 'MA-comp_K-ASSAY_ORGANISM', 'MA-comp_M-ASSAY_ORGANISM', 'MA-comp_F-ASSAY_ORGANISM', 'MA-comp_P-ASSAY_ORGANISM', 'MA-comp_S-ASSAY_ORGANISM', 'MA-comp_T-ASSAY_ORGANISM', 'MA-comp_W-ASSAY_ORGANISM', 'MA-comp_Y-ASSAY_ORGANISM', 'MA-comp_V-ASSAY_ORGANISM', 'MA-ALogP-ORGANISM', 'MA-ALogp2-ORGANISM', 'MA-AMR-ORGANISM', 'MA-apol-ORGANISM', 'MA-naAromAtom-ORGANISM', 'MA-nAromBond-ORGANISM', 'MA-nAtom-ORGANISM', 'MA-ATSc1-ORGANISM', 'MA-ATSc2-ORGANISM', 'MA-ATSc3-ORGANISM', 'MA-ATSc4-ORGANISM', 'MA-ATSc5-ORGANISM', 'MA-ATSm1-ORGANISM', 'MA-ATSm2-ORGANISM', 'MA-ATSm3-ORGANISM', 'MA-ATSm4-ORGANISM', 'MA-ATSm5-ORGANISM', 'MA-ATSp1-ORGANISM', 'MA-ATSp2-ORGANISM', 'MA-ATSp3-ORGANISM', 'MA-ATSp4-ORGANISM', 'MA-ATSp5-ORGANISM', 'MA-bpol-ORGANISM', 'MA-nB-ORGANISM', 'MA-C1SP1-ORGANISM', 'MA-C2SP1-ORGANISM', 'MA-C1SP2-ORGANISM', 'MA-C2SP2-ORGANISM', 'MA-C3SP2-ORGANISM', 'MA-C1SP3-ORGANISM', 'MA-C2SP3-ORGANISM', 'MA-C3SP3-ORGANISM', 'MA-C4SP3-ORGANISM', 'MA-SCH.3-ORGANISM', 'MA-SCH.4-ORGANISM', 'MA-SCH.5-ORGANISM', 'MA-SCH.6-ORGANISM', 'MA-SCH.7-ORGANISM', 'MA-VCH.3-ORGANISM', 'MA-VCH.4-ORGANISM', 'MA-VCH.5-ORGANISM', 'MA-VCH.6-ORGANISM', 'MA-VCH.7-ORGANISM', 'MA-SC.3-ORGANISM', 'MA-SC.4-ORGANISM', 'MA-SC.5-ORGANISM', 'MA-SC.6-ORGANISM', 'MA-VC.3-ORGANISM', 'MA-VC.4-ORGANISM', 'MA-VC.5-ORGANISM', 'MA-VC.6-ORGANISM', 'MA-SPC.4-ORGANISM', 'MA-SPC.5-ORGANISM', 'MA-SPC.6-ORGANISM', 'MA-VPC.4-ORGANISM', 'MA-VPC.5-ORGANISM', 'MA-VPC.6-ORGANISM', 'MA-SP.0-ORGANISM', 'MA-SP.1-ORGANISM', 'MA-SP.2-ORGANISM', 'MA-SP.3-ORGANISM', 'MA-SP.4-ORGANISM', 'MA-SP.5-ORGANISM', 'MA-SP.6-ORGANISM', 'MA-SP.7-ORGANISM', 'MA-VP.0-ORGANISM', 'MA-VP.1-ORGANISM', 'MA-VP.2-ORGANISM', 'MA-VP.3-ORGANISM', 'MA-VP.4-ORGANISM', 'MA-VP.5-ORGANISM', 'MA-VP.6-ORGANISM', 'MA-VP.7-ORGANISM', 'MA-ECCEN-ORGANISM', 'MA-fragC-ORGANISM', 'MA-nHBAcc-ORGANISM', 'MA-nHBDon-ORGANISM', 'MA-HybRatio-ORGANISM', 'MA-Kier1-ORGANISM', 'MA-Kier2-ORGANISM', 'MA-Kier3-ORGANISM', 'MA-khs.sCH3-ORGANISM', 'MA-khs.ssCH2-ORGANISM', 'MA-khs.dsCH-ORGANISM', 'MA-khs.aaCH-ORGANISM', 'MA-khs.sssCH-ORGANISM', 'MA-khs.tsC-ORGANISM', 'MA-khs.dssC-ORGANISM', 'MA-khs.aasC-ORGANISM', 'MA-khs.aaaC-ORGANISM', 'MA-khs.ssssC-ORGANISM', 'MA-khs.sNH2-ORGANISM', 'MA-khs.ssNH-ORGANISM', 'MA-khs.aaNH-ORGANISM', 'MA-khs.tN-ORGANISM', 'MA-khs.dsN-ORGANISM', 'MA-khs.aaN-ORGANISM', 'MA-khs.sssN-ORGANISM', 'MA-khs.aasN-ORGANISM', 'MA-khs.sOH-ORGANISM', 'MA-khs.dO-ORGANISM', 'MA-khs.ssO-ORGANISM', 'MA-khs.aaO-ORGANISM', 'MA-khs.sF-ORGANISM', 'MA-khs.ssS-ORGANISM', 'MA-khs.aaS-ORGANISM', 'MA-khs.ddssS-ORGANISM', 'MA-khs.sCl-ORGANISM', 'MA-khs.sBr-ORGANISM', 'MA-nAtomLC-ORGANISM', 'MA-nAtomP-ORGANISM', 'MA-nAtomLAC-ORGANISM', 'MA-MDEC.11-ORGANISM', 'MA-MDEC.12-ORGANISM', 'MA-MDEC.13-ORGANISM', 'MA-MDEC.14-ORGANISM', 'MA-MDEC.22-ORGANISM', 'MA-MDEC.23-ORGANISM', 'MA-MDEC.24-ORGANISM', 'MA-MDEC.33-ORGANISM', 'MA-MDEC.34-ORGANISM', 'MA-MDEC.44-ORGANISM', 'MA-MDEO.11-ORGANISM', 'MA-MDEO.12-ORGANISM', 'MA-MDEO.22-ORGANISM', 'MA-MDEN.11-ORGANISM', 'MA-MDEN.12-ORGANISM', 'MA-MDEN.13-ORGANISM', 'MA-MDEN.22-ORGANISM', 'MA-MDEN.23-ORGANISM', 'MA-MDEN.33-ORGANISM', 'MA-MLogP-ORGANISM', 'MA-PetitjeanNumber-ORGANISM', 'MA-topoShape-ORGANISM', 'MA-nRotB-ORGANISM', 'MA-LipinskiFailures-ORGANISM', 'MA-TopoPSA-ORGANISM', 'MA-VAdjMat-ORGANISM', 'MA-MW-ORGANISM', 'MA-WPATH-ORGANISM', 'MA-WPOL-ORGANISM', 'MA-XLogP-ORGANISM', 'MA-Zagreb-ORGANISM', 'MA-CHOC760101.lag1-ORGANISM', 'MA-CHOC760101.lag2-ORGANISM', 'MA-CHOC760101.lag3-ORGANISM', 'MA-CHOC760101.lag4-ORGANISM', 'MA-CHOC760101.lag5-ORGANISM', 'MA-CHOC760101.lag6-ORGANISM', 'MA-CHOC760101.lag7-ORGANISM', 'MA-CHOC760101.lag8-ORGANISM', 'MA-CHOC760101.lag9-ORGANISM', 'MA-CHOC760101.lag10-ORGANISM', 'MA-CHOC760101.lag11-ORGANISM', 'MA-CHOC760101.lag12-ORGANISM', 'MA-CHOC760101.lag13-ORGANISM', 'MA-CHOC760101.lag14-ORGANISM', 'MA-CHOC760101.lag15-ORGANISM', 'MA-CHOC760101.lag16-ORGANISM', 'MA-CHOC760101.lag17-ORGANISM', 'MA-CHOC760101.lag18-ORGANISM', 'MA-CHOC760101.lag19-ORGANISM', 'MA-CHOC760101.lag20-ORGANISM', 'MA-CHOC760101.lag21-ORGANISM', 'MA-CHOC760101.lag22-ORGANISM', 'MA-CHOC760101.lag23-ORGANISM', 'MA-CHOC760101.lag24-ORGANISM', 'MA-CHOC760101.lag25-ORGANISM', 'MA-CHOC760101.lag26-ORGANISM', 'MA-CHOC760101.lag27-ORGANISM', 'MA-CHOC760101.lag28-ORGANISM', 'MA-CHOC760101.lag29-ORGANISM', 'MA-CHOC760101.lag30-ORGANISM', 'MA-BIGC670101.lag1-ORGANISM', 'MA-BIGC670101.lag2-ORGANISM', 'MA-BIGC670101.lag3-ORGANISM', 'MA-BIGC670101.lag4-ORGANISM', 'MA-BIGC670101.lag5-ORGANISM', 'MA-BIGC670101.lag6-ORGANISM', 'MA-BIGC670101.lag7-ORGANISM', 'MA-BIGC670101.lag8-ORGANISM', 'MA-BIGC670101.lag9-ORGANISM', 'MA-BIGC670101.lag10-ORGANISM', 'MA-BIGC670101.lag11-ORGANISM', 'MA-BIGC670101.lag12-ORGANISM', 'MA-BIGC670101.lag13-ORGANISM', 'MA-BIGC670101.lag14-ORGANISM', 'MA-BIGC670101.lag15-ORGANISM', 'MA-BIGC670101.lag16-ORGANISM', 'MA-BIGC670101.lag17-ORGANISM', 'MA-BIGC670101.lag18-ORGANISM', 'MA-BIGC670101.lag19-ORGANISM', 'MA-BIGC670101.lag20-ORGANISM', 'MA-BIGC670101.lag21-ORGANISM', 'MA-BIGC670101.lag22-ORGANISM', 'MA-BIGC670101.lag23-ORGANISM', 'MA-BIGC670101.lag24-ORGANISM', 'MA-BIGC670101.lag25-ORGANISM', 'MA-BIGC670101.lag26-ORGANISM', 'MA-BIGC670101.lag27-ORGANISM', 'MA-BIGC670101.lag28-ORGANISM', 'MA-BIGC670101.lag29-ORGANISM', 'MA-BIGC670101.lag30-ORGANISM', 'MA-CHAM810101.lag1-ORGANISM', 'MA-CHAM810101.lag2-ORGANISM', 'MA-CHAM810101.lag3-ORGANISM', 'MA-CHAM810101.lag4-ORGANISM', 'MA-CHAM810101.lag5-ORGANISM', 'MA-CHAM810101.lag6-ORGANISM', 'MA-CHAM810101.lag7-ORGANISM', 'MA-CHAM810101.lag8-ORGANISM', 'MA-CHAM810101.lag9-ORGANISM', 'MA-CHAM810101.lag10-ORGANISM', 'MA-CHAM810101.lag11-ORGANISM', 'MA-CHAM810101.lag12-ORGANISM', 'MA-CHAM810101.lag13-ORGANISM', 'MA-CHAM810101.lag14-ORGANISM', 'MA-CHAM810101.lag15-ORGANISM', 'MA-CHAM810101.lag16-ORGANISM', 'MA-CHAM810101.lag17-ORGANISM', 'MA-CHAM810101.lag18-ORGANISM', 'MA-CHAM810101.lag19-ORGANISM', 'MA-CHAM810101.lag20-ORGANISM', 'MA-CHAM810101.lag21-ORGANISM', 'MA-CHAM810101.lag22-ORGANISM', 'MA-CHAM810101.lag23-ORGANISM', 'MA-CHAM810101.lag24-ORGANISM', 'MA-CHAM810101.lag25-ORGANISM', 'MA-CHAM810101.lag26-ORGANISM', 'MA-CHAM810101.lag27-ORGANISM', 'MA-CHAM810101.lag28-ORGANISM', 'MA-CHAM810101.lag29-ORGANISM', 'MA-CHAM810101.lag30-ORGANISM', 'MA-comp_A-ORGANISM', 'MA-comp_R-ORGANISM', 'MA-comp_N-ORGANISM', 'MA-comp_D-ORGANISM', 'MA-comp_C-ORGANISM', 'MA-comp_E-ORGANISM', 'MA-comp_Q-ORGANISM', 'MA-comp_G-ORGANISM', 'MA-comp_H-ORGANISM', 'MA-comp_I-ORGANISM', 'MA-comp_L-ORGANISM', 'MA-comp_K-ORGANISM', 'MA-comp_M-ORGANISM', 'MA-comp_F-ORGANISM', 'MA-comp_P-ORGANISM', 'MA-comp_S-ORGANISM', 'MA-comp_T-ORGANISM', 'MA-comp_W-ORGANISM', 'MA-comp_Y-ORGANISM', 'MA-comp_V-ORGANISM', 'MA-ALogP-TARGET_CHEMBLID', 'MA-ALogp2-TARGET_CHEMBLID', 'MA-AMR-TARGET_CHEMBLID', 'MA-apol-TARGET_CHEMBLID', 'MA-naAromAtom-TARGET_CHEMBLID', 'MA-nAromBond-TARGET_CHEMBLID', 'MA-nAtom-TARGET_CHEMBLID', 'MA-ATSc1-TARGET_CHEMBLID', 'MA-ATSc2-TARGET_CHEMBLID', 'MA-ATSc3-TARGET_CHEMBLID', 'MA-ATSc4-TARGET_CHEMBLID', 'MA-ATSc5-TARGET_CHEMBLID', 'MA-ATSm1-TARGET_CHEMBLID', 'MA-ATSm2-TARGET_CHEMBLID', 'MA-ATSm3-TARGET_CHEMBLID', 'MA-ATSm4-TARGET_CHEMBLID', 'MA-ATSm5-TARGET_CHEMBLID', 'MA-ATSp1-TARGET_CHEMBLID', 'MA-ATSp2-TARGET_CHEMBLID', 'MA-ATSp3-TARGET_CHEMBLID', 'MA-ATSp4-TARGET_CHEMBLID', 'MA-ATSp5-TARGET_CHEMBLID', 'MA-bpol-TARGET_CHEMBLID', 'MA-nB-TARGET_CHEMBLID', 'MA-C1SP1-TARGET_CHEMBLID', 'MA-C2SP1-TARGET_CHEMBLID', 'MA-C1SP2-TARGET_CHEMBLID', 'MA-C2SP2-TARGET_CHEMBLID', 'MA-C3SP2-TARGET_CHEMBLID', 'MA-C1SP3-TARGET_CHEMBLID', 'MA-C2SP3-TARGET_CHEMBLID', 'MA-C3SP3-TARGET_CHEMBLID', 'MA-C4SP3-TARGET_CHEMBLID', 'MA-SCH.3-TARGET_CHEMBLID', 'MA-SCH.4-TARGET_CHEMBLID', 'MA-SCH.5-TARGET_CHEMBLID', 'MA-SCH.6-TARGET_CHEMBLID', 'MA-SCH.7-TARGET_CHEMBLID', 'MA-VCH.3-TARGET_CHEMBLID', 'MA-VCH.4-TARGET_CHEMBLID', 'MA-VCH.5-TARGET_CHEMBLID', 'MA-VCH.6-TARGET_CHEMBLID', 'MA-VCH.7-TARGET_CHEMBLID', 'MA-SC.3-TARGET_CHEMBLID', 'MA-SC.4-TARGET_CHEMBLID', 'MA-SC.5-TARGET_CHEMBLID', 'MA-SC.6-TARGET_CHEMBLID', 'MA-VC.3-TARGET_CHEMBLID', 'MA-VC.4-TARGET_CHEMBLID', 'MA-VC.5-TARGET_CHEMBLID', 'MA-VC.6-TARGET_CHEMBLID', 'MA-SPC.4-TARGET_CHEMBLID', 'MA-SPC.5-TARGET_CHEMBLID', 'MA-SPC.6-TARGET_CHEMBLID', 'MA-VPC.4-TARGET_CHEMBLID', 'MA-VPC.5-TARGET_CHEMBLID', 'MA-VPC.6-TARGET_CHEMBLID', 'MA-SP.0-TARGET_CHEMBLID', 'MA-SP.1-TARGET_CHEMBLID', 'MA-SP.2-TARGET_CHEMBLID', 'MA-SP.3-TARGET_CHEMBLID', 'MA-SP.4-TARGET_CHEMBLID', 'MA-SP.5-TARGET_CHEMBLID', 'MA-SP.6-TARGET_CHEMBLID', 'MA-SP.7-TARGET_CHEMBLID', 'MA-VP.0-TARGET_CHEMBLID', 'MA-VP.1-TARGET_CHEMBLID', 'MA-VP.2-TARGET_CHEMBLID', 'MA-VP.3-TARGET_CHEMBLID', 'MA-VP.4-TARGET_CHEMBLID', 'MA-VP.5-TARGET_CHEMBLID', 'MA-VP.6-TARGET_CHEMBLID', 'MA-VP.7-TARGET_CHEMBLID', 'MA-ECCEN-TARGET_CHEMBLID', 'MA-fragC-TARGET_CHEMBLID', 'MA-nHBAcc-TARGET_CHEMBLID', 'MA-nHBDon-TARGET_CHEMBLID', 'MA-HybRatio-TARGET_CHEMBLID', 'MA-Kier1-TARGET_CHEMBLID', 'MA-Kier2-TARGET_CHEMBLID', 'MA-Kier3-TARGET_CHEMBLID', 'MA-khs.sCH3-TARGET_CHEMBLID', 'MA-khs.ssCH2-TARGET_CHEMBLID', 'MA-khs.dsCH-TARGET_CHEMBLID', 'MA-khs.aaCH-TARGET_CHEMBLID', 'MA-khs.sssCH-TARGET_CHEMBLID', 'MA-khs.tsC-TARGET_CHEMBLID', 'MA-khs.dssC-TARGET_CHEMBLID', 'MA-khs.aasC-TARGET_CHEMBLID', 'MA-khs.aaaC-TARGET_CHEMBLID', 'MA-khs.ssssC-TARGET_CHEMBLID', 'MA-khs.sNH2-TARGET_CHEMBLID', 'MA-khs.ssNH-TARGET_CHEMBLID', 'MA-khs.aaNH-TARGET_CHEMBLID', 'MA-khs.tN-TARGET_CHEMBLID', 'MA-khs.dsN-TARGET_CHEMBLID', 'MA-khs.aaN-TARGET_CHEMBLID', 'MA-khs.sssN-TARGET_CHEMBLID', 'MA-khs.aasN-TARGET_CHEMBLID', 'MA-khs.sOH-TARGET_CHEMBLID', 'MA-khs.dO-TARGET_CHEMBLID', 'MA-khs.ssO-TARGET_CHEMBLID', 'MA-khs.aaO-TARGET_CHEMBLID', 'MA-khs.sF-TARGET_CHEMBLID', 'MA-khs.ssS-TARGET_CHEMBLID', 'MA-khs.aaS-TARGET_CHEMBLID', 'MA-khs.ddssS-TARGET_CHEMBLID', 'MA-khs.sCl-TARGET_CHEMBLID', 'MA-khs.sBr-TARGET_CHEMBLID', 'MA-nAtomLC-TARGET_CHEMBLID', 'MA-nAtomP-TARGET_CHEMBLID', 'MA-nAtomLAC-TARGET_CHEMBLID', 'MA-MDEC.11-TARGET_CHEMBLID', 'MA-MDEC.12-TARGET_CHEMBLID', 'MA-MDEC.13-TARGET_CHEMBLID', 'MA-MDEC.14-TARGET_CHEMBLID', 'MA-MDEC.22-TARGET_CHEMBLID', 'MA-MDEC.23-TARGET_CHEMBLID', 'MA-MDEC.24-TARGET_CHEMBLID', 'MA-MDEC.33-TARGET_CHEMBLID', 'MA-MDEC.34-TARGET_CHEMBLID', 'MA-MDEC.44-TARGET_CHEMBLID', 'MA-MDEO.11-TARGET_CHEMBLID', 'MA-MDEO.12-TARGET_CHEMBLID', 'MA-MDEO.22-TARGET_CHEMBLID', 'MA-MDEN.11-TARGET_CHEMBLID', 'MA-MDEN.12-TARGET_CHEMBLID', 'MA-MDEN.13-TARGET_CHEMBLID', 'MA-MDEN.22-TARGET_CHEMBLID', 'MA-MDEN.23-TARGET_CHEMBLID', 'MA-MDEN.33-TARGET_CHEMBLID', 'MA-MLogP-TARGET_CHEMBLID', 'MA-PetitjeanNumber-TARGET_CHEMBLID', 'MA-topoShape-TARGET_CHEMBLID', 'MA-nRotB-TARGET_CHEMBLID', 'MA-LipinskiFailures-TARGET_CHEMBLID', 'MA-TopoPSA-TARGET_CHEMBLID', 'MA-VAdjMat-TARGET_CHEMBLID', 'MA-MW-TARGET_CHEMBLID', 'MA-WPATH-TARGET_CHEMBLID', 'MA-WPOL-TARGET_CHEMBLID', 'MA-XLogP-TARGET_CHEMBLID', 'MA-Zagreb-TARGET_CHEMBLID', 'MA-CHOC760101.lag1-TARGET_CHEMBLID', 'MA-CHOC760101.lag2-TARGET_CHEMBLID', 'MA-CHOC760101.lag3-TARGET_CHEMBLID', 'MA-CHOC760101.lag4-TARGET_CHEMBLID', 'MA-CHOC760101.lag5-TARGET_CHEMBLID', 'MA-CHOC760101.lag6-TARGET_CHEMBLID', 'MA-CHOC760101.lag7-TARGET_CHEMBLID', 'MA-CHOC760101.lag8-TARGET_CHEMBLID', 'MA-CHOC760101.lag9-TARGET_CHEMBLID', 'MA-CHOC760101.lag10-TARGET_CHEMBLID', 'MA-CHOC760101.lag11-TARGET_CHEMBLID', 'MA-CHOC760101.lag12-TARGET_CHEMBLID', 'MA-CHOC760101.lag13-TARGET_CHEMBLID', 'MA-CHOC760101.lag14-TARGET_CHEMBLID', 'MA-CHOC760101.lag15-TARGET_CHEMBLID', 'MA-CHOC760101.lag16-TARGET_CHEMBLID', 'MA-CHOC760101.lag17-TARGET_CHEMBLID', 'MA-CHOC760101.lag18-TARGET_CHEMBLID', 'MA-CHOC760101.lag19-TARGET_CHEMBLID', 'MA-CHOC760101.lag20-TARGET_CHEMBLID', 'MA-CHOC760101.lag21-TARGET_CHEMBLID', 'MA-CHOC760101.lag22-TARGET_CHEMBLID', 'MA-CHOC760101.lag23-TARGET_CHEMBLID', 'MA-CHOC760101.lag24-TARGET_CHEMBLID', 'MA-CHOC760101.lag25-TARGET_CHEMBLID', 'MA-CHOC760101.lag26-TARGET_CHEMBLID', 'MA-CHOC760101.lag27-TARGET_CHEMBLID', 'MA-CHOC760101.lag28-TARGET_CHEMBLID', 'MA-CHOC760101.lag29-TARGET_CHEMBLID', 'MA-CHOC760101.lag30-TARGET_CHEMBLID', 'MA-BIGC670101.lag1-TARGET_CHEMBLID', 'MA-BIGC670101.lag2-TARGET_CHEMBLID', 'MA-BIGC670101.lag3-TARGET_CHEMBLID', 'MA-BIGC670101.lag4-TARGET_CHEMBLID', 'MA-BIGC670101.lag5-TARGET_CHEMBLID', 'MA-BIGC670101.lag6-TARGET_CHEMBLID', 'MA-BIGC670101.lag7-TARGET_CHEMBLID', 'MA-BIGC670101.lag8-TARGET_CHEMBLID', 'MA-BIGC670101.lag9-TARGET_CHEMBLID', 'MA-BIGC670101.lag10-TARGET_CHEMBLID', 'MA-BIGC670101.lag11-TARGET_CHEMBLID', 'MA-BIGC670101.lag12-TARGET_CHEMBLID', 'MA-BIGC670101.lag13-TARGET_CHEMBLID', 'MA-BIGC670101.lag14-TARGET_CHEMBLID', 'MA-BIGC670101.lag15-TARGET_CHEMBLID', 'MA-BIGC670101.lag16-TARGET_CHEMBLID', 'MA-BIGC670101.lag17-TARGET_CHEMBLID', 'MA-BIGC670101.lag18-TARGET_CHEMBLID', 'MA-BIGC670101.lag19-TARGET_CHEMBLID', 'MA-BIGC670101.lag20-TARGET_CHEMBLID', 'MA-BIGC670101.lag21-TARGET_CHEMBLID', 'MA-BIGC670101.lag22-TARGET_CHEMBLID', 'MA-BIGC670101.lag23-TARGET_CHEMBLID', 'MA-BIGC670101.lag24-TARGET_CHEMBLID', 'MA-BIGC670101.lag25-TARGET_CHEMBLID', 'MA-BIGC670101.lag26-TARGET_CHEMBLID', 'MA-BIGC670101.lag27-TARGET_CHEMBLID', 'MA-BIGC670101.lag28-TARGET_CHEMBLID', 'MA-BIGC670101.lag29-TARGET_CHEMBLID', 'MA-BIGC670101.lag30-TARGET_CHEMBLID', 'MA-CHAM810101.lag1-TARGET_CHEMBLID', 'MA-CHAM810101.lag2-TARGET_CHEMBLID', 'MA-CHAM810101.lag3-TARGET_CHEMBLID', 'MA-CHAM810101.lag4-TARGET_CHEMBLID', 'MA-CHAM810101.lag5-TARGET_CHEMBLID', 'MA-CHAM810101.lag6-TARGET_CHEMBLID', 'MA-CHAM810101.lag7-TARGET_CHEMBLID', 'MA-CHAM810101.lag8-TARGET_CHEMBLID', 'MA-CHAM810101.lag9-TARGET_CHEMBLID', 'MA-CHAM810101.lag10-TARGET_CHEMBLID', 'MA-CHAM810101.lag11-TARGET_CHEMBLID', 'MA-CHAM810101.lag12-TARGET_CHEMBLID', 'MA-CHAM810101.lag13-TARGET_CHEMBLID', 'MA-CHAM810101.lag14-TARGET_CHEMBLID', 'MA-CHAM810101.lag15-TARGET_CHEMBLID', 'MA-CHAM810101.lag16-TARGET_CHEMBLID', 'MA-CHAM810101.lag17-TARGET_CHEMBLID', 'MA-CHAM810101.lag18-TARGET_CHEMBLID', 'MA-CHAM810101.lag19-TARGET_CHEMBLID', 'MA-CHAM810101.lag20-TARGET_CHEMBLID', 'MA-CHAM810101.lag21-TARGET_CHEMBLID', 'MA-CHAM810101.lag22-TARGET_CHEMBLID', 'MA-CHAM810101.lag23-TARGET_CHEMBLID', 'MA-CHAM810101.lag24-TARGET_CHEMBLID', 'MA-CHAM810101.lag25-TARGET_CHEMBLID', 'MA-CHAM810101.lag26-TARGET_CHEMBLID', 'MA-CHAM810101.lag27-TARGET_CHEMBLID', 'MA-CHAM810101.lag28-TARGET_CHEMBLID', 'MA-CHAM810101.lag29-TARGET_CHEMBLID', 'MA-CHAM810101.lag30-TARGET_CHEMBLID', 'MA-comp_A-TARGET_CHEMBLID', 'MA-comp_R-TARGET_CHEMBLID', 'MA-comp_N-TARGET_CHEMBLID', 'MA-comp_D-TARGET_CHEMBLID', 'MA-comp_C-TARGET_CHEMBLID', 'MA-comp_E-TARGET_CHEMBLID', 'MA-comp_Q-TARGET_CHEMBLID', 'MA-comp_G-TARGET_CHEMBLID', 'MA-comp_H-TARGET_CHEMBLID', 'MA-comp_I-TARGET_CHEMBLID', 'MA-comp_L-TARGET_CHEMBLID', 'MA-comp_K-TARGET_CHEMBLID', 'MA-comp_M-TARGET_CHEMBLID', 'MA-comp_F-TARGET_CHEMBLID', 'MA-comp_P-TARGET_CHEMBLID', 'MA-comp_S-TARGET_CHEMBLID', 'MA-comp_T-TARGET_CHEMBLID', 'MA-comp_W-TARGET_CHEMBLID', 'MA-comp_Y-TARGET_CHEMBLID', 'MA-comp_V-TARGET_CHEMBLID', 'Lij']\n"
     ]
    }
   ],
   "source": [
    "# read G1 MAs\n",
    "print('-> Reading source dataset:','s.ds_MA_G1.csv','...')\n",
    "df_G1 = pd.read_csv(os.path.join(WorkingFolder, 's.ds_MA_G1.csv'))\n",
    "print('Columns:',len(df_G1.columns),'Rows:',len(df_G1))\n",
    "print('Done')\n",
    "print(list(df_G1.columns))"
   ]
  },
  {
   "cell_type": "code",
   "execution_count": 56,
   "metadata": {},
   "outputs": [
    {
     "name": "stdout",
     "output_type": "stream",
     "text": [
      "-> Reading: fs-rf.s.ds_MA_ts.csv ...\n",
      "Columns: 121 Rows: 3227\n",
      "Done\n",
      "['MA-C1SP1-STANDARD_TYPE_UNITSj', 'MA-khs.sBr-STANDARD_TYPE_UNITSj', 'MA-khs.tN-STANDARD_TYPE_UNITSj', 'MA-khs.dsN-STANDARD_TYPE_UNITSj', 'MA-C4SP3-STANDARD_TYPE_UNITSj', 'MA-khs.ddssS-STANDARD_TYPE_UNITSj', 'MA-khs.aaS-STANDARD_TYPE_UNITSj', 'MA-khs.ssssC-STANDARD_TYPE_UNITSj', 'MA-MDEC.44-STANDARD_TYPE_UNITSj', 'MA-khs.tsC-STANDARD_TYPE_UNITSj', 'MA-khs.dsN-ASSAY_CHEMBLID', 'MA-khs.aaS-ASSAY_CHEMBLID', 'MA-C3SP3-ASSAY_CHEMBLID', 'MA-MDEN.11-ASSAY_CHEMBLID', 'MA-khs.dsCH-ASSAY_CHEMBLID', 'MA-MDEO.12-ASSAY_CHEMBLID', 'MA-WPATH-ASSAY_CHEMBLID', 'MA-khs.aasN-ASSAY_CHEMBLID', 'MA-LipinskiFailures-ASSAY_CHEMBLID', 'MA-PetitjeanNumber-ASSAY_CHEMBLID', 'MA-MDEC.23-ASSAY_TYPE', 'MA-MDEC.33-ASSAY_TYPE', 'MA-MDEN.11-ASSAY_TYPE', 'MA-khs.tsC-ASSAY_TYPE', 'MA-SP.1-ASSAY_TYPE', 'MA-SP.2-ASSAY_TYPE', 'MA-SP.4-ASSAY_TYPE', 'MA-SP.5-ASSAY_TYPE', 'MA-VP.1-ASSAY_TYPE', 'MA-VP.5-ASSAY_TYPE', 'MA-naAromAtom-ASSAY_ORGANISM', 'MA-ATSm1-ASSAY_ORGANISM', 'MA-SP.0-ASSAY_ORGANISM', 'MA-SP.5-ASSAY_ORGANISM', 'MA-SP.4-ASSAY_ORGANISM', 'MA-SP.3-ASSAY_ORGANISM', 'MA-SP.2-ASSAY_ORGANISM', 'MA-SP.1-ASSAY_ORGANISM', 'MA-SPC.5-ASSAY_ORGANISM', 'MA-VP.0-ASSAY_ORGANISM', 'MA-nB-ORGANISM', 'MA-SCH.6-ORGANISM', 'MA-ATSp5-ORGANISM', 'MA-ATSm4-ORGANISM', 'MA-VCH.5-ORGANISM', 'MA-SPC.6-ORGANISM', 'MA-ATSm3-ORGANISM', 'MA-ATSm2-ORGANISM', 'MA-ATSm1-ORGANISM', 'MA-naAromAtom-ORGANISM', 'MA-topoShape-TARGET_CHEMBLID', 'MA-PetitjeanNumber-TARGET_CHEMBLID', 'MA-MDEO.22-TARGET_CHEMBLID', 'MA-MDEN.11-TARGET_CHEMBLID', 'MA-MDEN.12-TARGET_CHEMBLID', 'MA-MDEN.13-TARGET_CHEMBLID', 'MA-MDEN.23-TARGET_CHEMBLID', 'MA-MDEN.33-TARGET_CHEMBLID', 'MA-LipinskiFailures-TARGET_CHEMBLID', 'MA-VAdjMat-TARGET_CHEMBLID', 'MA-BIGC670101.lag11-STANDARD_TYPE_UNITSj', 'MA-comp_W-STANDARD_TYPE_UNITSj', 'MA-BIGC670101.lag13-STANDARD_TYPE_UNITSj', 'MA-CHAM810101.lag27-STANDARD_TYPE_UNITSj', 'MA-BIGC670101.lag3-STANDARD_TYPE_UNITSj', 'MA-BIGC670101.lag23-STANDARD_TYPE_UNITSj', 'MA-comp_D-STANDARD_TYPE_UNITSj', 'MA-CHOC760101.lag17-STANDARD_TYPE_UNITSj', 'MA-BIGC670101.lag29-STANDARD_TYPE_UNITSj', 'MA-CHOC760101.lag2-STANDARD_TYPE_UNITSj', 'MA-CHAM810101.lag14-ASSAY_CHEMBLID', 'MA-CHAM810101.lag3-ASSAY_CHEMBLID', 'MA-CHAM810101.lag13-ASSAY_CHEMBLID', 'MA-CHAM810101.lag12-ASSAY_CHEMBLID', 'MA-CHAM810101.lag11-ASSAY_CHEMBLID', 'MA-CHAM810101.lag10-ASSAY_CHEMBLID', 'MA-CHAM810101.lag8-ASSAY_CHEMBLID', 'MA-CHAM810101.lag7-ASSAY_CHEMBLID', 'MA-CHAM810101.lag5-ASSAY_CHEMBLID', 'MA-CHAM810101.lag4-ASSAY_CHEMBLID', 'MA-CHAM810101.lag3-ASSAY_TYPE', 'MA-CHAM810101.lag14-ASSAY_TYPE', 'MA-CHAM810101.lag13-ASSAY_TYPE', 'MA-CHAM810101.lag12-ASSAY_TYPE', 'MA-CHAM810101.lag11-ASSAY_TYPE', 'MA-CHAM810101.lag10-ASSAY_TYPE', 'MA-CHAM810101.lag9-ASSAY_TYPE', 'MA-CHAM810101.lag8-ASSAY_TYPE', 'MA-CHAM810101.lag7-ASSAY_TYPE', 'MA-CHAM810101.lag6-ASSAY_TYPE', 'MA-comp_V-ASSAY_ORGANISM', 'MA-comp_W-ASSAY_ORGANISM', 'MA-comp_Y-ASSAY_ORGANISM', 'MA-CHOC760101.lag1-ASSAY_ORGANISM', 'MA-comp_T-ASSAY_ORGANISM', 'MA-comp_S-ASSAY_ORGANISM', 'MA-CHAM810101.lag5-ASSAY_ORGANISM', 'MA-CHAM810101.lag17-ASSAY_ORGANISM', 'MA-CHAM810101.lag15-ASSAY_ORGANISM', 'MA-CHAM810101.lag14-ASSAY_ORGANISM', 'MA-CHAM810101.lag15-ORGANISM', 'MA-CHAM810101.lag11-ORGANISM', 'MA-CHAM810101.lag12-ORGANISM', 'MA-CHAM810101.lag13-ORGANISM', 'MA-CHAM810101.lag14-ORGANISM', 'MA-BIGC670101.lag29-ORGANISM', 'MA-CHAM810101.lag16-ORGANISM', 'MA-CHAM810101.lag17-ORGANISM', 'MA-CHAM810101.lag9-ORGANISM', 'MA-CHAM810101.lag18-ORGANISM', 'MA-comp_S-TARGET_CHEMBLID', 'MA-CHOC760101.lag27-TARGET_CHEMBLID', 'MA-CHAM810101.lag10-TARGET_CHEMBLID', 'MA-CHAM810101.lag21-TARGET_CHEMBLID', 'MA-CHAM810101.lag20-TARGET_CHEMBLID', 'MA-CHAM810101.lag19-TARGET_CHEMBLID', 'MA-CHAM810101.lag18-TARGET_CHEMBLID', 'MA-CHAM810101.lag17-TARGET_CHEMBLID', 'MA-CHAM810101.lag16-TARGET_CHEMBLID', 'MA-CHAM810101.lag15-TARGET_CHEMBLID', 'Lij']\n"
     ]
    }
   ],
   "source": [
    "# get seleted feature names from fs-rf.s.ds_MA_ts.csv\n",
    "print('-> Reading:','fs-rf.s.ds_MA_ts.csv','...')\n",
    "df_sel = pd.read_csv(os.path.join(WorkingFolder, 'fs-rf.s.ds_MA_ts.csv'))\n",
    "print('Columns:',len(df_sel.columns),'Rows:',len(df_sel))\n",
    "print('Done')\n",
    "print(list(df_sel.columns))"
   ]
  },
  {
   "cell_type": "code",
   "execution_count": 57,
   "metadata": {},
   "outputs": [
    {
     "data": {
      "text/plain": [
       "set()"
      ]
     },
     "execution_count": 57,
     "metadata": {},
     "output_type": "execute_result"
    }
   ],
   "source": [
    "# check repeated column names\n",
    "l = list(df_sel.columns)\n",
    "set([x for x in l if l.count(x) > 1])"
   ]
  },
  {
   "cell_type": "code",
   "execution_count": 58,
   "metadata": {},
   "outputs": [
    {
     "name": "stdout",
     "output_type": "stream",
     "text": [
      "Sel Columns: 121 Sel Rows: 1384\n"
     ]
    }
   ],
   "source": [
    "df_G1_sel = df_G1[df_sel.columns]\n",
    "print('Sel Columns:',len(df_G1_sel.columns),'Sel Rows:',len(df_G1_sel))"
   ]
  },
  {
   "cell_type": "code",
   "execution_count": 41,
   "metadata": {},
   "outputs": [
    {
     "data": {
      "text/html": [
       "<div>\n",
       "<style scoped>\n",
       "    .dataframe tbody tr th:only-of-type {\n",
       "        vertical-align: middle;\n",
       "    }\n",
       "\n",
       "    .dataframe tbody tr th {\n",
       "        vertical-align: top;\n",
       "    }\n",
       "\n",
       "    .dataframe thead th {\n",
       "        text-align: right;\n",
       "    }\n",
       "</style>\n",
       "<table border=\"1\" class=\"dataframe\">\n",
       "  <thead>\n",
       "    <tr style=\"text-align: right;\">\n",
       "      <th></th>\n",
       "      <th>MA-C1SP1-STANDARD_TYPE_UNITSj</th>\n",
       "      <th>MA-khs.sBr-STANDARD_TYPE_UNITSj</th>\n",
       "      <th>MA-khs.tN-STANDARD_TYPE_UNITSj</th>\n",
       "      <th>MA-khs.dsN-STANDARD_TYPE_UNITSj</th>\n",
       "      <th>MA-C4SP3-STANDARD_TYPE_UNITSj</th>\n",
       "      <th>MA-khs.ddssS-STANDARD_TYPE_UNITSj</th>\n",
       "      <th>MA-khs.aaS-STANDARD_TYPE_UNITSj</th>\n",
       "      <th>MA-khs.ssssC-STANDARD_TYPE_UNITSj</th>\n",
       "      <th>MA-MDEC.44-STANDARD_TYPE_UNITSj</th>\n",
       "      <th>MA-khs.tsC-STANDARD_TYPE_UNITSj</th>\n",
       "      <th>...</th>\n",
       "      <th>MA-CHOC760101.lag27-TARGET_CHEMBLID</th>\n",
       "      <th>MA-CHAM810101.lag10-TARGET_CHEMBLID</th>\n",
       "      <th>MA-CHAM810101.lag21-TARGET_CHEMBLID</th>\n",
       "      <th>MA-CHAM810101.lag20-TARGET_CHEMBLID</th>\n",
       "      <th>MA-CHAM810101.lag19-TARGET_CHEMBLID</th>\n",
       "      <th>MA-CHAM810101.lag18-TARGET_CHEMBLID</th>\n",
       "      <th>MA-CHAM810101.lag17-TARGET_CHEMBLID</th>\n",
       "      <th>MA-CHAM810101.lag16-TARGET_CHEMBLID</th>\n",
       "      <th>MA-CHAM810101.lag15-TARGET_CHEMBLID</th>\n",
       "      <th>Lij</th>\n",
       "    </tr>\n",
       "  </thead>\n",
       "  <tbody>\n",
       "    <tr>\n",
       "      <th>0</th>\n",
       "      <td>-0.248570</td>\n",
       "      <td>11.182644</td>\n",
       "      <td>-0.240237</td>\n",
       "      <td>-0.427112</td>\n",
       "      <td>-0.180841</td>\n",
       "      <td>-0.581455</td>\n",
       "      <td>-0.377548</td>\n",
       "      <td>-0.424674</td>\n",
       "      <td>-0.080655</td>\n",
       "      <td>-0.248570</td>\n",
       "      <td>...</td>\n",
       "      <td>-1.460794</td>\n",
       "      <td>-1.116396</td>\n",
       "      <td>-1.981279</td>\n",
       "      <td>1.403685</td>\n",
       "      <td>-0.935244</td>\n",
       "      <td>-0.455293</td>\n",
       "      <td>2.108246</td>\n",
       "      <td>-0.423082</td>\n",
       "      <td>-0.146818</td>\n",
       "      <td>-1</td>\n",
       "    </tr>\n",
       "    <tr>\n",
       "      <th>1</th>\n",
       "      <td>-0.248570</td>\n",
       "      <td>11.182644</td>\n",
       "      <td>-0.240237</td>\n",
       "      <td>-0.427112</td>\n",
       "      <td>-0.180841</td>\n",
       "      <td>-0.581455</td>\n",
       "      <td>-0.377548</td>\n",
       "      <td>-0.424674</td>\n",
       "      <td>-0.080655</td>\n",
       "      <td>-0.248570</td>\n",
       "      <td>...</td>\n",
       "      <td>-1.460794</td>\n",
       "      <td>-1.116396</td>\n",
       "      <td>-1.981279</td>\n",
       "      <td>1.403685</td>\n",
       "      <td>-0.935244</td>\n",
       "      <td>-0.455293</td>\n",
       "      <td>2.108246</td>\n",
       "      <td>-0.423082</td>\n",
       "      <td>-0.146818</td>\n",
       "      <td>-1</td>\n",
       "    </tr>\n",
       "    <tr>\n",
       "      <th>2</th>\n",
       "      <td>-0.248570</td>\n",
       "      <td>11.182644</td>\n",
       "      <td>-0.240237</td>\n",
       "      <td>-0.427112</td>\n",
       "      <td>-0.180841</td>\n",
       "      <td>-0.581455</td>\n",
       "      <td>-0.377548</td>\n",
       "      <td>-0.424674</td>\n",
       "      <td>-0.080655</td>\n",
       "      <td>-0.248570</td>\n",
       "      <td>...</td>\n",
       "      <td>-1.460794</td>\n",
       "      <td>-1.116396</td>\n",
       "      <td>-1.981279</td>\n",
       "      <td>1.403685</td>\n",
       "      <td>-0.935244</td>\n",
       "      <td>-0.455293</td>\n",
       "      <td>2.108246</td>\n",
       "      <td>-0.423082</td>\n",
       "      <td>-0.146818</td>\n",
       "      <td>-1</td>\n",
       "    </tr>\n",
       "    <tr>\n",
       "      <th>3</th>\n",
       "      <td>-0.144075</td>\n",
       "      <td>11.211137</td>\n",
       "      <td>-0.139239</td>\n",
       "      <td>-0.101706</td>\n",
       "      <td>-0.324011</td>\n",
       "      <td>-0.151540</td>\n",
       "      <td>-0.263791</td>\n",
       "      <td>-0.444773</td>\n",
       "      <td>-0.102556</td>\n",
       "      <td>-0.144075</td>\n",
       "      <td>...</td>\n",
       "      <td>-1.460794</td>\n",
       "      <td>-1.116396</td>\n",
       "      <td>-1.981279</td>\n",
       "      <td>1.403685</td>\n",
       "      <td>-0.935244</td>\n",
       "      <td>-0.455293</td>\n",
       "      <td>2.108246</td>\n",
       "      <td>-0.423082</td>\n",
       "      <td>-0.146818</td>\n",
       "      <td>-1</td>\n",
       "    </tr>\n",
       "    <tr>\n",
       "      <th>4</th>\n",
       "      <td>-0.144075</td>\n",
       "      <td>11.211137</td>\n",
       "      <td>-0.139239</td>\n",
       "      <td>-0.101706</td>\n",
       "      <td>-0.324011</td>\n",
       "      <td>-0.151540</td>\n",
       "      <td>-0.263791</td>\n",
       "      <td>-0.444773</td>\n",
       "      <td>-0.102556</td>\n",
       "      <td>-0.144075</td>\n",
       "      <td>...</td>\n",
       "      <td>-1.460794</td>\n",
       "      <td>-1.116396</td>\n",
       "      <td>-1.981279</td>\n",
       "      <td>1.403685</td>\n",
       "      <td>-0.935244</td>\n",
       "      <td>-0.455293</td>\n",
       "      <td>2.108246</td>\n",
       "      <td>-0.423082</td>\n",
       "      <td>-0.146818</td>\n",
       "      <td>-1</td>\n",
       "    </tr>\n",
       "  </tbody>\n",
       "</table>\n",
       "<p>5 rows × 121 columns</p>\n",
       "</div>"
      ],
      "text/plain": [
       "   MA-C1SP1-STANDARD_TYPE_UNITSj  MA-khs.sBr-STANDARD_TYPE_UNITSj  \\\n",
       "0                      -0.248570                        11.182644   \n",
       "1                      -0.248570                        11.182644   \n",
       "2                      -0.248570                        11.182644   \n",
       "3                      -0.144075                        11.211137   \n",
       "4                      -0.144075                        11.211137   \n",
       "\n",
       "   MA-khs.tN-STANDARD_TYPE_UNITSj  MA-khs.dsN-STANDARD_TYPE_UNITSj  \\\n",
       "0                       -0.240237                        -0.427112   \n",
       "1                       -0.240237                        -0.427112   \n",
       "2                       -0.240237                        -0.427112   \n",
       "3                       -0.139239                        -0.101706   \n",
       "4                       -0.139239                        -0.101706   \n",
       "\n",
       "   MA-C4SP3-STANDARD_TYPE_UNITSj  MA-khs.ddssS-STANDARD_TYPE_UNITSj  \\\n",
       "0                      -0.180841                          -0.581455   \n",
       "1                      -0.180841                          -0.581455   \n",
       "2                      -0.180841                          -0.581455   \n",
       "3                      -0.324011                          -0.151540   \n",
       "4                      -0.324011                          -0.151540   \n",
       "\n",
       "   MA-khs.aaS-STANDARD_TYPE_UNITSj  MA-khs.ssssC-STANDARD_TYPE_UNITSj  \\\n",
       "0                        -0.377548                          -0.424674   \n",
       "1                        -0.377548                          -0.424674   \n",
       "2                        -0.377548                          -0.424674   \n",
       "3                        -0.263791                          -0.444773   \n",
       "4                        -0.263791                          -0.444773   \n",
       "\n",
       "   MA-MDEC.44-STANDARD_TYPE_UNITSj  MA-khs.tsC-STANDARD_TYPE_UNITSj ...   \\\n",
       "0                        -0.080655                        -0.248570 ...    \n",
       "1                        -0.080655                        -0.248570 ...    \n",
       "2                        -0.080655                        -0.248570 ...    \n",
       "3                        -0.102556                        -0.144075 ...    \n",
       "4                        -0.102556                        -0.144075 ...    \n",
       "\n",
       "   MA-CHOC760101.lag27-TARGET_CHEMBLID  MA-CHAM810101.lag10-TARGET_CHEMBLID  \\\n",
       "0                            -1.460794                            -1.116396   \n",
       "1                            -1.460794                            -1.116396   \n",
       "2                            -1.460794                            -1.116396   \n",
       "3                            -1.460794                            -1.116396   \n",
       "4                            -1.460794                            -1.116396   \n",
       "\n",
       "   MA-CHAM810101.lag21-TARGET_CHEMBLID  MA-CHAM810101.lag20-TARGET_CHEMBLID  \\\n",
       "0                            -1.981279                             1.403685   \n",
       "1                            -1.981279                             1.403685   \n",
       "2                            -1.981279                             1.403685   \n",
       "3                            -1.981279                             1.403685   \n",
       "4                            -1.981279                             1.403685   \n",
       "\n",
       "   MA-CHAM810101.lag19-TARGET_CHEMBLID  MA-CHAM810101.lag18-TARGET_CHEMBLID  \\\n",
       "0                            -0.935244                            -0.455293   \n",
       "1                            -0.935244                            -0.455293   \n",
       "2                            -0.935244                            -0.455293   \n",
       "3                            -0.935244                            -0.455293   \n",
       "4                            -0.935244                            -0.455293   \n",
       "\n",
       "   MA-CHAM810101.lag17-TARGET_CHEMBLID  MA-CHAM810101.lag16-TARGET_CHEMBLID  \\\n",
       "0                             2.108246                            -0.423082   \n",
       "1                             2.108246                            -0.423082   \n",
       "2                             2.108246                            -0.423082   \n",
       "3                             2.108246                            -0.423082   \n",
       "4                             2.108246                            -0.423082   \n",
       "\n",
       "   MA-CHAM810101.lag15-TARGET_CHEMBLID  Lij  \n",
       "0                            -0.146818   -1  \n",
       "1                            -0.146818   -1  \n",
       "2                            -0.146818   -1  \n",
       "3                            -0.146818   -1  \n",
       "4                            -0.146818   -1  \n",
       "\n",
       "[5 rows x 121 columns]"
      ]
     },
     "execution_count": 41,
     "metadata": {},
     "output_type": "execute_result"
    }
   ],
   "source": [
    "df_G1_sel.head()"
   ]
  },
  {
   "cell_type": "code",
   "execution_count": 59,
   "metadata": {},
   "outputs": [
    {
     "name": "stdout",
     "output_type": "stream",
     "text": [
      "-> Saving: fs-rf.s.ds_MA_G1.csv ...\n",
      "Done!\n"
     ]
    }
   ],
   "source": [
    "# save the fs-rf.s.ds_MA_G1.csv\n",
    "print('-> Saving:','fs-rf.s.ds_MA_G1.csv','...')\n",
    "df_G1_sel.to_csv(os.path.join(WorkingFolder, 'fs-rf.s.ds_MA_G1.csv'), index=False)\n",
    "print('Done!')"
   ]
  },
  {
   "cell_type": "code",
   "execution_count": null,
   "metadata": {},
   "outputs": [],
   "source": []
  }
 ],
 "metadata": {
  "kernelspec": {
   "display_name": "Python 3",
   "language": "python",
   "name": "python3"
  },
  "language_info": {
   "codemirror_mode": {
    "name": "ipython",
    "version": 3
   },
   "file_extension": ".py",
   "mimetype": "text/x-python",
   "name": "python",
   "nbconvert_exporter": "python",
   "pygments_lexer": "ipython3",
   "version": "3.5.2"
  }
 },
 "nbformat": 4,
 "nbformat_minor": 2
}
